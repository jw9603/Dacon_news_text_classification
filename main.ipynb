{
 "cells": [
  {
   "cell_type": "markdown",
   "metadata": {},
   "source": [
    "https://dacon.io/competitions/official/235747/codeshare/3054?page=1&dtype=recent"
   ]
  },
  {
   "cell_type": "code",
   "execution_count": 1,
   "metadata": {},
   "outputs": [
    {
     "name": "stderr",
     "output_type": "stream",
     "text": [
      "c:\\Users\\jaeng\\anaconda3\\envs\\Ethics-Korean\\lib\\site-packages\\tqdm\\auto.py:22: TqdmWarning: IProgress not found. Please update jupyter and ipywidgets. See https://ipywidgets.readthedocs.io/en/stable/user_install.html\n",
      "  from .autonotebook import tqdm as notebook_tqdm\n"
     ]
    }
   ],
   "source": [
    "import pandas as pd\n",
    "import os \n",
    "import torch"
   ]
  },
  {
   "cell_type": "code",
   "execution_count": 2,
   "metadata": {},
   "outputs": [
    {
     "name": "stdout",
     "output_type": "stream",
     "text": [
      "cpu\n"
     ]
    }
   ],
   "source": [
    "if torch.cuda.is_available():\n",
    "    device = 'cuda:0'\n",
    "else:\n",
    "    device = 'cpu'\n",
    "\n",
    "print(device)"
   ]
  },
  {
   "cell_type": "markdown",
   "metadata": {},
   "source": [
    "# Preprocessing"
   ]
  },
  {
   "cell_type": "code",
   "execution_count": 3,
   "metadata": {},
   "outputs": [],
   "source": [
    "PATH = './dataset/'"
   ]
  },
  {
   "cell_type": "code",
   "execution_count": 25,
   "metadata": {},
   "outputs": [],
   "source": [
    "train_data = pd.read_csv(os.path.join(PATH, 'train_data.csv'), encoding='utf-8')\n",
    "test_data = pd.read_csv(os.path.join(PATH, 'test_data.csv'), encoding='utf-8')\n",
    "\n",
    "topic_dict = pd.read_csv(os.path.join(PATH, 'topic_dict.csv'), encoding='utf-8')"
   ]
  },
  {
   "cell_type": "code",
   "execution_count": 28,
   "metadata": {},
   "outputs": [
    {
     "data": {
      "text/html": [
       "<div>\n",
       "<style scoped>\n",
       "    .dataframe tbody tr th:only-of-type {\n",
       "        vertical-align: middle;\n",
       "    }\n",
       "\n",
       "    .dataframe tbody tr th {\n",
       "        vertical-align: top;\n",
       "    }\n",
       "\n",
       "    .dataframe thead th {\n",
       "        text-align: right;\n",
       "    }\n",
       "</style>\n",
       "<table border=\"1\" class=\"dataframe\">\n",
       "  <thead>\n",
       "    <tr style=\"text-align: right;\">\n",
       "      <th></th>\n",
       "      <th>title</th>\n",
       "      <th>topic_idx</th>\n",
       "    </tr>\n",
       "  </thead>\n",
       "  <tbody>\n",
       "    <tr>\n",
       "      <th>0</th>\n",
       "      <td>인천→핀란드 항공기 결항…휴가철 여행객 분통</td>\n",
       "      <td>4</td>\n",
       "    </tr>\n",
       "    <tr>\n",
       "      <th>1</th>\n",
       "      <td>실리콘밸리 넘어서겠다…구글 15조원 들여 美전역 거점화</td>\n",
       "      <td>4</td>\n",
       "    </tr>\n",
       "    <tr>\n",
       "      <th>2</th>\n",
       "      <td>이란 외무 긴장완화 해결책은 미국이 경제전쟁 멈추는 것</td>\n",
       "      <td>4</td>\n",
       "    </tr>\n",
       "    <tr>\n",
       "      <th>3</th>\n",
       "      <td>NYT 클린턴 측근韓기업 특수관계 조명…공과 사 맞물려종합</td>\n",
       "      <td>4</td>\n",
       "    </tr>\n",
       "    <tr>\n",
       "      <th>4</th>\n",
       "      <td>시진핑 트럼프에 중미 무역협상 조속 타결 희망</td>\n",
       "      <td>4</td>\n",
       "    </tr>\n",
       "    <tr>\n",
       "      <th>...</th>\n",
       "      <td>...</td>\n",
       "      <td>...</td>\n",
       "    </tr>\n",
       "    <tr>\n",
       "      <th>45649</th>\n",
       "      <td>KB금융 미국 IB 스티펠과 제휴…선진국 시장 공략</td>\n",
       "      <td>1</td>\n",
       "    </tr>\n",
       "    <tr>\n",
       "      <th>45650</th>\n",
       "      <td>1보 서울시교육청 신종코로나 확산에 개학 연기·휴업 검토</td>\n",
       "      <td>2</td>\n",
       "    </tr>\n",
       "    <tr>\n",
       "      <th>45651</th>\n",
       "      <td>게시판 키움증권 2020 키움 영웅전 실전투자대회</td>\n",
       "      <td>1</td>\n",
       "    </tr>\n",
       "    <tr>\n",
       "      <th>45652</th>\n",
       "      <td>답변하는 배기동 국립중앙박물관장</td>\n",
       "      <td>2</td>\n",
       "    </tr>\n",
       "    <tr>\n",
       "      <th>45653</th>\n",
       "      <td>2020 한국인터넷기자상 시상식 내달 1일 개최…특별상 김성후</td>\n",
       "      <td>2</td>\n",
       "    </tr>\n",
       "  </tbody>\n",
       "</table>\n",
       "<p>45654 rows × 2 columns</p>\n",
       "</div>"
      ],
      "text/plain": [
       "                                    title  topic_idx\n",
       "0                인천→핀란드 항공기 결항…휴가철 여행객 분통          4\n",
       "1          실리콘밸리 넘어서겠다…구글 15조원 들여 美전역 거점화          4\n",
       "2          이란 외무 긴장완화 해결책은 미국이 경제전쟁 멈추는 것          4\n",
       "3        NYT 클린턴 측근韓기업 특수관계 조명…공과 사 맞물려종합          4\n",
       "4               시진핑 트럼프에 중미 무역협상 조속 타결 희망          4\n",
       "...                                   ...        ...\n",
       "45649        KB금융 미국 IB 스티펠과 제휴…선진국 시장 공략          1\n",
       "45650     1보 서울시교육청 신종코로나 확산에 개학 연기·휴업 검토          2\n",
       "45651         게시판 키움증권 2020 키움 영웅전 실전투자대회          1\n",
       "45652                   답변하는 배기동 국립중앙박물관장          2\n",
       "45653  2020 한국인터넷기자상 시상식 내달 1일 개최…특별상 김성후          2\n",
       "\n",
       "[45654 rows x 2 columns]"
      ]
     },
     "execution_count": 28,
     "metadata": {},
     "output_type": "execute_result"
    }
   ],
   "source": [
    "train_data"
   ]
  },
  {
   "cell_type": "code",
   "execution_count": 27,
   "metadata": {},
   "outputs": [],
   "source": [
    "train_data = train_data.drop('index', axis=1)\n",
    "test_data = test_data.drop('index', axis=1)"
   ]
  },
  {
   "cell_type": "markdown",
   "metadata": {},
   "source": [
    "### Train Valid Split <안쓸 예정>"
   ]
  },
  {
   "cell_type": "code",
   "execution_count": 9,
   "metadata": {},
   "outputs": [
    {
     "name": "stdout",
     "output_type": "stream",
     "text": [
      "45654 45654\n"
     ]
    }
   ],
   "source": [
    "train_size = int(len(train_data)*0.7)\n",
    "valid_size = len(train_data) - train_size\n",
    "\n",
    "print(len(train_data),train_size+ valid_size)"
   ]
  },
  {
   "cell_type": "code",
   "execution_count": 10,
   "metadata": {},
   "outputs": [
    {
     "name": "stdout",
     "output_type": "stream",
     "text": [
      "31957\n",
      "13697\n"
     ]
    }
   ],
   "source": [
    "train_split_data = train_data[:train_size]\n",
    "valid_split_data = train_data[train_size:]\n",
    "\n",
    "print(len(train_split_data))\n",
    "print(len(valid_split_data))"
   ]
  },
  {
   "cell_type": "markdown",
   "metadata": {},
   "source": [
    "### <수정중> Stratified K-Fold\n",
    "\n",
    "- 데이터셋의 레이블 분포에 차이가 있기에 이를 고려한 Startified K-Fold 를 해준다.\n",
    "- Startified-5-Fold 를 이용하여 각 80%의 train_data로 학습한 모델 5개를 test데이터에 대하여 앙상블한 것을 최종 결과로 채택한다.\n",
    "- "
   ]
  },
  {
   "cell_type": "code",
   "execution_count": 30,
   "metadata": {},
   "outputs": [],
   "source": [
    "import numpy as np\n",
    "import sklearn\n",
    "from sklearn.metrics import confusion_matrix, accuracy_score\n",
    "from sklearn.model_selection import StratifiedKFold     # GT를 자동인식해서 맞게 분배한다."
   ]
  },
  {
   "cell_type": "code",
   "execution_count": 31,
   "metadata": {},
   "outputs": [],
   "source": [
    "# Cross validation, StratifiedKfold\n",
    "\n",
    "skf = StratifiedKFold(n_splits=5, shuffle=True, random_state=42)\n",
    "folds=[]\n",
    "\n",
    "# label에 비례하는 idx를 만든다.\n",
    "for train_idx, valid_idx in skf.split(train_data, train_data['topic_idx']):\n",
    "    train_idx = np.array(train_idx)\n",
    "    valid_idx = np.array(valid_idx)\n",
    "    folds.append((train_idx, valid_idx))"
   ]
  },
  {
   "cell_type": "code",
   "execution_count": 85,
   "metadata": {},
   "outputs": [],
   "source": [
    "train_data0 = train_data.iloc[folds[0][0]].reset_index(drop=True)\n",
    "train_data1 = train_data.iloc[folds[1][0]].reset_index(drop=True)\n",
    "train_data2 = train_data.iloc[folds[2][0]].reset_index(drop=True)\n",
    "train_data3 = train_data.iloc[folds[3][0]].reset_index(drop=True)\n",
    "train_data4 = train_data.iloc[folds[4][0]].reset_index(drop=True)\n",
    "\n",
    "val_data0 = train_data.iloc[folds[0][1]].reset_index(drop=True)\n",
    "val_data1 = train_data.iloc[folds[1][1]].reset_index(drop=True)\n",
    "val_data2 = train_data.iloc[folds[2][1]].reset_index(drop=True)\n",
    "val_data3 = train_data.iloc[folds[3][1]].reset_index(drop=True)\n",
    "val_data4 = train_data.iloc[folds[4][1]].reset_index(drop=True)"
   ]
  },
  {
   "cell_type": "code",
   "execution_count": null,
   "metadata": {},
   "outputs": [],
   "source": [
    "\"\"\"예시 K-fold\"\"\"\n",
    "# from random import shuffle\n",
    "# from sklearn.model_selection import KFold\n",
    "# import numpy as np\n",
    "\n",
    "# X = np.arange(16).reshape((8,-1))\n",
    "# y = np.arange(8).reshape((-1,1))\n",
    "\n",
    "# kf = KFold(n_splits=5)\n",
    "\n",
    "# for train_index, test_index in kf.split(X):\n",
    "#     print(\"TRAIN:\", train_index, \"TEST:\", test_index)\n",
    "#     X_train, X_test = X[train_index], X[test_index]\n",
    "#     y_train, y_test = y[train_index], y[test_index]"
   ]
  },
  {
   "cell_type": "code",
   "execution_count": 24,
   "metadata": {},
   "outputs": [
    {
     "name": "stdout",
     "output_type": "stream",
     "text": [
      "TRAIN: [ 4  5  6  7  8  9 10 11] TEST: [0 1 2 3]\n",
      "TRAIN: [ 0  1  2  3  7  8  9 11] TEST: [ 4  5  6 10]\n",
      "TRAIN: [ 0  1  2  3  4  5  6 10] TEST: [ 7  8  9 11]\n"
     ]
    }
   ],
   "source": [
    "\"\"\"예시 Stratified K-fold\"\"\"\n",
    "# X = np.arange(12*2).reshape((12,-1))\n",
    "# y = np.array([0,0,1,2,1,0,0,0,0,1,2,2], dtype=float)\n",
    "\n",
    "# skf = StratifiedKFold(n_splits=3)\n",
    "\n",
    "# for train_index, test_index in skf.split(X, y): # y 라벨을 인식해서 \n",
    "#     print(\"TRAIN:\", train_index, \"TEST:\", test_index)"
   ]
  },
  {
   "cell_type": "markdown",
   "metadata": {},
   "source": [
    "# Make Dataset, DataLoader"
   ]
  },
  {
   "cell_type": "code",
   "execution_count": 8,
   "metadata": {},
   "outputs": [],
   "source": [
    "# from eunjeon import Mecab\n",
    "# from kobert_tokenizer import KoBERTTokenizer\n",
    "from transformers import AdamWeightDecay\n",
    "from transformers import AutoTokenizer\n",
    "from tqdm import tqdm\n",
    "import numpy as np\n",
    "\n",
    "import torch"
   ]
  },
  {
   "cell_type": "code",
   "execution_count": 86,
   "metadata": {},
   "outputs": [],
   "source": [
    "from torch.utils.data import Dataset, DataLoader\n",
    "\n",
    "class CustomDataset(Dataset):\n",
    "    def __init__(self, data_df, tokenizer, max_seq_len, pad_idx, mode):\n",
    "        self.data = data_df\n",
    "        self.tokenizer = tokenizer\n",
    "        self.max_len = max_seq_len\n",
    "        self.pad_idx = pad_idx\n",
    "        if mode=='train' or mode=='test' or mode=='eval':\n",
    "            self.mode = mode\n",
    "        else:\n",
    "            raise Exception(f'\\'--mode\\' should be \\'train\\', \\'eval\\', \\'test\\'. But your arg is \\'{mode}\\'')\n",
    "        \n",
    "    def __len__(self):\n",
    "        return len(self.data)\n",
    "\n",
    "    def __getitem__(self, idx):\n",
    "        context = self.tokenizer.encode(self.data['title'][idx])[1:-1]\n",
    "        con_len = len(context)\n",
    "        pad_li = [self.pad_idx]*(self.max_len - con_len)\n",
    "        context += pad_li\n",
    "        context = torch.LongTensor(context)\n",
    "        \n",
    "        if self.mode == 'train':\n",
    "            label_idx = int(self.data['topic_idx'][idx])\n",
    "            label = torch.zeros(7)\n",
    "            label[label_idx] += 1\n",
    "            \n",
    "            return context, label\n",
    "        return context,"
   ]
  },
  {
   "cell_type": "code",
   "execution_count": 91,
   "metadata": {},
   "outputs": [],
   "source": [
    "BATCH_SIZE = 64\n",
    "MAX_LEN = 30\n",
    "\n",
    "tokenizer = AutoTokenizer.from_pretrained('klue/roberta-large')\n",
    "\n",
    "# make dataset\n",
    "train_dataset=[]\n",
    "train_dataset.append(CustomDataset(data_df=train_data0, tokenizer=tokenizer, max_seq_len=MAX_LEN, pad_idx = 1, mode='train'))\n",
    "train_dataset.append(CustomDataset(data_df=train_data1, tokenizer=tokenizer, max_seq_len=MAX_LEN, pad_idx = 1, mode='train'))\n",
    "train_dataset.append(CustomDataset(data_df=train_data2, tokenizer=tokenizer, max_seq_len=MAX_LEN, pad_idx = 1, mode='train'))\n",
    "train_dataset.append(CustomDataset(data_df=train_data3, tokenizer=tokenizer, max_seq_len=MAX_LEN, pad_idx = 1, mode='train'))\n",
    "train_dataset.append(CustomDataset(data_df=train_data4, tokenizer=tokenizer, max_seq_len=MAX_LEN, pad_idx = 1, mode='train'))\n",
    "train_loader = DataLoader(train_dataset[0], batch_size=BATCH_SIZE, shuffle=True)\n",
    "\n",
    "val_dataset=[]\n",
    "val_dataset.append(CustomDataset(data_df=val_data0, tokenizer=tokenizer, max_seq_len=MAX_LEN, pad_idx = 1, mode='eval'))\n",
    "val_dataset.append(CustomDataset(data_df=val_data1, tokenizer=tokenizer, max_seq_len=MAX_LEN, pad_idx = 1, mode='eval'))\n",
    "val_dataset.append(CustomDataset(data_df=val_data2, tokenizer=tokenizer, max_seq_len=MAX_LEN, pad_idx = 1, mode='eval'))\n",
    "val_dataset.append(CustomDataset(data_df=val_data3, tokenizer=tokenizer, max_seq_len=MAX_LEN, pad_idx = 1, mode='eval'))\n",
    "val_dataset.append(CustomDataset(data_df=val_data4, tokenizer=tokenizer, max_seq_len=MAX_LEN, pad_idx = 1, mode='eval'))\n",
    "val_loader = DataLoader(val_dataset[0], batch_size=BATCH_SIZE, shuffle=True)\n",
    "\n",
    "test_dataset = CustomDataset(data_df=test_data, tokenizer=tokenizer, max_seq_len=MAX_LEN, pad_idx = 1, mode='test')\n",
    "test_loader = DataLoader(test_dataset, batch_size=BATCH_SIZE, shuffle=False)"
   ]
  },
  {
   "cell_type": "markdown",
   "metadata": {},
   "source": [
    "# Build Model"
   ]
  },
  {
   "cell_type": "markdown",
   "metadata": {},
   "source": [
    "transformer 의 encdoer n개를 통과시켜, 마지막 output중 첫번째 token이 Affine Layer을 지나는 model이다.\n",
    "\n",
    "- d_model = 512\n",
    "- d_word_vec = 512\n",
    "- n_layers = 6\n",
    "- n_head = 8\n",
    "- d_inner = 2048\n",
    "- dropout = 0.1\n",
    "- n_position = 50\n",
    "- pad_idx = 1"
   ]
  },
  {
   "cell_type": "code",
   "execution_count": 92,
   "metadata": {},
   "outputs": [
    {
     "data": {
      "text/plain": [
       "1"
      ]
     },
     "execution_count": 92,
     "metadata": {},
     "output_type": "execute_result"
    }
   ],
   "source": [
    "tokenizer.vocab['[PAD]']"
   ]
  },
  {
   "cell_type": "code",
   "execution_count": 93,
   "metadata": {},
   "outputs": [],
   "source": [
    "\n",
    "from torch import nn\n",
    "from model.Models import Encoder\n",
    "from einops import rearrange\n",
    "\n",
    "def get_pad_mask(seq, pad_idx):\n",
    "    return (seq != pad_idx).unsqueeze(-2)\n",
    "\n",
    "class TransformerClassifier(nn.Module):\n",
    "    \n",
    "    def __init__(self, n_vocab, pad_idx, d_word_vec=512, d_model=512, d_inner=2048,\n",
    "                 n_layers=6, n_head=8, d_k=64, dropout=0.1, n_position=50, num_labels=7,max_seq_len=30):\n",
    "        \n",
    "        super().__init__()\n",
    "        self.encoder = Encoder(n_src_vocab=n_vocab, d_word_vec=d_word_vec, n_layers=n_layers, \n",
    "                               d_inner=d_inner, n_head=n_head, d_k=d_k, d_v=d_k, d_model=d_model, \n",
    "                               pad_idx=pad_idx, dropout=dropout, n_position=n_position, scale_emb=False)\n",
    "        self.linear1 = nn.Linear(max_seq_len*d_model, d_model, bias=True)\n",
    "        self.relu = nn.ReLU()\n",
    "        self.linear2 = nn.Linear(d_model, num_labels, bias=True)\n",
    "        self.pad_idx = pad_idx\n",
    "    \n",
    "    def forward(self, context):\n",
    "        \n",
    "        mask = get_pad_mask(context, self.pad_idx)\n",
    "        enc_output, *_ = self.encoder(context, mask)\n",
    "        lin_output = self.relu(self.linear1(rearrange(enc_output,'b s d -> b (s d)')))\n",
    "        seq_logit = self.relu(self.linear2(lin_output))\n",
    "        \n",
    "        return seq_logit"
   ]
  },
  {
   "cell_type": "markdown",
   "metadata": {},
   "source": [
    "### ERROR 5: 모델 반환모양이 ( b seq class ) 이다. ( b c ) 이어야하는데..?\n",
    "\n",
    "in model forward... context.shape torch.Size([64, 30])\n",
    "in model forward... mask.shape torch.Size([64, 1, 30])\n",
    "in model forward... enc_output.shape torch.Size([64, 30, 512])      # linear 을 잘못 수행하였다.\n",
    "in model forward... after_linear.shape torch.Size([64, 30, 7])\n",
    "-> linear 추가해서, 한번 더 거치게 하였다."
   ]
  },
  {
   "cell_type": "markdown",
   "metadata": {},
   "source": [
    "# Train !\n"
   ]
  },
  {
   "cell_type": "code",
   "execution_count": 94,
   "metadata": {},
   "outputs": [],
   "source": [
    "CFG = {\n",
    "    'EPOCHS':30,\n",
    "    'LEARNING_RATE':1e-5,\n",
    "    \"BATCH_SIZE\":64,\n",
    "    'SEED':42\n",
    "}"
   ]
  },
  {
   "cell_type": "code",
   "execution_count": 27,
   "metadata": {},
   "outputs": [],
   "source": [
    "classifier_model = TransformerClassifier(n_vocab=32000, pad_idx=tokenizer.vocab['[PAD]'],\n",
    "                                        d_word_vec=512, d_model=512, d_inner=2048,\n",
    "                                        n_layers=6, n_head=8, d_k=64, dropout=0.1, n_position=MAX_LEN)\n",
    "\n",
    "optimizer = torch.optim.Adam(params = classifier_model.parameters(), lr = CFG['LEARNING_RATE'])\n",
    "criterion = nn.CrossEntropyLoss()"
   ]
  },
  {
   "cell_type": "code",
   "execution_count": null,
   "metadata": {},
   "outputs": [],
   "source": [
    "def evaluate():"
   ]
  },
  {
   "cell_type": "code",
   "execution_count": 95,
   "metadata": {},
   "outputs": [],
   "source": [
    "\n",
    "def train(model, train_loader, optimizer, device, criterion):\n",
    "    model.to(device)\n",
    "    criterion = criterion.to(device)   # loss\n",
    "    # metric = pass     # TODO 1: find appropriate metric\n",
    "\n",
    "    for epoch in range(1,CFG['EPOCHS']+1):\n",
    "        model.train()\n",
    "        train_loss = []\n",
    "        # train_metric = [] # TODO 1\n",
    "\n",
    "        for X,Y in tqdm(train_loader, desc='Training ...'):\n",
    "            X = X.to(device)\n",
    "            Y = Y.to(device)\n",
    "            \n",
    "            optimizer.zero_grad()\n",
    "            output = model(X)\n",
    "            loss = criterion(output, Y)\n",
    "            with torch.no_grad():\n",
    "                # metric_name = metric  # TODO 1\n",
    "                pass\n",
    "            \n",
    "            loss.backward()\n",
    "            optimizer.step()\n",
    "            \n",
    "            train_loss.append(loss.item())\n",
    "            # train_metric.append(metric_name.item())   # TODO 1\n",
    "        \n",
    "        print(f\"Epoch {epoch}  |  Train Loss : [{np.mean(train_loss):.5f}]  |  Train Metric: not yet \")   # TODO 1\n",
    "        \n",
    "        # TODO 2: 지금 epoch의 metric이 더 좋으면, 더 좋은 모델을 best model에 저장한다.\n",
    "        pass\n"
   ]
  },
  {
   "cell_type": "code",
   "execution_count": 96,
   "metadata": {},
   "outputs": [
    {
     "name": "stdout",
     "output_type": "stream",
     "text": [
      "Fold0 Processing ...\n"
     ]
    },
    {
     "name": "stderr",
     "output_type": "stream",
     "text": [
      "Training ...:   0%|          | 1/571 [00:05<54:27,  5.73s/it]\n"
     ]
    },
    {
     "ename": "KeyboardInterrupt",
     "evalue": "",
     "output_type": "error",
     "traceback": [
      "\u001b[1;31m---------------------------------------------------------------------------\u001b[0m",
      "\u001b[1;31mKeyboardInterrupt\u001b[0m                         Traceback (most recent call last)",
      "\u001b[1;32mc:\\Users\\jaeng\\Desktop\\VSC\\DACON\\Dacon_news_text_classification\\main.ipynb 셀 31\u001b[0m in \u001b[0;36m<cell line: 1>\u001b[1;34m()\u001b[0m\n\u001b[0;32m      <a href='vscode-notebook-cell:/c%3A/Users/jaeng/Desktop/VSC/DACON/Dacon_news_text_classification/main.ipynb#X65sZmlsZQ%3D%3D?line=6'>7</a>\u001b[0m criterion \u001b[39m=\u001b[39m nn\u001b[39m.\u001b[39mCrossEntropyLoss()\n\u001b[0;32m      <a href='vscode-notebook-cell:/c%3A/Users/jaeng/Desktop/VSC/DACON/Dacon_news_text_classification/main.ipynb#X65sZmlsZQ%3D%3D?line=7'>8</a>\u001b[0m train_loader \u001b[39m=\u001b[39m DataLoader(train_dataset[fold], batch_size\u001b[39m=\u001b[39mBATCH_SIZE, shuffle\u001b[39m=\u001b[39m\u001b[39mTrue\u001b[39;00m)\n\u001b[1;32m---> <a href='vscode-notebook-cell:/c%3A/Users/jaeng/Desktop/VSC/DACON/Dacon_news_text_classification/main.ipynb#X65sZmlsZQ%3D%3D?line=9'>10</a>\u001b[0m train(model\u001b[39m=\u001b[39;49mclassifier_model, train_loader\u001b[39m=\u001b[39;49mtrain_loader, optimizer\u001b[39m=\u001b[39;49moptimizer, device\u001b[39m=\u001b[39;49mdevice, criterion\u001b[39m=\u001b[39;49mcriterion)\n",
      "\u001b[1;32mc:\\Users\\jaeng\\Desktop\\VSC\\DACON\\Dacon_news_text_classification\\main.ipynb 셀 31\u001b[0m in \u001b[0;36mtrain\u001b[1;34m(model, train_loader, optimizer, device, criterion)\u001b[0m\n\u001b[0;32m     <a href='vscode-notebook-cell:/c%3A/Users/jaeng/Desktop/VSC/DACON/Dacon_news_text_classification/main.ipynb#X65sZmlsZQ%3D%3D?line=12'>13</a>\u001b[0m Y \u001b[39m=\u001b[39m Y\u001b[39m.\u001b[39mto(device)\n\u001b[0;32m     <a href='vscode-notebook-cell:/c%3A/Users/jaeng/Desktop/VSC/DACON/Dacon_news_text_classification/main.ipynb#X65sZmlsZQ%3D%3D?line=14'>15</a>\u001b[0m optimizer\u001b[39m.\u001b[39mzero_grad()\n\u001b[1;32m---> <a href='vscode-notebook-cell:/c%3A/Users/jaeng/Desktop/VSC/DACON/Dacon_news_text_classification/main.ipynb#X65sZmlsZQ%3D%3D?line=15'>16</a>\u001b[0m output \u001b[39m=\u001b[39m model(X)\n\u001b[0;32m     <a href='vscode-notebook-cell:/c%3A/Users/jaeng/Desktop/VSC/DACON/Dacon_news_text_classification/main.ipynb#X65sZmlsZQ%3D%3D?line=16'>17</a>\u001b[0m loss \u001b[39m=\u001b[39m criterion(output, Y)\n\u001b[0;32m     <a href='vscode-notebook-cell:/c%3A/Users/jaeng/Desktop/VSC/DACON/Dacon_news_text_classification/main.ipynb#X65sZmlsZQ%3D%3D?line=17'>18</a>\u001b[0m \u001b[39mwith\u001b[39;00m torch\u001b[39m.\u001b[39mno_grad():\n\u001b[0;32m     <a href='vscode-notebook-cell:/c%3A/Users/jaeng/Desktop/VSC/DACON/Dacon_news_text_classification/main.ipynb#X65sZmlsZQ%3D%3D?line=18'>19</a>\u001b[0m     \u001b[39m# metric_name = metric  # TODO 1\u001b[39;00m\n",
      "File \u001b[1;32mc:\\Users\\jaeng\\anaconda3\\envs\\Ethics-Korean\\lib\\site-packages\\torch\\nn\\modules\\module.py:1130\u001b[0m, in \u001b[0;36mModule._call_impl\u001b[1;34m(self, *input, **kwargs)\u001b[0m\n\u001b[0;32m   1126\u001b[0m \u001b[39m# If we don't have any hooks, we want to skip the rest of the logic in\u001b[39;00m\n\u001b[0;32m   1127\u001b[0m \u001b[39m# this function, and just call forward.\u001b[39;00m\n\u001b[0;32m   1128\u001b[0m \u001b[39mif\u001b[39;00m \u001b[39mnot\u001b[39;00m (\u001b[39mself\u001b[39m\u001b[39m.\u001b[39m_backward_hooks \u001b[39mor\u001b[39;00m \u001b[39mself\u001b[39m\u001b[39m.\u001b[39m_forward_hooks \u001b[39mor\u001b[39;00m \u001b[39mself\u001b[39m\u001b[39m.\u001b[39m_forward_pre_hooks \u001b[39mor\u001b[39;00m _global_backward_hooks\n\u001b[0;32m   1129\u001b[0m         \u001b[39mor\u001b[39;00m _global_forward_hooks \u001b[39mor\u001b[39;00m _global_forward_pre_hooks):\n\u001b[1;32m-> 1130\u001b[0m     \u001b[39mreturn\u001b[39;00m forward_call(\u001b[39m*\u001b[39;49m\u001b[39minput\u001b[39;49m, \u001b[39m*\u001b[39;49m\u001b[39m*\u001b[39;49mkwargs)\n\u001b[0;32m   1131\u001b[0m \u001b[39m# Do not call functions when jit is used\u001b[39;00m\n\u001b[0;32m   1132\u001b[0m full_backward_hooks, non_full_backward_hooks \u001b[39m=\u001b[39m [], []\n",
      "\u001b[1;32mc:\\Users\\jaeng\\Desktop\\VSC\\DACON\\Dacon_news_text_classification\\main.ipynb 셀 31\u001b[0m in \u001b[0;36mTransformerClassifier.forward\u001b[1;34m(self, context)\u001b[0m\n\u001b[0;32m     <a href='vscode-notebook-cell:/c%3A/Users/jaeng/Desktop/VSC/DACON/Dacon_news_text_classification/main.ipynb#X65sZmlsZQ%3D%3D?line=21'>22</a>\u001b[0m \u001b[39mdef\u001b[39;00m \u001b[39mforward\u001b[39m(\u001b[39mself\u001b[39m, context):\n\u001b[0;32m     <a href='vscode-notebook-cell:/c%3A/Users/jaeng/Desktop/VSC/DACON/Dacon_news_text_classification/main.ipynb#X65sZmlsZQ%3D%3D?line=23'>24</a>\u001b[0m     mask \u001b[39m=\u001b[39m get_pad_mask(context, \u001b[39mself\u001b[39m\u001b[39m.\u001b[39mpad_idx)\n\u001b[1;32m---> <a href='vscode-notebook-cell:/c%3A/Users/jaeng/Desktop/VSC/DACON/Dacon_news_text_classification/main.ipynb#X65sZmlsZQ%3D%3D?line=24'>25</a>\u001b[0m     enc_output, \u001b[39m*\u001b[39m_ \u001b[39m=\u001b[39m \u001b[39mself\u001b[39;49m\u001b[39m.\u001b[39;49mencoder(context, mask)\n\u001b[0;32m     <a href='vscode-notebook-cell:/c%3A/Users/jaeng/Desktop/VSC/DACON/Dacon_news_text_classification/main.ipynb#X65sZmlsZQ%3D%3D?line=25'>26</a>\u001b[0m     lin_output \u001b[39m=\u001b[39m \u001b[39mself\u001b[39m\u001b[39m.\u001b[39mrelu(\u001b[39mself\u001b[39m\u001b[39m.\u001b[39mlinear1(rearrange(enc_output,\u001b[39m'\u001b[39m\u001b[39mb s d -> b (s d)\u001b[39m\u001b[39m'\u001b[39m)))\n\u001b[0;32m     <a href='vscode-notebook-cell:/c%3A/Users/jaeng/Desktop/VSC/DACON/Dacon_news_text_classification/main.ipynb#X65sZmlsZQ%3D%3D?line=26'>27</a>\u001b[0m     seq_logit \u001b[39m=\u001b[39m \u001b[39mself\u001b[39m\u001b[39m.\u001b[39mrelu(\u001b[39mself\u001b[39m\u001b[39m.\u001b[39mlinear2(lin_output))\n",
      "File \u001b[1;32mc:\\Users\\jaeng\\anaconda3\\envs\\Ethics-Korean\\lib\\site-packages\\torch\\nn\\modules\\module.py:1130\u001b[0m, in \u001b[0;36mModule._call_impl\u001b[1;34m(self, *input, **kwargs)\u001b[0m\n\u001b[0;32m   1126\u001b[0m \u001b[39m# If we don't have any hooks, we want to skip the rest of the logic in\u001b[39;00m\n\u001b[0;32m   1127\u001b[0m \u001b[39m# this function, and just call forward.\u001b[39;00m\n\u001b[0;32m   1128\u001b[0m \u001b[39mif\u001b[39;00m \u001b[39mnot\u001b[39;00m (\u001b[39mself\u001b[39m\u001b[39m.\u001b[39m_backward_hooks \u001b[39mor\u001b[39;00m \u001b[39mself\u001b[39m\u001b[39m.\u001b[39m_forward_hooks \u001b[39mor\u001b[39;00m \u001b[39mself\u001b[39m\u001b[39m.\u001b[39m_forward_pre_hooks \u001b[39mor\u001b[39;00m _global_backward_hooks\n\u001b[0;32m   1129\u001b[0m         \u001b[39mor\u001b[39;00m _global_forward_hooks \u001b[39mor\u001b[39;00m _global_forward_pre_hooks):\n\u001b[1;32m-> 1130\u001b[0m     \u001b[39mreturn\u001b[39;00m forward_call(\u001b[39m*\u001b[39;49m\u001b[39minput\u001b[39;49m, \u001b[39m*\u001b[39;49m\u001b[39m*\u001b[39;49mkwargs)\n\u001b[0;32m   1131\u001b[0m \u001b[39m# Do not call functions when jit is used\u001b[39;00m\n\u001b[0;32m   1132\u001b[0m full_backward_hooks, non_full_backward_hooks \u001b[39m=\u001b[39m [], []\n",
      "File \u001b[1;32mc:\\Users\\jaeng\\Desktop\\VSC\\DACON\\Dacon_news_text_classification\\model\\Models.py:91\u001b[0m, in \u001b[0;36mEncoder.forward\u001b[1;34m(self, src_seq, src_mask, return_attns)\u001b[0m\n\u001b[0;32m     89\u001b[0m \u001b[39m# N encoders\u001b[39;00m\n\u001b[0;32m     90\u001b[0m \u001b[39mfor\u001b[39;00m enc_layer \u001b[39min\u001b[39;00m \u001b[39mself\u001b[39m\u001b[39m.\u001b[39mlayer_stack:\n\u001b[1;32m---> 91\u001b[0m     enc_output, enc_slf_attn \u001b[39m=\u001b[39m enc_layer(enc_output, slf_attn_mask\u001b[39m=\u001b[39;49msrc_mask)\n\u001b[0;32m     92\u001b[0m     enc_slf_attn_list \u001b[39m+\u001b[39m\u001b[39m=\u001b[39m [enc_slf_attn] \u001b[39mif\u001b[39;00m return_attns \u001b[39melse\u001b[39;00m []\n\u001b[0;32m     94\u001b[0m \u001b[39m# Output\u001b[39;00m\n",
      "File \u001b[1;32mc:\\Users\\jaeng\\anaconda3\\envs\\Ethics-Korean\\lib\\site-packages\\torch\\nn\\modules\\module.py:1130\u001b[0m, in \u001b[0;36mModule._call_impl\u001b[1;34m(self, *input, **kwargs)\u001b[0m\n\u001b[0;32m   1126\u001b[0m \u001b[39m# If we don't have any hooks, we want to skip the rest of the logic in\u001b[39;00m\n\u001b[0;32m   1127\u001b[0m \u001b[39m# this function, and just call forward.\u001b[39;00m\n\u001b[0;32m   1128\u001b[0m \u001b[39mif\u001b[39;00m \u001b[39mnot\u001b[39;00m (\u001b[39mself\u001b[39m\u001b[39m.\u001b[39m_backward_hooks \u001b[39mor\u001b[39;00m \u001b[39mself\u001b[39m\u001b[39m.\u001b[39m_forward_hooks \u001b[39mor\u001b[39;00m \u001b[39mself\u001b[39m\u001b[39m.\u001b[39m_forward_pre_hooks \u001b[39mor\u001b[39;00m _global_backward_hooks\n\u001b[0;32m   1129\u001b[0m         \u001b[39mor\u001b[39;00m _global_forward_hooks \u001b[39mor\u001b[39;00m _global_forward_pre_hooks):\n\u001b[1;32m-> 1130\u001b[0m     \u001b[39mreturn\u001b[39;00m forward_call(\u001b[39m*\u001b[39;49m\u001b[39minput\u001b[39;49m, \u001b[39m*\u001b[39;49m\u001b[39m*\u001b[39;49mkwargs)\n\u001b[0;32m   1131\u001b[0m \u001b[39m# Do not call functions when jit is used\u001b[39;00m\n\u001b[0;32m   1132\u001b[0m full_backward_hooks, non_full_backward_hooks \u001b[39m=\u001b[39m [], []\n",
      "File \u001b[1;32mc:\\Users\\jaeng\\Desktop\\VSC\\DACON\\Dacon_news_text_classification\\model\\Layers.py:18\u001b[0m, in \u001b[0;36mEncoderLayer.forward\u001b[1;34m(self, enc_input, slf_attn_mask)\u001b[0m\n\u001b[0;32m     15\u001b[0m \u001b[39mdef\u001b[39;00m \u001b[39mforward\u001b[39m(\u001b[39mself\u001b[39m, enc_input, slf_attn_mask\u001b[39m=\u001b[39m\u001b[39mNone\u001b[39;00m):\n\u001b[0;32m     16\u001b[0m     enc_output, enc_slf_attn \u001b[39m=\u001b[39m \u001b[39mself\u001b[39m\u001b[39m.\u001b[39mslf_attn(\n\u001b[0;32m     17\u001b[0m         enc_input, enc_input, enc_input, mask\u001b[39m=\u001b[39mslf_attn_mask)\n\u001b[1;32m---> 18\u001b[0m     enc_output \u001b[39m=\u001b[39m \u001b[39mself\u001b[39;49m\u001b[39m.\u001b[39;49mpos_ffn(enc_output)\n\u001b[0;32m     19\u001b[0m     \u001b[39mreturn\u001b[39;00m enc_output, enc_slf_attn\n",
      "File \u001b[1;32mc:\\Users\\jaeng\\anaconda3\\envs\\Ethics-Korean\\lib\\site-packages\\torch\\nn\\modules\\module.py:1130\u001b[0m, in \u001b[0;36mModule._call_impl\u001b[1;34m(self, *input, **kwargs)\u001b[0m\n\u001b[0;32m   1126\u001b[0m \u001b[39m# If we don't have any hooks, we want to skip the rest of the logic in\u001b[39;00m\n\u001b[0;32m   1127\u001b[0m \u001b[39m# this function, and just call forward.\u001b[39;00m\n\u001b[0;32m   1128\u001b[0m \u001b[39mif\u001b[39;00m \u001b[39mnot\u001b[39;00m (\u001b[39mself\u001b[39m\u001b[39m.\u001b[39m_backward_hooks \u001b[39mor\u001b[39;00m \u001b[39mself\u001b[39m\u001b[39m.\u001b[39m_forward_hooks \u001b[39mor\u001b[39;00m \u001b[39mself\u001b[39m\u001b[39m.\u001b[39m_forward_pre_hooks \u001b[39mor\u001b[39;00m _global_backward_hooks\n\u001b[0;32m   1129\u001b[0m         \u001b[39mor\u001b[39;00m _global_forward_hooks \u001b[39mor\u001b[39;00m _global_forward_pre_hooks):\n\u001b[1;32m-> 1130\u001b[0m     \u001b[39mreturn\u001b[39;00m forward_call(\u001b[39m*\u001b[39;49m\u001b[39minput\u001b[39;49m, \u001b[39m*\u001b[39;49m\u001b[39m*\u001b[39;49mkwargs)\n\u001b[0;32m   1131\u001b[0m \u001b[39m# Do not call functions when jit is used\u001b[39;00m\n\u001b[0;32m   1132\u001b[0m full_backward_hooks, non_full_backward_hooks \u001b[39m=\u001b[39m [], []\n",
      "File \u001b[1;32mc:\\Users\\jaeng\\Desktop\\VSC\\DACON\\Dacon_news_text_classification\\model\\SubLayers.py:81\u001b[0m, in \u001b[0;36mPositionwiseFeedForward.forward\u001b[1;34m(self, x)\u001b[0m\n\u001b[0;32m     77\u001b[0m \u001b[39mdef\u001b[39;00m \u001b[39mforward\u001b[39m(\u001b[39mself\u001b[39m, x):\n\u001b[0;32m     79\u001b[0m     residual \u001b[39m=\u001b[39m x\n\u001b[1;32m---> 81\u001b[0m     x \u001b[39m=\u001b[39m \u001b[39mself\u001b[39m\u001b[39m.\u001b[39mw_2(F\u001b[39m.\u001b[39mrelu(\u001b[39mself\u001b[39;49m\u001b[39m.\u001b[39;49mw_1(x)))   \u001b[39m# linear -> relu -> linear\u001b[39;00m\n\u001b[0;32m     82\u001b[0m     x \u001b[39m=\u001b[39m \u001b[39mself\u001b[39m\u001b[39m.\u001b[39mdropout(x)\n\u001b[0;32m     83\u001b[0m     x \u001b[39m+\u001b[39m\u001b[39m=\u001b[39m residual   \u001b[39m# add\u001b[39;00m\n",
      "File \u001b[1;32mc:\\Users\\jaeng\\anaconda3\\envs\\Ethics-Korean\\lib\\site-packages\\torch\\nn\\modules\\module.py:1130\u001b[0m, in \u001b[0;36mModule._call_impl\u001b[1;34m(self, *input, **kwargs)\u001b[0m\n\u001b[0;32m   1126\u001b[0m \u001b[39m# If we don't have any hooks, we want to skip the rest of the logic in\u001b[39;00m\n\u001b[0;32m   1127\u001b[0m \u001b[39m# this function, and just call forward.\u001b[39;00m\n\u001b[0;32m   1128\u001b[0m \u001b[39mif\u001b[39;00m \u001b[39mnot\u001b[39;00m (\u001b[39mself\u001b[39m\u001b[39m.\u001b[39m_backward_hooks \u001b[39mor\u001b[39;00m \u001b[39mself\u001b[39m\u001b[39m.\u001b[39m_forward_hooks \u001b[39mor\u001b[39;00m \u001b[39mself\u001b[39m\u001b[39m.\u001b[39m_forward_pre_hooks \u001b[39mor\u001b[39;00m _global_backward_hooks\n\u001b[0;32m   1129\u001b[0m         \u001b[39mor\u001b[39;00m _global_forward_hooks \u001b[39mor\u001b[39;00m _global_forward_pre_hooks):\n\u001b[1;32m-> 1130\u001b[0m     \u001b[39mreturn\u001b[39;00m forward_call(\u001b[39m*\u001b[39;49m\u001b[39minput\u001b[39;49m, \u001b[39m*\u001b[39;49m\u001b[39m*\u001b[39;49mkwargs)\n\u001b[0;32m   1131\u001b[0m \u001b[39m# Do not call functions when jit is used\u001b[39;00m\n\u001b[0;32m   1132\u001b[0m full_backward_hooks, non_full_backward_hooks \u001b[39m=\u001b[39m [], []\n",
      "File \u001b[1;32mc:\\Users\\jaeng\\anaconda3\\envs\\Ethics-Korean\\lib\\site-packages\\torch\\nn\\modules\\linear.py:114\u001b[0m, in \u001b[0;36mLinear.forward\u001b[1;34m(self, input)\u001b[0m\n\u001b[0;32m    113\u001b[0m \u001b[39mdef\u001b[39;00m \u001b[39mforward\u001b[39m(\u001b[39mself\u001b[39m, \u001b[39minput\u001b[39m: Tensor) \u001b[39m-\u001b[39m\u001b[39m>\u001b[39m Tensor:\n\u001b[1;32m--> 114\u001b[0m     \u001b[39mreturn\u001b[39;00m F\u001b[39m.\u001b[39;49mlinear(\u001b[39minput\u001b[39;49m, \u001b[39mself\u001b[39;49m\u001b[39m.\u001b[39;49mweight, \u001b[39mself\u001b[39;49m\u001b[39m.\u001b[39;49mbias)\n",
      "\u001b[1;31mKeyboardInterrupt\u001b[0m: "
     ]
    }
   ],
   "source": [
    "for fold in range(5):\n",
    "    print(f'Fold{fold} Processing ...')\n",
    "    classifier_model = TransformerClassifier(n_vocab=32000, pad_idx=tokenizer.vocab['[PAD]'],\n",
    "                                        d_word_vec=512, d_model=512, d_inner=2048,\n",
    "                                        n_layers=6, n_head=8, d_k=64, dropout=0.1, n_position=MAX_LEN)\n",
    "    optimizer = torch.optim.Adam(params = classifier_model.parameters(), lr = CFG['LEARNING_RATE'])\n",
    "    criterion = nn.CrossEntropyLoss()\n",
    "    train_loader = DataLoader(train_dataset[fold], batch_size=BATCH_SIZE, shuffle=True)\n",
    "    \n",
    "    train(model=classifier_model, train_loader=train_loader, optimizer=optimizer, device=device, criterion=criterion)"
   ]
  },
  {
   "cell_type": "markdown",
   "metadata": {},
   "source": [
    "### ERROR 1 : nn.embedding() 은 input Tensor가 int 형이어야한다.\n",
    "c:\\Users\\jaeng\\Desktop\\VSC\\DACON\\text_classification\\main.ipynb 셀 23 in TransformerClassifier.forward(self, context)\n",
    "...\n",
    "   2197     # remove once script supports set_grad_enabled\n",
    "   2198     _no_grad_embedding_renorm_(weight, input, max_norm, norm_type)\n",
    "-> 2199 return torch.embedding(weight, input, padding_idx, scale_grad_by_freq, sparse)\n",
    "\n",
    "RuntimeError: Expected tensor for argument #1 'indices' to have one of the following scalar types: Long, Int; but got torch.FloatTensor instead (while checking arguments for embedding)\n",
    "\n",
    "------------------------\n",
    "\n",
    "학습 해보려 하는데,\n",
    "- 모델 내부에서 int로 받아야하는 'indices'라는 놈에 floatTensor 가 들어가고있어 말썽인 상황이다. 내일 해결해봐야지.\n",
    "- torch.embedding(weight, input, padding_idx, scale_grad_by_freq, sparse) 의 첫번째 argument weight가 Int이어야하는데 Float로 들어온건가?"
   ]
  },
  {
   "cell_type": "markdown",
   "metadata": {},
   "source": [
    "### ERROR 2: \n",
    "-> 3014 return torch._C._nn.cross_entropy_loss(input, target, weight, _Reduction.get_enum(reduction), ignore_index, label_smoothing)\n",
    "\n",
    "IndexError: Target -9223372036854775808 is out of bounds.\n",
    "\n",
    "model 어딘가에서 normalization 일어나고있지 않나?\n",
    "linear 결과에 norm 추가해야하나? 다른 모델 봐야겠다.\n",
    "- Y 찍어보니 그 안에 엄청 큰 절댓값이 존재한다.. 뭐지?\n",
    "\n",
    "-1.9357e+16 이 값이, -19356592969351168 이 된다. 왜 저 값이 존재하지?\n",
    "Y label 만드는 과정에서 오류가 있을거다."
   ]
  },
  {
   "cell_type": "markdown",
   "metadata": {},
   "source": [
    "### ERROR 3: model 과 Tensor 의 .to(device) 함수 차이\n",
    "https://stackoverflow.com/questions/59560043/what-is-the-difference-between-model-todevice-and-model-model-todevice\n",
    "\n",
    "---> 36 train(classifier_model, train_loader, optimizer, device, criterion)\n",
    "AttributeError: 'TransformerClassifier' object has no attribute 'device'\n",
    "\n",
    "Model can be placed in GPU with code,\n",
    "```\n",
    "a = my_model()  # a is in cpu\n",
    "a.to(device)    # a is moved to gpu\n",
    "```\n",
    "\n",
    "But Tensor cannot be moved to GPU with the same code.\n",
    "```\n",
    "a = torch.Tensor([1,2,3])\n",
    "a.to(device)    # a is in cpu\n",
    "a = a.to(devivce)   # a is now in gpu\n",
    "```"
   ]
  },
  {
   "cell_type": "markdown",
   "metadata": {},
   "source": [
    "### ERROR 4: \n",
    "RuntimeError: CUDA error: no kernel image is available for execution on the device\n",
    "CUDA kernel errors might be asynchronously reported at some other API call,so the stacktrace below might be incorrect.\n",
    "For debugging consider passing CUDA_LAUNCH_BLOCKING=1.\n",
    "\n",
    "https://ndb796.tistory.com/744  을 보고 해결했다.\n",
    "- 현재 커널의 python 버전과, CUDA 버전이 호환되지 않아서 발생하는 문제다.\n",
    "- python 버전을 3.6 -> 3.8 업그레이드함으로 해결했다.(사실은 conda 환경을 새로 팜)\n",
    "    - 내가 가진 CUDA버전이 3.6이랑 호환이 안된다."
   ]
  },
  {
   "cell_type": "markdown",
   "metadata": {},
   "source": [
    "# Inference"
   ]
  },
  {
   "cell_type": "code",
   "execution_count": 115,
   "metadata": {},
   "outputs": [],
   "source": [
    "def predict(model, test_loader, device):\n",
    "    model.to(device)\n",
    "    model.eval()\n",
    "    preds=[]\n",
    "    with torch.no_grad():\n",
    "        for X, in tqdm(test_loader, desc='Inferencing ...'):\n",
    "            X = X.to(device)\n",
    "            \n",
    "            pred = model(X)\n",
    "            preds += pred.cpu().tolist()\n",
    "    \n",
    "    return np.array(preds)"
   ]
  },
  {
   "cell_type": "markdown",
   "metadata": {},
   "source": [
    "## Model Load"
   ]
  },
  {
   "cell_type": "code",
   "execution_count": 117,
   "metadata": {},
   "outputs": [
    {
     "name": "stderr",
     "output_type": "stream",
     "text": [
      "Inferencing ...: 100%|██████████| 143/143 [00:01<00:00, 84.14it/s]\n"
     ]
    },
    {
     "data": {
      "text/plain": [
       "array([[ 4.75264931,  5.54297447,  5.14934444,  5.79129267,  5.07579422,\n",
       "         5.10341311,  6.21081257],\n",
       "       [ 1.99309421,  1.37511873,  4.40491819,  3.47603941,  1.2998029 ,\n",
       "         0.04143048,  2.1309998 ],\n",
       "       [-7.567873  , -6.24873304, -5.76013327, -5.55805779, -6.64984131,\n",
       "        -7.18544579, -6.87943459],\n",
       "       [-7.5162816 , -6.85625982, -6.17888069, -6.01185179, -6.5558691 ,\n",
       "        -7.92228317, -6.94227695],\n",
       "       [-7.32835293, -7.20512342, -6.52390194, -6.31426334, -6.47006512,\n",
       "        -7.28777981, -7.03295183],\n",
       "       [-7.44616842, -6.97636414, -6.47363663, -6.42121935, -6.54787588,\n",
       "        -7.47561836, -6.94378901],\n",
       "       [-7.31083727, -6.91109085, -6.00631571, -6.44271135, -6.55620432,\n",
       "        -7.17786884, -6.86657715],\n",
       "       [-7.28689528, -7.11733484, -6.18641472, -6.25295305, -6.55523968,\n",
       "        -7.58078766, -6.82003736],\n",
       "       [-7.46962166, -7.14170694, -5.78266525, -6.21785402, -6.64540291,\n",
       "        -6.91075373, -7.21250248],\n",
       "       [-7.50062323, -7.03465796, -5.84874153, -6.32377052, -6.4830246 ,\n",
       "        -7.64556599, -6.92683792],\n",
       "       [-7.30036783, -7.03143311, -6.59736824, -6.74082279, -6.7029829 ,\n",
       "        -7.29615402, -7.03591585],\n",
       "       [-7.2790761 , -7.03703117, -6.5956974 , -6.78026724, -6.71272373,\n",
       "        -7.25195312, -7.05088043],\n",
       "       [-7.27301741, -7.05759811, -6.58503485, -6.7761097 , -6.69482803,\n",
       "        -7.21833181, -7.0872674 ],\n",
       "       [-7.28031826, -7.08568573, -6.58575773, -6.73575878, -6.64738083,\n",
       "        -7.2028389 , -7.14246178],\n",
       "       [-7.26647902, -7.09516621, -6.58914948, -6.67511988, -6.60895729,\n",
       "        -7.22753239, -7.21235323],\n",
       "       [-7.23023605, -7.07561302, -6.59714174, -6.65315676, -6.59371424,\n",
       "        -7.25951862, -7.25471783],\n",
       "       [-7.17375517, -7.04819107, -6.60180521, -6.68500948, -6.5823164 ,\n",
       "        -7.29077721, -7.26424742],\n",
       "       [-7.12545252, -7.02374554, -6.60341597, -6.71377754, -6.5829401 ,\n",
       "        -7.3124361 , -7.25999165],\n",
       "       [-7.12426186, -7.00790453, -6.59573555, -6.72561264, -6.58016396,\n",
       "        -7.3196187 , -7.2510848 ],\n",
       "       [-7.1847415 , -6.97405243, -6.58082771, -6.71709108, -6.57659435,\n",
       "        -7.32288933, -7.24815655],\n",
       "       [-7.25974941, -6.93405533, -6.56699181, -6.67440367, -6.59606934,\n",
       "        -7.33981085, -7.24663019],\n",
       "       [-7.29295063, -6.92344522, -6.57644844, -6.62499762, -6.63852882,\n",
       "        -7.35823011, -7.23084545],\n",
       "       [-7.27442503, -6.93656397, -6.59818077, -6.60700655, -6.68502903,\n",
       "        -7.35886669, -7.20220137],\n",
       "       [-7.26218081, -6.92452192, -6.61142635, -6.60561705, -6.70466805,\n",
       "        -7.36311913, -7.18527889],\n",
       "       [-7.2854147 , -6.91570044, -6.59515953, -6.5877552 , -6.6918664 ,\n",
       "        -7.36946058, -7.18847847],\n",
       "       [-7.36329317, -6.92685699, -6.56538105, -6.58548403, -6.6283884 ,\n",
       "        -7.34986734, -7.18504906],\n",
       "       [-7.45690966, -6.93313456, -6.54707003, -6.58773851, -6.54632473,\n",
       "        -7.37489319, -7.15178204],\n",
       "       [-7.49345064, -6.93011618, -6.54761696, -6.60167646, -6.51766491,\n",
       "        -7.447402  , -7.0703516 ],\n",
       "       [-7.45892859, -6.95957661, -6.5463047 , -6.62277412, -6.52320433,\n",
       "        -7.51579142, -6.98837662],\n",
       "       [-7.37381554, -6.98570919, -6.53893518, -6.67054987, -6.52955341,\n",
       "        -7.51463795, -6.97459984]])"
      ]
     },
     "execution_count": 117,
     "metadata": {},
     "output_type": "execute_result"
    }
   ],
   "source": [
    "# TODO 2: 가장 좋은 모델 ckpt 가져와서 load 해줘야하지만 지금은 대충 train 한거 기억하는거 그대로 가져온다.\n",
    "# 대충 하는중\n",
    "model = classifier_model\n",
    "preds = predict(model, test_loader, device)\n",
    "\n",
    "preds.shape"
   ]
  }
 ],
 "metadata": {
  "kernelspec": {
   "display_name": "Python 3.8.12 ('Ethics-Korean')",
   "language": "python",
   "name": "python3"
  },
  "language_info": {
   "codemirror_mode": {
    "name": "ipython",
    "version": 3
   },
   "file_extension": ".py",
   "mimetype": "text/x-python",
   "name": "python",
   "nbconvert_exporter": "python",
   "pygments_lexer": "ipython3",
   "version": "3.8.12"
  },
  "orig_nbformat": 4,
  "vscode": {
   "interpreter": {
    "hash": "d7b8a9d296651b950055feafaab8f47ff1cee70807e6c570958d0b27d2589bac"
   }
  }
 },
 "nbformat": 4,
 "nbformat_minor": 2
}
