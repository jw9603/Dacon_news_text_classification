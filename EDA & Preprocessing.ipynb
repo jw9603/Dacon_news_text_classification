{
 "cells": [
  {
   "cell_type": "markdown",
   "metadata": {},
   "source": [
    "# Exploratory Data Analysis"
   ]
  },
  {
   "cell_type": "code",
   "execution_count": 1,
   "metadata": {},
   "outputs": [],
   "source": [
    "import os\n",
    "\n",
    "import pandas as pd\n",
    "import numpy as np\n",
    "import matplotlib.pyplot as plt\n",
    "\n",
    "from tqdm import tqdm"
   ]
  },
  {
   "cell_type": "markdown",
   "metadata": {},
   "source": [
    "# Load Data"
   ]
  },
  {
   "cell_type": "code",
   "execution_count": 2,
   "metadata": {},
   "outputs": [],
   "source": [
    "PATH = './dataset/'\n",
    "\n",
    "train_data = pd.read_csv(os.path.join(PATH, 'train_data.csv'), encoding='utf-8')\n",
    "test_data = pd.read_csv(os.path.join(PATH, 'test_data.csv'), encoding='utf-8')\n",
    "topic_dict = pd.read_csv(os.path.join(PATH, 'topic_dict.csv'), encoding='utf-8')"
   ]
  },
  {
   "cell_type": "code",
   "execution_count": 58,
   "metadata": {},
   "outputs": [],
   "source": [
    "train_data = train_data.drop(['index'], axis=1)"
   ]
  },
  {
   "cell_type": "code",
   "execution_count": 59,
   "metadata": {},
   "outputs": [
    {
     "name": "stdout",
     "output_type": "stream",
     "text": [
      "TRAIN LABEL: \n",
      "4    7629\n",
      "2    7362\n",
      "5    6933\n",
      "6    6751\n",
      "1    6222\n",
      "3    5933\n",
      "0    4824\n",
      "Name: topic_idx, dtype: int64\n",
      "\n"
     ]
    },
    {
     "data": {
      "text/plain": [
       "'\\nTRAIN LABEL: \\n4    7629\\n2    7362\\n5    6933\\n6    6751\\n1    6222\\n3    5933\\n0    4824\\n'"
      ]
     },
     "execution_count": 59,
     "metadata": {},
     "output_type": "execute_result"
    }
   ],
   "source": [
    "# 데이터 label 별 균형 확인\n",
    "print('TRAIN LABEL: ', train_data['topic_idx'].value_counts(), sep='\\n', end='\\n\\n')\n",
    "\n",
    "\"\"\"\n",
    "TRAIN LABEL: \n",
    "4    7629\n",
    "2    7362\n",
    "5    6933\n",
    "6    6751\n",
    "1    6222\n",
    "3    5933\n",
    "0    4824\n",
    "\"\"\""
   ]
  },
  {
   "cell_type": "code",
   "execution_count": 60,
   "metadata": {},
   "outputs": [
    {
     "name": "stdout",
     "output_type": "stream",
     "text": [
      "<class 'pandas.core.frame.DataFrame'>\n",
      "RangeIndex: 45654 entries, 0 to 45653\n",
      "Data columns (total 2 columns):\n",
      " #   Column     Non-Null Count  Dtype \n",
      "---  ------     --------------  ----- \n",
      " 0   title      45654 non-null  object\n",
      " 1   topic_idx  45654 non-null  int64 \n",
      "dtypes: int64(1), object(1)\n",
      "memory usage: 713.5+ KB\n",
      "None\n",
      "\n",
      "<class 'pandas.core.frame.DataFrame'>\n",
      "RangeIndex: 9131 entries, 0 to 9130\n",
      "Data columns (total 2 columns):\n",
      " #   Column  Non-Null Count  Dtype \n",
      "---  ------  --------------  ----- \n",
      " 0   index   9131 non-null   int64 \n",
      " 1   title   9131 non-null   object\n",
      "dtypes: int64(1), object(1)\n",
      "memory usage: 142.8+ KB\n",
      "None\n"
     ]
    }
   ],
   "source": [
    "# 결측지 확인\n",
    "print(train_data.info(), end='\\n\\n')\n",
    "print(test_data.info())"
   ]
  },
  {
   "cell_type": "code",
   "execution_count": 61,
   "metadata": {},
   "outputs": [
    {
     "data": {
      "image/png": "[encoded data removed]",
      "text/plain": [
       "<Figure size 720x540 with 1 Axes>"
      ]
     },
     "metadata": {
      "needs_background": "light"
     },
     "output_type": "display_data"
    }
   ],
   "source": [
    "# label 분포\n",
    "feature = train_data['topic_idx']\n",
    "temp = feature.value_counts()\n",
    "\n",
    "plt.figure(figsize = (10, 7.5))\n",
    "plt.title('Label Counting', fontsize=20)\n",
    "\n",
    "plt.bar(temp.keys(), temp.values, width=0.5, color='b', alpha=0.5)\n",
    "# plt.text(4.85, temp.values[0]+20, s=temp.values[0]) # 5\n",
    "# plt.text(1.85, temp.values[1]+20, s=temp.values[1]) # 2\n",
    "# plt.text(0.85, temp.values[2]+20, s=temp.values[2]) # 1\n",
    "# plt.text(3.85, temp.values[3]+20, s=temp.values[3]) # 4\n",
    "\n",
    "plt.xticks(temp.keys(), fontsize=12)    # x축값\n",
    "plt.show()"
   ]
  },
  {
   "cell_type": "markdown",
   "metadata": {},
   "source": [
    "# 불용어 처리"
   ]
  },
  {
   "cell_type": "code",
   "execution_count": 65,
   "metadata": {},
   "outputs": [
    {
     "name": "stdout",
     "output_type": "stream",
     "text": [
      "인천→핀란드 항공기 결항…휴가철 여행객 분통\n",
      "실리콘밸리 넘어서겠다…구글 15조원 들여 美전역 거점화\n",
      "이란 외무 긴장완화 해결책은 미국이 경제전쟁 멈추는 것\n",
      "NYT 클린턴 측근韓기업 특수관계 조명…공과 사 맞물려종합\n",
      "시진핑 트럼프에 중미 무역협상 조속 타결 희망\n",
      "팔레스타인 가자지구서 16세 소년 이스라엘군 총격에 사망\n",
      "인도 48년 만에 파키스탄 공습…테러 캠프 폭격종합2보\n",
      "美대선 TV토론 음담패설 만회실패 트럼프…사과 대신 빌클린턴 공격해 역효과\n",
      "푸틴 한반도 상황 진전 위한 방안 김정은 위원장과 논의\n",
      "특검 면죄부 받은 트럼프 스캔들 보도 언론 맹공…국민의 적\n",
      "日 오키나와서 열린 강제징용 노동자 추도식\n",
      "이란서 최고지도자 모욕 혐의 미국인에 징역 10년 선고\n",
      "카니발 축제 보러 가자…브라질 리우에 대형 유람선 행렬\n",
      "美올랜도 병원 최악 총기 테러 부상자 치료비 안 받는다\n",
      "日 대기업 올해 평균 2.46% 임금 인상\n",
      "WMO 엘니뇨 여전히 강력…2분기엔 소멸될 듯\n",
      "이스라엘 네타냐후 유대교도 병역문제로 연정 협상 진통\n",
      "UAE 사우디 이어 美 호르무즈 호위 연합에 참여키로\n",
      "사우디군 오만해 유조선 공격 예멘반군과 연결…이란 겨냥\n",
      "개천에서 용 나와라 美사업가 모교에 1천억원 장학금 기부\n",
      "EU 브렉시트 합의 전 해야 할 일 많아…英에 경고\n",
      "스팍스운용 일본 디플레 벗어나…새로운 도약 준비 중\n",
      "트럼프 총기난사는 惡의 공격…총기규제 초당적 협력 촉구종합\n",
      "NBA 카지노업체와 스폰서 계약…美프로스포츠 사상 처음\n",
      "오바마 대통령 퇴임 후 워싱턴DC에 사무실 개소 예정\n",
      "美 전문가 트럼프 정부 북한과 정상급 관계 시도할 것\n",
      "이스라엘 네타냐후 이란에 경고…우리 전투기 도달가능 지역\n",
      "이스라엘 네타냐후 총선 한달 앞두고 우크라 방문 예정\n",
      "트럼프 탄핵보고서 통화기록에 등장한 의문의 숫자 1\n",
      "미국 산업생산 한달만에 0.1%↑…제조업 회복 기대\n",
      "셰이크 살만 AFC 회장 평양 방문…최휘 국가체육지도위원장...\n",
      "신중국70년 ①차이나 미라클…최빈국서 G2 경제대국 부상\n",
      "UAE 단교 20개월만에 카타르 왕래 화물선 허용\n",
      "송환법 반대 홍콩 집회서 임을 위한 행진곡 울려 퍼져\n",
      "말레이시아 총리 비자금 스캔들 확산…정국 긴장 고조\n",
      "이스라엘서 군복무 유대학교 학생 흉기에 찔려 숨진 채 발견\n",
      "獨하원 反이스라엘 운동 지원단체에 지원중단 결의안\n",
      "미군 정찰기 또 한반도 비행…북 방사포 발사 이후 감시 강화\n",
      "암스테르담 옴부즈맨 홍등가 출입금지 연령 정해서 이행해야\n",
      "G20 때 홍콩 문제 알리자…홍콩 시민들 릴레이 시위 예고\n",
      "美 태평양 진출 中 견제하나…日오키나와서 미사일 훈련 계획\n",
      "터키 주재 러시아 대사 총격 피습…병원 이송\n",
      "유럽인 59% 난민이 테러 가능성 키운다 인식\n",
      "김영남 우리 민족 위상 과시…뜨거운 분위기 이어가길\n",
      "이란 최고지도자 반정부시위에 美 사주한 공작\n",
      "볼턴 美출신 IS 신부 귀국불허 재확인…시민권 입증해야종합\n",
      "부르키나파소서 무장괴한들이 금광 공격…약 20명 사망\n",
      "올랜도 총기난사 최소 50명 사망…美사상 최악 총기참사종합5보\n",
      "적극행정 추진전략 및 성과공유대회 참석한 이낙연 총리\n",
      "朴대통령 한일 합의에 소녀상 언급없어…선동하면 안돼\n",
      "민주 국회의원 재보선 4곳 후보 공모에 7명 신청\n",
      "프랑스 마크롱 이집트 안정 인권문제와 분리될수 없어종합\n",
      "박찬호 현진이 10승 하니깐 생각이 나는데…\n",
      "현행 헌법과 다른 점은 ②지방자치·경제민주화 개념 강화\n",
      "고군분투 시즌 서재덕 MVP 덕큐리로 활짝 웃다종합\n",
      "트럼프 유조선 공격 사소한 일…이란과 충돌우려 속 수위조절\n",
      "이희호 여사 靑경호 24일로 만료…당분간 경호 유지될 듯\n",
      "통일농구 오늘은 친선 남북대결…김정은 관전 가능성\n",
      "임도헌 감독 신영석 중심으로 똘똘 뭉쳐 한일전 승리 따냈다\n",
      "시위대에 실탄 발사 정국 불안 속 홍콩증시 2%대 하락\n",
      "홍콩서 과격시위자 제보에 최고 1억5천만원 현상금 걸려\n",
      "靑 6자회담 틀 완전히 무시하는게 아니다\n",
      "대북확성기 방송 전면 재개…접경지 긴장 속 차분종합\n",
      "데얀·김치우 OUT 조영욱 IN…서울 과감한 재건 성과...\n",
      "다당제보다 효율적인 일당 체제…中공산당은 망하지 않는다\n",
      "문 대통령 북미합의 이행 국제사회와 협력…새시대 위해 헌신\n",
      "호날두 노쇼 유벤투스 무책임·거만 비판 수용 어려워\n",
      "월드컵 태극전사 산책과 닭갈비로 피로 해소\n",
      "北미사일 발사 정부 개성공단 체류인원 500명까지 축소종합\n",
      "朴대통령 총선 닷새만 첫 평가…평소보다 짧은 6분 발언\n",
      "한미 수석대표 협의 위해 출국하는 이도훈\n",
      "안철수·천정배 박지원과 회동…입당 삼고초려\n",
      "英 존슨 브렉시트 완수한 뒤 클린에너지 혁명 추진종합\n",
      "문대통령 아세안·APEC 일정 마치고 오늘 저녁 귀국\n",
      "北 2040개국에 12만 명 파견…하루 16시간 강제노동도\n",
      "촛불민심 받들어 국정운영…촛불 2돌 맞는 문대통령\n",
      "독재 시작했나…네이마르 PSG 회장에 카바니 이적 요구\n",
      "아시안게임 만리장성 맞서는 농구 단일팀 이문규 감독...\n",
      "스웨덴·러 외교갈등…스웨덴 비자거부에 러 추방으로 맞불\n",
      "한승혁 6⅔이닝 1실점 역투…KIA NC 완파\n",
      "이란군 트럼프 무인기 파괴 확신에 찬 거짓말 처음엔 믿어\n",
      "박지수 WNBA 코네티컷 상대로 2점·3리바운드 기록\n",
      "MLB닷컴·디애슬레틱 류현진 다음 행선지 텍사스 유력\n",
      "한국당 가짜뉴스 규제는 개인미디어 통제…입법화 반기\n",
      "우상호·박지원 상견례…1당이 내놓아야 양보할건 하겠다\n",
      "美해군총장 한일 레이더갈등에 이견 해소 노력 촉구\n",
      "NBA 로즈 개인 최다 50점 넣고 감격의 눈물\n",
      "울산한마음축구대회 개최…여성·노장부 등 40팀 참가\n",
      "지역구 후보 342명 재산 10억이상…1위 김병관 2천637억\n",
      "朴대통령 금주 안보·경제 이중 위기 극복 고삐 죈다\n",
      "터키 독일·러시아서 테러 주도한 고위 IS 지도자 체포\n",
      "화웨이 한국 기업 3곳과 5G 생태계 관련 MOU 체결\n",
      "구자철 발목 부상으로 전력 이탈…아우크스 비상\n",
      "정지석·양효진 등 프로배구 FA 37명 공시…대어급 즐비\n",
      "반년 만에 잊힌 카슈끄지…사우디 국제행사 유력인사로 붐벼\n",
      "獨외무 홍콩 시위 격화에 모든 당사자 참아야\n",
      "한화 4천20일 만의 PS vs 넥센 4년 만의 PO...\n",
      "여야 원내대표단 방미 추진…美의회에 한반도 평화 설득\n",
      "靑 창조센터장 감찰 주장에 감찰대상 아니어서 중단한 사안\n",
      "리비아 긴장 고조…수도 진격 군벌 트리폴리 공항 장악\n"
     ]
    }
   ],
   "source": [
    "for i in range(100):\n",
    "    print(train_data['title'][i])"
   ]
  },
  {
   "cell_type": "markdown",
   "metadata": {},
   "source": [
    "1. 日, 美, 韓 등 한자를 한글로 변환한다.\n",
    "    - hanja\n",
    "\n",
    "-> 그 자체로 학습먼저 해본다."
   ]
  },
  {
   "cell_type": "code",
   "execution_count": 1,
   "metadata": {},
   "outputs": [],
   "source": [
    "# !pip install hanja"
   ]
  }
 ],
 "metadata": {
  "kernelspec": {
   "display_name": "Python 3.10.6 64-bit (windows store)",
   "language": "python",
   "name": "python3"
  },
  "language_info": {
   "codemirror_mode": {
    "name": "ipython",
    "version": 3
   },
   "file_extension": ".py",
   "mimetype": "text/x-python",
   "name": "python",
   "nbconvert_exporter": "python",
   "pygments_lexer": "ipython3",
   "version": "3.10.6"
  },
  "orig_nbformat": 4,
  "vscode": {
   "interpreter": {
    "hash": "3f7ad864b9d836169f92dbcff1c341d94b30b1fc5ff915305c0d9195fb25bd8f"
   }
  }
 },
 "nbformat": 4,
 "nbformat_minor": 2
}
