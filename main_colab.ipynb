{
  "cells": [
    {
      "cell_type": "code",
      "source": [
        "from google.colab import drive\n",
        "drive.mount('/content/drive')"
      ],
      "metadata": {
        "colab": {
          "base_uri": "https://localhost:8080/"
        },
        "id": "06kbwFw2SpP6",
        "outputId": "0f92a1f7-e7c8-4afb-c987-7ef95ecf483c"
      },
      "execution_count": 1,
      "outputs": [
        {
          "output_type": "stream",
          "name": "stdout",
          "text": [
            "Mounted at /content/drive\n"
          ]
        }
      ]
    },
    {
      "cell_type": "markdown",
      "metadata": {
        "id": "QZ2ENSTjSL2c"
      },
      "source": [
        "https://dacon.io/competitions/official/235747/codeshare/3054?page=1&dtype=recent"
      ]
    },
    {
      "cell_type": "code",
      "execution_count": 3,
      "metadata": {
        "id": "eHEY500_SL2e"
      },
      "outputs": [],
      "source": [
        "import pandas as pd\n",
        "import os \n",
        "import torch"
      ]
    },
    {
      "cell_type": "code",
      "execution_count": 4,
      "metadata": {
        "colab": {
          "base_uri": "https://localhost:8080/"
        },
        "id": "C-Zkxx5GSL2f",
        "outputId": "c8cefe79-a22d-441c-a135-323192fdb0e3"
      },
      "outputs": [
        {
          "output_type": "stream",
          "name": "stdout",
          "text": [
            "cuda:0\n"
          ]
        }
      ],
      "source": [
        "if torch.cuda.is_available():\n",
        "    device = 'cuda:0'\n",
        "else:\n",
        "    device = 'cpu'\n",
        "\n",
        "print(device)"
      ]
    },
    {
      "cell_type": "markdown",
      "metadata": {
        "id": "OVUkg_m9SL2g"
      },
      "source": [
        "# Preprocessing"
      ]
    },
    {
      "cell_type": "code",
      "execution_count": 5,
      "metadata": {
        "id": "9narKhdzSL2g"
      },
      "outputs": [],
      "source": [
        "# PATH = './dataset/' # for local\n",
        "PATH = '/content/drive/MyDrive/Colab_Notebooks/jw_dacon_news_classification/dataset/'    # for colab"
      ]
    },
    {
      "cell_type": "code",
      "execution_count": 6,
      "metadata": {
        "id": "ID9WVEMlSL2h"
      },
      "outputs": [],
      "source": [
        "train_data = pd.read_csv(os.path.join(PATH, 'train_data.csv'), encoding='utf-8')\n",
        "test_data = pd.read_csv(os.path.join(PATH, 'test_data.csv'), encoding='utf-8')\n",
        "\n",
        "topic_dict = pd.read_csv(os.path.join(PATH, 'topic_dict.csv'), encoding='utf-8')"
      ]
    },
    {
      "cell_type": "code",
      "execution_count": 7,
      "metadata": {
        "colab": {
          "base_uri": "https://localhost:8080/",
          "height": 423
        },
        "id": "lyzMdHp6SL2h",
        "outputId": "48c4c511-6f6f-4c41-8faa-4b4d7214c306"
      },
      "outputs": [
        {
          "output_type": "execute_result",
          "data": {
            "text/plain": [
              "       index                               title  topic_idx\n",
              "0          0            인천→핀란드 항공기 결항…휴가철 여행객 분통          4\n",
              "1          1      실리콘밸리 넘어서겠다…구글 15조원 들여 美전역 거점화          4\n",
              "2          2      이란 외무 긴장완화 해결책은 미국이 경제전쟁 멈추는 것          4\n",
              "3          3    NYT 클린턴 측근韓기업 특수관계 조명…공과 사 맞물려종합          4\n",
              "4          4           시진핑 트럼프에 중미 무역협상 조속 타결 희망          4\n",
              "...      ...                                 ...        ...\n",
              "45649  45649        KB금융 미국 IB 스티펠과 제휴…선진국 시장 공략          1\n",
              "45650  45650     1보 서울시교육청 신종코로나 확산에 개학 연기·휴업 검토          2\n",
              "45651  45651         게시판 키움증권 2020 키움 영웅전 실전투자대회          1\n",
              "45652  45652                   답변하는 배기동 국립중앙박물관장          2\n",
              "45653  45653  2020 한국인터넷기자상 시상식 내달 1일 개최…특별상 김성후          2\n",
              "\n",
              "[45654 rows x 3 columns]"
            ],
            "text/html": [
              "\n",
              "  <div id=\"df-bb0f1c36-f451-40f9-b4e0-3a394514dfe8\">\n",
              "    <div class=\"colab-df-container\">\n",
              "      <div>\n",
              "<style scoped>\n",
              "    .dataframe tbody tr th:only-of-type {\n",
              "        vertical-align: middle;\n",
              "    }\n",
              "\n",
              "    .dataframe tbody tr th {\n",
              "        vertical-align: top;\n",
              "    }\n",
              "\n",
              "    .dataframe thead th {\n",
              "        text-align: right;\n",
              "    }\n",
              "</style>\n",
              "<table border=\"1\" class=\"dataframe\">\n",
              "  <thead>\n",
              "    <tr style=\"text-align: right;\">\n",
              "      <th></th>\n",
              "      <th>index</th>\n",
              "      <th>title</th>\n",
              "      <th>topic_idx</th>\n",
              "    </tr>\n",
              "  </thead>\n",
              "  <tbody>\n",
              "    <tr>\n",
              "      <th>0</th>\n",
              "      <td>0</td>\n",
              "      <td>인천→핀란드 항공기 결항…휴가철 여행객 분통</td>\n",
              "      <td>4</td>\n",
              "    </tr>\n",
              "    <tr>\n",
              "      <th>1</th>\n",
              "      <td>1</td>\n",
              "      <td>실리콘밸리 넘어서겠다…구글 15조원 들여 美전역 거점화</td>\n",
              "      <td>4</td>\n",
              "    </tr>\n",
              "    <tr>\n",
              "      <th>2</th>\n",
              "      <td>2</td>\n",
              "      <td>이란 외무 긴장완화 해결책은 미국이 경제전쟁 멈추는 것</td>\n",
              "      <td>4</td>\n",
              "    </tr>\n",
              "    <tr>\n",
              "      <th>3</th>\n",
              "      <td>3</td>\n",
              "      <td>NYT 클린턴 측근韓기업 특수관계 조명…공과 사 맞물려종합</td>\n",
              "      <td>4</td>\n",
              "    </tr>\n",
              "    <tr>\n",
              "      <th>4</th>\n",
              "      <td>4</td>\n",
              "      <td>시진핑 트럼프에 중미 무역협상 조속 타결 희망</td>\n",
              "      <td>4</td>\n",
              "    </tr>\n",
              "    <tr>\n",
              "      <th>...</th>\n",
              "      <td>...</td>\n",
              "      <td>...</td>\n",
              "      <td>...</td>\n",
              "    </tr>\n",
              "    <tr>\n",
              "      <th>45649</th>\n",
              "      <td>45649</td>\n",
              "      <td>KB금융 미국 IB 스티펠과 제휴…선진국 시장 공략</td>\n",
              "      <td>1</td>\n",
              "    </tr>\n",
              "    <tr>\n",
              "      <th>45650</th>\n",
              "      <td>45650</td>\n",
              "      <td>1보 서울시교육청 신종코로나 확산에 개학 연기·휴업 검토</td>\n",
              "      <td>2</td>\n",
              "    </tr>\n",
              "    <tr>\n",
              "      <th>45651</th>\n",
              "      <td>45651</td>\n",
              "      <td>게시판 키움증권 2020 키움 영웅전 실전투자대회</td>\n",
              "      <td>1</td>\n",
              "    </tr>\n",
              "    <tr>\n",
              "      <th>45652</th>\n",
              "      <td>45652</td>\n",
              "      <td>답변하는 배기동 국립중앙박물관장</td>\n",
              "      <td>2</td>\n",
              "    </tr>\n",
              "    <tr>\n",
              "      <th>45653</th>\n",
              "      <td>45653</td>\n",
              "      <td>2020 한국인터넷기자상 시상식 내달 1일 개최…특별상 김성후</td>\n",
              "      <td>2</td>\n",
              "    </tr>\n",
              "  </tbody>\n",
              "</table>\n",
              "<p>45654 rows × 3 columns</p>\n",
              "</div>\n",
              "      <button class=\"colab-df-convert\" onclick=\"convertToInteractive('df-bb0f1c36-f451-40f9-b4e0-3a394514dfe8')\"\n",
              "              title=\"Convert this dataframe to an interactive table.\"\n",
              "              style=\"display:none;\">\n",
              "        \n",
              "  <svg xmlns=\"http://www.w3.org/2000/svg\" height=\"24px\"viewBox=\"0 0 24 24\"\n",
              "       width=\"24px\">\n",
              "    <path d=\"M0 0h24v24H0V0z\" fill=\"none\"/>\n",
              "    <path d=\"M18.56 5.44l.94 2.06.94-2.06 2.06-.94-2.06-.94-.94-2.06-.94 2.06-2.06.94zm-11 1L8.5 8.5l.94-2.06 2.06-.94-2.06-.94L8.5 2.5l-.94 2.06-2.06.94zm10 10l.94 2.06.94-2.06 2.06-.94-2.06-.94-.94-2.06-.94 2.06-2.06.94z\"/><path d=\"M17.41 7.96l-1.37-1.37c-.4-.4-.92-.59-1.43-.59-.52 0-1.04.2-1.43.59L10.3 9.45l-7.72 7.72c-.78.78-.78 2.05 0 2.83L4 21.41c.39.39.9.59 1.41.59.51 0 1.02-.2 1.41-.59l7.78-7.78 2.81-2.81c.8-.78.8-2.07 0-2.86zM5.41 20L4 18.59l7.72-7.72 1.47 1.35L5.41 20z\"/>\n",
              "  </svg>\n",
              "      </button>\n",
              "      \n",
              "  <style>\n",
              "    .colab-df-container {\n",
              "      display:flex;\n",
              "      flex-wrap:wrap;\n",
              "      gap: 12px;\n",
              "    }\n",
              "\n",
              "    .colab-df-convert {\n",
              "      background-color: #E8F0FE;\n",
              "      border: none;\n",
              "      border-radius: 50%;\n",
              "      cursor: pointer;\n",
              "      display: none;\n",
              "      fill: #1967D2;\n",
              "      height: 32px;\n",
              "      padding: 0 0 0 0;\n",
              "      width: 32px;\n",
              "    }\n",
              "\n",
              "    .colab-df-convert:hover {\n",
              "      background-color: #E2EBFA;\n",
              "      box-shadow: 0px 1px 2px rgba(60, 64, 67, 0.3), 0px 1px 3px 1px rgba(60, 64, 67, 0.15);\n",
              "      fill: #174EA6;\n",
              "    }\n",
              "\n",
              "    [theme=dark] .colab-df-convert {\n",
              "      background-color: #3B4455;\n",
              "      fill: #D2E3FC;\n",
              "    }\n",
              "\n",
              "    [theme=dark] .colab-df-convert:hover {\n",
              "      background-color: #434B5C;\n",
              "      box-shadow: 0px 1px 3px 1px rgba(0, 0, 0, 0.15);\n",
              "      filter: drop-shadow(0px 1px 2px rgba(0, 0, 0, 0.3));\n",
              "      fill: #FFFFFF;\n",
              "    }\n",
              "  </style>\n",
              "\n",
              "      <script>\n",
              "        const buttonEl =\n",
              "          document.querySelector('#df-bb0f1c36-f451-40f9-b4e0-3a394514dfe8 button.colab-df-convert');\n",
              "        buttonEl.style.display =\n",
              "          google.colab.kernel.accessAllowed ? 'block' : 'none';\n",
              "\n",
              "        async function convertToInteractive(key) {\n",
              "          const element = document.querySelector('#df-bb0f1c36-f451-40f9-b4e0-3a394514dfe8');\n",
              "          const dataTable =\n",
              "            await google.colab.kernel.invokeFunction('convertToInteractive',\n",
              "                                                     [key], {});\n",
              "          if (!dataTable) return;\n",
              "\n",
              "          const docLinkHtml = 'Like what you see? Visit the ' +\n",
              "            '<a target=\"_blank\" href=https://colab.research.google.com/notebooks/data_table.ipynb>data table notebook</a>'\n",
              "            + ' to learn more about interactive tables.';\n",
              "          element.innerHTML = '';\n",
              "          dataTable['output_type'] = 'display_data';\n",
              "          await google.colab.output.renderOutput(dataTable, element);\n",
              "          const docLink = document.createElement('div');\n",
              "          docLink.innerHTML = docLinkHtml;\n",
              "          element.appendChild(docLink);\n",
              "        }\n",
              "      </script>\n",
              "    </div>\n",
              "  </div>\n",
              "  "
            ]
          },
          "metadata": {},
          "execution_count": 7
        }
      ],
      "source": [
        "train_data"
      ]
    },
    {
      "cell_type": "code",
      "execution_count": 8,
      "metadata": {
        "id": "pzV8UtY1SL2i"
      },
      "outputs": [],
      "source": [
        "train_data = train_data.drop('index', axis=1)\n",
        "test_data = test_data.drop('index', axis=1)"
      ]
    },
    {
      "cell_type": "markdown",
      "metadata": {
        "id": "20dceCh8SL2j"
      },
      "source": [
        "# Make Dataset, DataLoader"
      ]
    },
    {
      "cell_type": "code",
      "source": [
        "!pip install transformers"
      ],
      "metadata": {
        "id": "PDaMLKbiS6ge",
        "colab": {
          "base_uri": "https://localhost:8080/"
        },
        "outputId": "1f89bd28-1753-42fb-b8ea-149da6652f76"
      },
      "execution_count": 9,
      "outputs": [
        {
          "output_type": "stream",
          "name": "stdout",
          "text": [
            "Looking in indexes: https://pypi.org/simple, https://us-python.pkg.dev/colab-wheels/public/simple/\n",
            "Collecting transformers\n",
            "  Downloading transformers-4.21.2-py3-none-any.whl (4.7 MB)\n",
            "\u001b[K     |████████████████████████████████| 4.7 MB 7.0 MB/s \n",
            "\u001b[?25hRequirement already satisfied: packaging>=20.0 in /usr/local/lib/python3.7/dist-packages (from transformers) (21.3)\n",
            "Requirement already satisfied: pyyaml>=5.1 in /usr/local/lib/python3.7/dist-packages (from transformers) (6.0)\n",
            "Collecting tokenizers!=0.11.3,<0.13,>=0.11.1\n",
            "  Downloading tokenizers-0.12.1-cp37-cp37m-manylinux_2_12_x86_64.manylinux2010_x86_64.whl (6.6 MB)\n",
            "\u001b[K     |████████████████████████████████| 6.6 MB 54.4 MB/s \n",
            "\u001b[?25hRequirement already satisfied: numpy>=1.17 in /usr/local/lib/python3.7/dist-packages (from transformers) (1.21.6)\n",
            "Requirement already satisfied: regex!=2019.12.17 in /usr/local/lib/python3.7/dist-packages (from transformers) (2022.6.2)\n",
            "Requirement already satisfied: importlib-metadata in /usr/local/lib/python3.7/dist-packages (from transformers) (4.12.0)\n",
            "Requirement already satisfied: requests in /usr/local/lib/python3.7/dist-packages (from transformers) (2.23.0)\n",
            "Collecting huggingface-hub<1.0,>=0.1.0\n",
            "  Downloading huggingface_hub-0.9.1-py3-none-any.whl (120 kB)\n",
            "\u001b[K     |████████████████████████████████| 120 kB 67.3 MB/s \n",
            "\u001b[?25hRequirement already satisfied: filelock in /usr/local/lib/python3.7/dist-packages (from transformers) (3.8.0)\n",
            "Requirement already satisfied: tqdm>=4.27 in /usr/local/lib/python3.7/dist-packages (from transformers) (4.64.0)\n",
            "Requirement already satisfied: typing-extensions>=3.7.4.3 in /usr/local/lib/python3.7/dist-packages (from huggingface-hub<1.0,>=0.1.0->transformers) (4.1.1)\n",
            "Requirement already satisfied: pyparsing!=3.0.5,>=2.0.2 in /usr/local/lib/python3.7/dist-packages (from packaging>=20.0->transformers) (3.0.9)\n",
            "Requirement already satisfied: zipp>=0.5 in /usr/local/lib/python3.7/dist-packages (from importlib-metadata->transformers) (3.8.1)\n",
            "Requirement already satisfied: certifi>=2017.4.17 in /usr/local/lib/python3.7/dist-packages (from requests->transformers) (2022.6.15)\n",
            "Requirement already satisfied: idna<3,>=2.5 in /usr/local/lib/python3.7/dist-packages (from requests->transformers) (2.10)\n",
            "Requirement already satisfied: urllib3!=1.25.0,!=1.25.1,<1.26,>=1.21.1 in /usr/local/lib/python3.7/dist-packages (from requests->transformers) (1.24.3)\n",
            "Requirement already satisfied: chardet<4,>=3.0.2 in /usr/local/lib/python3.7/dist-packages (from requests->transformers) (3.0.4)\n",
            "Installing collected packages: tokenizers, huggingface-hub, transformers\n",
            "Successfully installed huggingface-hub-0.9.1 tokenizers-0.12.1 transformers-4.21.2\n"
          ]
        }
      ]
    },
    {
      "cell_type": "code",
      "source": [
        "pip install wandb"
      ],
      "metadata": {
        "colab": {
          "base_uri": "https://localhost:8080/"
        },
        "id": "SVqW0zrOggGv",
        "outputId": "8d22a241-ef98-40fe-c7d5-31ca90165d7f"
      },
      "execution_count": 10,
      "outputs": [
        {
          "output_type": "stream",
          "name": "stdout",
          "text": [
            "Looking in indexes: https://pypi.org/simple, https://us-python.pkg.dev/colab-wheels/public/simple/\n",
            "Collecting wandb\n",
            "  Downloading wandb-0.13.2-py2.py3-none-any.whl (1.8 MB)\n",
            "\u001b[K     |████████████████████████████████| 1.8 MB 9.1 MB/s \n",
            "\u001b[?25hRequirement already satisfied: requests<3,>=2.0.0 in /usr/local/lib/python3.7/dist-packages (from wandb) (2.23.0)\n",
            "Collecting GitPython>=1.0.0\n",
            "  Downloading GitPython-3.1.27-py3-none-any.whl (181 kB)\n",
            "\u001b[K     |████████████████████████████████| 181 kB 71.9 MB/s \n",
            "\u001b[?25hRequirement already satisfied: PyYAML in /usr/local/lib/python3.7/dist-packages (from wandb) (6.0)\n",
            "Requirement already satisfied: six>=1.13.0 in /usr/local/lib/python3.7/dist-packages (from wandb) (1.15.0)\n",
            "Requirement already satisfied: setuptools in /usr/local/lib/python3.7/dist-packages (from wandb) (57.4.0)\n",
            "Requirement already satisfied: promise<3,>=2.0 in /usr/local/lib/python3.7/dist-packages (from wandb) (2.3)\n",
            "Requirement already satisfied: protobuf<4.0dev,>=3.12.0 in /usr/local/lib/python3.7/dist-packages (from wandb) (3.17.3)\n",
            "Collecting pathtools\n",
            "  Downloading pathtools-0.1.2.tar.gz (11 kB)\n",
            "Collecting setproctitle\n",
            "  Downloading setproctitle-1.3.2-cp37-cp37m-manylinux_2_5_x86_64.manylinux1_x86_64.manylinux_2_17_x86_64.manylinux2014_x86_64.whl (30 kB)\n",
            "Requirement already satisfied: Click!=8.0.0,>=7.0 in /usr/local/lib/python3.7/dist-packages (from wandb) (7.1.2)\n",
            "Collecting sentry-sdk>=1.0.0\n",
            "  Downloading sentry_sdk-1.9.5-py2.py3-none-any.whl (157 kB)\n",
            "\u001b[K     |████████████████████████████████| 157 kB 69.0 MB/s \n",
            "\u001b[?25hCollecting shortuuid>=0.5.0\n",
            "  Downloading shortuuid-1.0.9-py3-none-any.whl (9.4 kB)\n",
            "Requirement already satisfied: psutil>=5.0.0 in /usr/local/lib/python3.7/dist-packages (from wandb) (5.4.8)\n",
            "Collecting docker-pycreds>=0.4.0\n",
            "  Downloading docker_pycreds-0.4.0-py2.py3-none-any.whl (9.0 kB)\n",
            "Requirement already satisfied: typing-extensions>=3.7.4.3 in /usr/local/lib/python3.7/dist-packages (from GitPython>=1.0.0->wandb) (4.1.1)\n",
            "Collecting gitdb<5,>=4.0.1\n",
            "  Downloading gitdb-4.0.9-py3-none-any.whl (63 kB)\n",
            "\u001b[K     |████████████████████████████████| 63 kB 2.3 MB/s \n",
            "\u001b[?25hCollecting smmap<6,>=3.0.1\n",
            "  Downloading smmap-5.0.0-py3-none-any.whl (24 kB)\n",
            "Requirement already satisfied: chardet<4,>=3.0.2 in /usr/local/lib/python3.7/dist-packages (from requests<3,>=2.0.0->wandb) (3.0.4)\n",
            "Requirement already satisfied: idna<3,>=2.5 in /usr/local/lib/python3.7/dist-packages (from requests<3,>=2.0.0->wandb) (2.10)\n",
            "Requirement already satisfied: certifi>=2017.4.17 in /usr/local/lib/python3.7/dist-packages (from requests<3,>=2.0.0->wandb) (2022.6.15)\n",
            "Requirement already satisfied: urllib3!=1.25.0,!=1.25.1,<1.26,>=1.21.1 in /usr/local/lib/python3.7/dist-packages (from requests<3,>=2.0.0->wandb) (1.24.3)\n",
            "Collecting sentry-sdk>=1.0.0\n",
            "  Downloading sentry_sdk-1.9.4-py2.py3-none-any.whl (157 kB)\n",
            "\u001b[K     |████████████████████████████████| 157 kB 76.6 MB/s \n",
            "\u001b[?25h  Downloading sentry_sdk-1.9.3-py2.py3-none-any.whl (157 kB)\n",
            "\u001b[K     |████████████████████████████████| 157 kB 79.0 MB/s \n",
            "\u001b[?25h  Downloading sentry_sdk-1.9.2-py2.py3-none-any.whl (157 kB)\n",
            "\u001b[K     |████████████████████████████████| 157 kB 81.3 MB/s \n",
            "\u001b[?25h  Downloading sentry_sdk-1.9.1-py2.py3-none-any.whl (157 kB)\n",
            "\u001b[K     |████████████████████████████████| 157 kB 65.6 MB/s \n",
            "\u001b[?25h  Downloading sentry_sdk-1.9.0-py2.py3-none-any.whl (156 kB)\n",
            "\u001b[K     |████████████████████████████████| 156 kB 76.9 MB/s \n",
            "\u001b[?25hBuilding wheels for collected packages: pathtools\n",
            "  Building wheel for pathtools (setup.py) ... \u001b[?25l\u001b[?25hdone\n",
            "  Created wheel for pathtools: filename=pathtools-0.1.2-py3-none-any.whl size=8806 sha256=048c97f6570beef07aa7659d6f56c7b0a71b4a6703d8e0aee8892f4488222239\n",
            "  Stored in directory: /root/.cache/pip/wheels/3e/31/09/fa59cef12cdcfecc627b3d24273699f390e71828921b2cbba2\n",
            "Successfully built pathtools\n",
            "Installing collected packages: smmap, gitdb, shortuuid, setproctitle, sentry-sdk, pathtools, GitPython, docker-pycreds, wandb\n",
            "Successfully installed GitPython-3.1.27 docker-pycreds-0.4.0 gitdb-4.0.9 pathtools-0.1.2 sentry-sdk-1.9.0 setproctitle-1.3.2 shortuuid-1.0.9 smmap-5.0.0 wandb-0.13.2\n"
          ]
        }
      ]
    },
    {
      "cell_type": "code",
      "source": [
        "import wandb\n",
        "wandb.login()"
      ],
      "metadata": {
        "colab": {
          "base_uri": "https://localhost:8080/",
          "height": 70
        },
        "id": "Oxfg5K58g2-n",
        "outputId": "d96b14bf-e5bc-46b3-eec4-c146763a935e"
      },
      "execution_count": 11,
      "outputs": [
        {
          "output_type": "display_data",
          "data": {
            "text/plain": [
              "<IPython.core.display.Javascript object>"
            ],
            "application/javascript": [
              "\n",
              "        window._wandbApiKey = new Promise((resolve, reject) => {\n",
              "            function loadScript(url) {\n",
              "            return new Promise(function(resolve, reject) {\n",
              "                let newScript = document.createElement(\"script\");\n",
              "                newScript.onerror = reject;\n",
              "                newScript.onload = resolve;\n",
              "                document.body.appendChild(newScript);\n",
              "                newScript.src = url;\n",
              "            });\n",
              "            }\n",
              "            loadScript(\"https://cdn.jsdelivr.net/npm/postmate/build/postmate.min.js\").then(() => {\n",
              "            const iframe = document.createElement('iframe')\n",
              "            iframe.style.cssText = \"width:0;height:0;border:none\"\n",
              "            document.body.appendChild(iframe)\n",
              "            const handshake = new Postmate({\n",
              "                container: iframe,\n",
              "                url: 'https://wandb.ai/authorize'\n",
              "            });\n",
              "            const timeout = setTimeout(() => reject(\"Couldn't auto authenticate\"), 5000)\n",
              "            handshake.then(function(child) {\n",
              "                child.on('authorize', data => {\n",
              "                    clearTimeout(timeout)\n",
              "                    resolve(data)\n",
              "                });\n",
              "            });\n",
              "            })\n",
              "        });\n",
              "    "
            ]
          },
          "metadata": {}
        },
        {
          "output_type": "stream",
          "name": "stderr",
          "text": [
            "\u001b[34m\u001b[1mwandb\u001b[0m: Appending key for api.wandb.ai to your netrc file: /root/.netrc\n"
          ]
        },
        {
          "output_type": "execute_result",
          "data": {
            "text/plain": [
              "True"
            ]
          },
          "metadata": {},
          "execution_count": 11
        }
      ]
    },
    {
      "cell_type": "code",
      "execution_count": 12,
      "metadata": {
        "id": "BdaNVwZpSL2j"
      },
      "outputs": [],
      "source": [
        "# from eunjeon import Mecab\n",
        "# from kobert_tokenizer import KoBERTTokenizer\n",
        "from transformers import AdamWeightDecay\n",
        "from transformers import AutoTokenizer\n",
        "from tqdm import tqdm\n",
        "import numpy as np\n",
        "\n",
        "import torch"
      ]
    },
    {
      "cell_type": "code",
      "execution_count": 13,
      "metadata": {
        "id": "wUJ6d90YSL2k"
      },
      "outputs": [],
      "source": [
        "# Dataset class when using SKF\n",
        "from torch.utils.data import Dataset, DataLoader\n",
        "\n",
        "class MyDataset(Dataset):\n",
        "    def __init__(self, data_df, tokenizer, max_seq_len, pad_idx, mode):\n",
        "        self.data = data_df\n",
        "        self.tokenizer = tokenizer\n",
        "        self.max_len = max_seq_len\n",
        "        self.pad_idx = pad_idx\n",
        "        if mode=='test':\n",
        "            self.mode = mode\n",
        "        else:\n",
        "            self.mode = 'train'\n",
        "        \n",
        "    def __len__(self):\n",
        "        return len(self.data)\n",
        "\n",
        "    def __getitem__(self, idx):\n",
        "        context = self.tokenizer.encode(self.data['title'][idx])[1:-1]\n",
        "        con_len = len(context)\n",
        "        pad_li = [self.pad_idx]*(self.max_len - con_len)\n",
        "        context += pad_li\n",
        "        context = torch.LongTensor(context)\n",
        "        \n",
        "        if self.mode == 'train':\n",
        "            label_idx = int(self.data['topic_idx'][idx])\n",
        "            label = torch.zeros(7)\n",
        "            label[label_idx] += 1\n",
        "            return context, label\n",
        "        return context,"
      ]
    },
    {
      "cell_type": "markdown",
      "metadata": {
        "id": "VMKDEO8dSL2l"
      },
      "source": [
        "## Stratified K-Fold\n",
        "\n",
        "- 데이터셋의 레이블 분포에 차이가 있기에 이를 고려한 Startified K-Fold 를 해준다.\n",
        "- Startified-5-Fold 를 이용하여 각 80%의 train_data로 학습한 모델 5개를 test데이터에 대하여 앙상블한 것을 최종 결과로 채택한다.\n",
        "- "
      ]
    },
    {
      "cell_type": "code",
      "execution_count": 14,
      "metadata": {
        "id": "iD0xxvRpSL2l"
      },
      "outputs": [],
      "source": [
        "import numpy as np\n",
        "import sklearn\n",
        "from sklearn.metrics import confusion_matrix, accuracy_score\n",
        "from sklearn.model_selection import StratifiedKFold     # GT를 자동인식해서 맞게 분배한다."
      ]
    },
    {
      "cell_type": "code",
      "execution_count": 15,
      "metadata": {
        "id": "EJ4PtDE_SL2m"
      },
      "outputs": [],
      "source": [
        "# Cross validation, StratifiedKfold\n",
        "\n",
        "skf = StratifiedKFold(n_splits=5, shuffle=True, random_state=42)\n",
        "folds=[]\n",
        "\n",
        "# label에 비례하는 idx를 만든다.\n",
        "for train_idx, valid_idx in skf.split(train_data, train_data['topic_idx']):\n",
        "    train_idx = np.array(train_idx)\n",
        "    valid_idx = np.array(valid_idx)\n",
        "    folds.append((train_idx, valid_idx))"
      ]
    },
    {
      "cell_type": "code",
      "execution_count": 16,
      "metadata": {
        "id": "GwmYJjiLSL2m"
      },
      "outputs": [],
      "source": [
        "# fold 나누기\n",
        "train_data0 = train_data.iloc[folds[0][0]].reset_index(drop=True)\n",
        "train_data1 = train_data.iloc[folds[1][0]].reset_index(drop=True)\n",
        "train_data2 = train_data.iloc[folds[2][0]].reset_index(drop=True)\n",
        "train_data3 = train_data.iloc[folds[3][0]].reset_index(drop=True)\n",
        "train_data4 = train_data.iloc[folds[4][0]].reset_index(drop=True)\n",
        "\n",
        "val_data0 = train_data.iloc[folds[0][1]].reset_index(drop=True)\n",
        "val_data1 = train_data.iloc[folds[1][1]].reset_index(drop=True)\n",
        "val_data2 = train_data.iloc[folds[2][1]].reset_index(drop=True)\n",
        "val_data3 = train_data.iloc[folds[3][1]].reset_index(drop=True)\n",
        "val_data4 = train_data.iloc[folds[4][1]].reset_index(drop=True)"
      ]
    },
    {
      "cell_type": "code",
      "execution_count": 17,
      "metadata": {
        "colab": {
          "base_uri": "https://localhost:8080/",
          "height": 0,
          "referenced_widgets": [
            "a50b727e2a6642fd81df90ff384e421a",
            "fc7afb0c4a6c4184be2719b903b9a0e0",
            "b6c4bdb45a544452b5d2340d0c7cbaf5",
            "0ac5b10b49a5479a95a741d4a902aa1c",
            "04dc98e0bd8743bdb4e8628dfd3675b1",
            "dae8f0c9570747cab0e8ae0954edcf03",
            "212d73952c80483b96b3a12379bc25a4",
            "f0fd69936aa548fa8c7b49932da2512c",
            "54a91262ad9a48ccb31d544790623c7d",
            "4e66a0906408428a8ea1e5d8dfc078e6",
            "dc5ff88494624182bbe2e3ba3f95c070",
            "e2ce79fc76bb4ddaabb96eb9d012c743",
            "efc3a4cb022142468e831e387ef71c9e",
            "b1db3b46c37244449439f687a361ca76",
            "9e5998ff829d43b6900d0c382f1eb87f",
            "b5011d98e396463d98f9fa3e129ae5d2",
            "786dbc3ec23e43a8ac23bb07d19c8855",
            "e8bfac27df8f4397be49c4e319542e3c",
            "07d611410f9d477fac6700c22e487391",
            "f42af52feefd44c7b05483048a94fb64",
            "1ef9cde1ea0242a6848545399536c06e",
            "942a1d5d5794425796d3f8fe92dbd915",
            "1b93e371a4b54d53a14e5e9c28e9f087",
            "f14d0c2debfc477980de25e963e07715",
            "89f8c07821284e50b817335e73266aaa",
            "0b57d531750b4b2db5d740c2481db320",
            "35f386bbbb12404b9605fadb3fb05ff6",
            "8f96e8a2a0fa4595ab736474c58e0699",
            "4e4d16e93ae54cbb846da41da97f25b0",
            "bb5bacf08f754026ad11b68e1fe0968a",
            "bc6416c8a258417daee95720e62f5a6e",
            "e269babc596e4b919d6c24e0c3f819df",
            "d2ec131966774861b7b3601f0ae957dc",
            "53645bbd9be343a49abe31f2f810c580",
            "4dcc9715c8e74da3b514bae6c0b3290d",
            "a3a39ff6b32441839fcb63d2d0f63539",
            "65e01d4eaac34f13a513548814f96bad",
            "92b0fffcb9534351a53b46541b8d6260",
            "ad28c55fa3a24229bafc11f9aa4945da",
            "e044b2fa11ca49e0a59c06f260ddb1d7",
            "45e34d583f2341cd9bed78c3e9591e0d",
            "d002333dd6f44d12abeba003fdcba52d",
            "472ca78764e94967a4710a7a6f1cb274",
            "d9a4c2fe918f4054ba9e2001fb849b11"
          ]
        },
        "id": "PtIwierGSL2n",
        "outputId": "314ebfbd-ec45-4cb0-d825-b3b9191c7f25"
      },
      "outputs": [
        {
          "output_type": "display_data",
          "data": {
            "text/plain": [
              "Downloading tokenizer_config.json:   0%|          | 0.00/375 [00:00<?, ?B/s]"
            ],
            "application/vnd.jupyter.widget-view+json": {
              "version_major": 2,
              "version_minor": 0,
              "model_id": "a50b727e2a6642fd81df90ff384e421a"
            }
          },
          "metadata": {}
        },
        {
          "output_type": "display_data",
          "data": {
            "text/plain": [
              "Downloading vocab.txt:   0%|          | 0.00/243k [00:00<?, ?B/s]"
            ],
            "application/vnd.jupyter.widget-view+json": {
              "version_major": 2,
              "version_minor": 0,
              "model_id": "e2ce79fc76bb4ddaabb96eb9d012c743"
            }
          },
          "metadata": {}
        },
        {
          "output_type": "display_data",
          "data": {
            "text/plain": [
              "Downloading tokenizer.json:   0%|          | 0.00/734k [00:00<?, ?B/s]"
            ],
            "application/vnd.jupyter.widget-view+json": {
              "version_major": 2,
              "version_minor": 0,
              "model_id": "1b93e371a4b54d53a14e5e9c28e9f087"
            }
          },
          "metadata": {}
        },
        {
          "output_type": "display_data",
          "data": {
            "text/plain": [
              "Downloading special_tokens_map.json:   0%|          | 0.00/173 [00:00<?, ?B/s]"
            ],
            "application/vnd.jupyter.widget-view+json": {
              "version_major": 2,
              "version_minor": 0,
              "model_id": "53645bbd9be343a49abe31f2f810c580"
            }
          },
          "metadata": {}
        }
      ],
      "source": [
        "BATCH_SIZE = 64\n",
        "MAX_LEN = 30\n",
        "\n",
        "tokenizer = AutoTokenizer.from_pretrained('klue/roberta-large')\n",
        "\n",
        "# make dataset\n",
        "train_dataset=[]\n",
        "train_dataset.append(MyDataset(data_df=train_data0, tokenizer=tokenizer, max_seq_len=MAX_LEN, pad_idx = 1, mode='train'))\n",
        "train_dataset.append(MyDataset(data_df=train_data1, tokenizer=tokenizer, max_seq_len=MAX_LEN, pad_idx = 1, mode='train'))\n",
        "train_dataset.append(MyDataset(data_df=train_data2, tokenizer=tokenizer, max_seq_len=MAX_LEN, pad_idx = 1, mode='train'))\n",
        "train_dataset.append(MyDataset(data_df=train_data3, tokenizer=tokenizer, max_seq_len=MAX_LEN, pad_idx = 1, mode='train'))\n",
        "train_dataset.append(MyDataset(data_df=train_data4, tokenizer=tokenizer, max_seq_len=MAX_LEN, pad_idx = 1, mode='train'))\n",
        "\n",
        "val_dataset=[]\n",
        "val_dataset.append(MyDataset(data_df=val_data0, tokenizer=tokenizer, max_seq_len=MAX_LEN, pad_idx = 1, mode='eval'))\n",
        "val_dataset.append(MyDataset(data_df=val_data1, tokenizer=tokenizer, max_seq_len=MAX_LEN, pad_idx = 1, mode='eval'))\n",
        "val_dataset.append(MyDataset(data_df=val_data2, tokenizer=tokenizer, max_seq_len=MAX_LEN, pad_idx = 1, mode='eval'))\n",
        "val_dataset.append(MyDataset(data_df=val_data3, tokenizer=tokenizer, max_seq_len=MAX_LEN, pad_idx = 1, mode='eval'))\n",
        "val_dataset.append(MyDataset(data_df=val_data4, tokenizer=tokenizer, max_seq_len=MAX_LEN, pad_idx = 1, mode='eval'))"
      ]
    },
    {
      "cell_type": "markdown",
      "metadata": {
        "id": "z5bsvaNoSL2n"
      },
      "source": [
        "## Normal Training set\n",
        "\n"
      ]
    },
    {
      "cell_type": "code",
      "execution_count": null,
      "metadata": {
        "id": "q4UdSPM3SL2o"
      },
      "outputs": [],
      "source": [
        "# BATCH_SIZE = 64\n",
        "# MAX_LEN = 30\n",
        "# tokenizer = AutoTokenizer.from_pretrained('klue/roberta-large')\n",
        "\n",
        "# train_dataset = MyDataset(\n",
        "#     data_df=train_data,\n",
        "#     tokenizer=tokenizer,\n",
        "#     max_seq_len=MAX_LEN,\n",
        "#     pad_idx=1,\n",
        "#     mode='train'\n",
        "# )\n",
        "# test_dataset = MyDataset(\n",
        "#     data_df=test_data,\n",
        "#     tokenizer=tokenizer,\n",
        "#     max_seq_len=MAX_LEN,\n",
        "#     pad_idx=1,\n",
        "#     mode='test'\n",
        "# )\n",
        "\n",
        "# train_loader = DataLoader(train_dataset, batch_size=BATCH_SIZE, shuffle=True)\n",
        "# test_loader = DataLoader(test_dataset, batch_size=BATCH_SIZE, shuffle=False)"
      ]
    },
    {
      "cell_type": "markdown",
      "metadata": {
        "id": "XquzG1foSL2o"
      },
      "source": [
        "# Build Model"
      ]
    },
    {
      "cell_type": "markdown",
      "metadata": {
        "id": "HhmtQR8dSL2o"
      },
      "source": [
        "transformer 의 encdoer n개를 통과시켜, 마지막 output중 첫번째 token이 Affine Layer을 지나는 model이다.\n",
        "\n",
        "- d_model = 512\n",
        "- d_word_vec = 512\n",
        "- n_layers = 6\n",
        "- n_head = 8\n",
        "- d_inner = 2048\n",
        "- dropout = 0.1\n",
        "- n_position = 50\n",
        "- pad_idx = 1"
      ]
    },
    {
      "cell_type": "code",
      "execution_count": 18,
      "metadata": {
        "colab": {
          "base_uri": "https://localhost:8080/"
        },
        "id": "dv5_hsGvSL2p",
        "outputId": "f914479a-1917-40a1-b12a-400e902f91ed"
      },
      "outputs": [
        {
          "output_type": "execute_result",
          "data": {
            "text/plain": [
              "1"
            ]
          },
          "metadata": {},
          "execution_count": 18
        }
      ],
      "source": [
        "tokenizer.vocab['[PAD]']"
      ]
    },
    {
      "cell_type": "code",
      "source": [
        "pip install einops"
      ],
      "metadata": {
        "colab": {
          "base_uri": "https://localhost:8080/"
        },
        "id": "PshcXzfpU0_u",
        "outputId": "495895b5-135e-4ca3-d8d2-fee2d193736b"
      },
      "execution_count": 19,
      "outputs": [
        {
          "output_type": "stream",
          "name": "stdout",
          "text": [
            "Looking in indexes: https://pypi.org/simple, https://us-python.pkg.dev/colab-wheels/public/simple/\n",
            "Collecting einops\n",
            "  Downloading einops-0.4.1-py3-none-any.whl (28 kB)\n",
            "Installing collected packages: einops\n",
            "Successfully installed einops-0.4.1\n"
          ]
        }
      ]
    },
    {
      "cell_type": "code",
      "source": [
        "cd /content/drive/MyDrive/Colab_Notebooks/jw_dacon_news_classification/"
      ],
      "metadata": {
        "colab": {
          "base_uri": "https://localhost:8080/"
        },
        "id": "T-VLSo4JWjHk",
        "outputId": "bd40b14f-b149-4ab2-d8ed-d3cd368360f0"
      },
      "execution_count": 25,
      "outputs": [
        {
          "output_type": "stream",
          "name": "stdout",
          "text": [
            "/content/drive/MyDrive/Colab_Notebooks/jw_dacon_news_classification\n"
          ]
        }
      ]
    },
    {
      "cell_type": "code",
      "source": [
        "pwd"
      ],
      "metadata": {
        "colab": {
          "base_uri": "https://localhost:8080/",
          "height": 35
        },
        "id": "xZiKzF9aWvB-",
        "outputId": "7853a6a0-bfda-4f6b-d5dc-2a2e790b03fb"
      },
      "execution_count": 26,
      "outputs": [
        {
          "output_type": "execute_result",
          "data": {
            "text/plain": [
              "'/content/drive/MyDrive/Colab_Notebooks/jw_dacon_news_classification'"
            ],
            "application/vnd.google.colaboratory.intrinsic+json": {
              "type": "string"
            }
          },
          "metadata": {},
          "execution_count": 26
        }
      ]
    },
    {
      "cell_type": "code",
      "execution_count": 27,
      "metadata": {
        "id": "ebqcfFJsSL2p"
      },
      "outputs": [],
      "source": [
        "from torch import nn\n",
        "from model.Models import Encoder\n",
        "from einops import rearrange\n",
        "\n",
        "def get_pad_mask(seq, pad_idx):\n",
        "    return (seq != pad_idx).unsqueeze(-2)\n",
        "\n",
        "class TransformerClassifier(nn.Module):\n",
        "    \n",
        "    def __init__(self, n_vocab, pad_idx, d_word_vec=512, d_model=512, d_inner=2048,\n",
        "                 n_layers=6, n_head=8, d_k=64, dropout=0.1, n_position=50, num_labels=7,max_seq_len=30):\n",
        "        \n",
        "        super().__init__()\n",
        "        self.encoder = Encoder(n_src_vocab=n_vocab, d_word_vec=d_word_vec, n_layers=n_layers, \n",
        "                               d_inner=d_inner, n_head=n_head, d_k=d_k, d_v=d_k, d_model=d_model, \n",
        "                               pad_idx=pad_idx, dropout=dropout, n_position=n_position, scale_emb=False)\n",
        "        self.linear1 = nn.Linear(max_seq_len*d_model, d_model, bias=True)\n",
        "        self.relu = nn.ReLU()\n",
        "        self.linear2 = nn.Linear(d_model, num_labels, bias=True)\n",
        "        self.pad_idx = pad_idx\n",
        "    \n",
        "    def forward(self, context):\n",
        "        \n",
        "        mask = get_pad_mask(context, self.pad_idx)\n",
        "        enc_output, *_ = self.encoder(context, mask)\n",
        "        lin_output = self.relu(self.linear1(rearrange(enc_output,'b s d -> b (s d)')))\n",
        "        seq_logit = self.relu(self.linear2(lin_output))\n",
        "        \n",
        "        return seq_logit"
      ]
    },
    {
      "cell_type": "markdown",
      "metadata": {
        "id": "N0_AzGdASL2p"
      },
      "source": [
        "## ERROR logs when building model"
      ]
    },
    {
      "cell_type": "markdown",
      "metadata": {
        "id": "HDfOvYSISL2p"
      },
      "source": [
        "### ERROR 1 : nn.embedding() 은 input Tensor가 int 형이어야한다.\n",
        "c:\\Users\\jaeng\\Desktop\\VSC\\DACON\\text_classification\\main.ipynb 셀 23 in TransformerClassifier.forward(self, context)\n",
        "...\n",
        "   2197     # remove once script supports set_grad_enabled\n",
        "   2198     _no_grad_embedding_renorm_(weight, input, max_norm, norm_type)\n",
        "-> 2199 return torch.embedding(weight, input, padding_idx, scale_grad_by_freq, sparse)\n",
        "\n",
        "RuntimeError: Expected tensor for argument #1 'indices' to have one of the following scalar types: Long, Int; but got torch.FloatTensor instead (while checking arguments for embedding)\n",
        "\n",
        "------------------------\n",
        "\n",
        "학습 해보려 하는데,\n",
        "- 모델 내부에서 int로 받아야하는 'indices'라는 놈에 floatTensor 가 들어가고있어 말썽인 상황이다. 내일 해결해봐야지.\n",
        "- torch.embedding(weight, input, padding_idx, scale_grad_by_freq, sparse) 의 첫번째 argument weight가 Int이어야하는데 Float로 들어온건가?"
      ]
    },
    {
      "cell_type": "markdown",
      "metadata": {
        "id": "GCemnF0-SL2q"
      },
      "source": [
        "### ERROR 2: \n",
        "-> 3014 return torch._C._nn.cross_entropy_loss(input, target, weight, _Reduction.get_enum(reduction), ignore_index, label_smoothing)\n",
        "\n",
        "IndexError: Target -9223372036854775808 is out of bounds.\n",
        "\n",
        "model 어딘가에서 normalization 일어나고있지 않나?\n",
        "linear 결과에 norm 추가해야하나? 다른 모델 봐야겠다.\n",
        "- Y 찍어보니 그 안에 엄청 큰 절댓값이 존재한다.. 뭐지?\n",
        "\n",
        "-1.9357e+16 이 값이, -19356592969351168 이 된다. 왜 저 값이 존재하지?\n",
        "Y label 만드는 과정에서 오류가 있을거다."
      ]
    },
    {
      "cell_type": "markdown",
      "metadata": {
        "id": "eZUN9cduSL2q"
      },
      "source": [
        "### ERROR 3: model 과 Tensor 의 .to(device) 함수 차이\n",
        "https://stackoverflow.com/questions/59560043/what-is-the-difference-between-model-todevice-and-model-model-todevice\n",
        "\n",
        "---> 36 train(classifier_model, train_loader, optimizer, device, criterion)\n",
        "AttributeError: 'TransformerClassifier' object has no attribute 'device'\n",
        "\n",
        "Model can be placed in GPU with code,\n",
        "```\n",
        "a = my_model()  # a is in cpu\n",
        "a.to(device)    # a is moved to gpu\n",
        "```\n",
        "\n",
        "But Tensor cannot be moved to GPU with the same code.\n",
        "```\n",
        "a = torch.Tensor([1,2,3])\n",
        "a.to(device)    # a is in cpu\n",
        "a = a.to(devivce)   # a is now in gpu\n",
        "```"
      ]
    },
    {
      "cell_type": "markdown",
      "metadata": {
        "id": "qCyan1GgSL2q"
      },
      "source": [
        "### ERROR 4: \n",
        "RuntimeError: CUDA error: no kernel image is available for execution on the device\n",
        "CUDA kernel errors might be asynchronously reported at some other API call,so the stacktrace below might be incorrect.\n",
        "For debugging consider passing CUDA_LAUNCH_BLOCKING=1.\n",
        "\n",
        "https://ndb796.tistory.com/744  을 보고 해결했다.\n",
        "- 현재 커널의 python 버전과, CUDA 버전이 호환되지 않아서 발생하는 문제다.\n",
        "- python 버전을 3.6 -> 3.8 업그레이드함으로 해결했다.(사실은 conda 환경을 새로 팜)\n",
        "    - 내가 가진 CUDA버전이 3.6이랑 호환이 안된다."
      ]
    },
    {
      "cell_type": "markdown",
      "metadata": {
        "id": "bScRDUpGSL2q"
      },
      "source": [
        "### ERROR 5: 모델 반환모양이 ( b seq class ) 이다. ( b c ) 이어야하는데..?\n",
        "\n",
        "in model forward... context.shape torch.Size([64, 30])\n",
        "in model forward... mask.shape torch.Size([64, 1, 30])\n",
        "in model forward... enc_output.shape torch.Size([64, 30, 512])      # linear 을 잘못 수행하였다.\n",
        "in model forward... after_linear.shape torch.Size([64, 30, 7])\n",
        "-> linear 추가해서, 한번 더 거치게 하였다."
      ]
    },
    {
      "cell_type": "markdown",
      "metadata": {
        "id": "PTklKuNVSL2q"
      },
      "source": [
        "# Train !\n"
      ]
    },
    {
      "cell_type": "code",
      "execution_count": 28,
      "metadata": {
        "id": "uBQHdFc8SL2q"
      },
      "outputs": [],
      "source": [
        "CFG = {\n",
        "    'EPOCHS':12,\n",
        "    'LEARNING_RATE':1e-5,\n",
        "    \"BATCH_SIZE\":128,\n",
        "    'SEED':42\n",
        "}"
      ]
    },
    {
      "cell_type": "code",
      "execution_count": 38,
      "metadata": {
        "id": "mrFk33LRSL2r"
      },
      "outputs": [],
      "source": [
        "classifier_model = TransformerClassifier(n_vocab=32000, pad_idx=tokenizer.vocab['[PAD]'],\n",
        "                                        d_word_vec=512, d_model=512, d_inner=2048,\n",
        "                                        n_layers=6, n_head=8, d_k=64, dropout=0.1, n_position=MAX_LEN)\n",
        "\n",
        "optimizer = torch.optim.Adam(params = classifier_model.parameters(), lr = CFG['LEARNING_RATE'])\n",
        "criterion = nn.CrossEntropyLoss()\n",
        "\n",
        "# MODEL_PATH = './ckpt/'    # for locab\n",
        "\n",
        "MODEL_PATH = './ckpt/' # for colab"
      ]
    },
    {
      "cell_type": "code",
      "execution_count": 30,
      "metadata": {
        "id": "BctPdtN3SL2r"
      },
      "outputs": [],
      "source": [
        "def evaluate(model, eval_loader, loss_fn):\n",
        "    \"\"\"\n",
        "        input: model, data_loader, loss_fn\n",
        "        output: loss, acc\n",
        "    \"\"\"\n",
        "    \n",
        "    epoch_loss = 0\n",
        "    epoch_acc = 0\n",
        "    \n",
        "    model.eval()\n",
        "    with torch.no_grad():\n",
        "        for batch in eval_loader:    # ERROR1: \n",
        "            # print('================INSIDE evaluate()==================\\n\\n')\n",
        "            # print('what eval_loader gives: ',batch)\n",
        "            X = batch[0]\n",
        "            gt = batch[1].to(device)\n",
        "            Y = torch.argmax(batch[1], dim=1)\n",
        "            # print('Y exists in the form of: ', Y)\n",
        "            X = X.to(device)\n",
        "            Y = Y.to(device)\n",
        "            output = model(X)\n",
        "            epoch_loss += loss_fn(output, Y).item()\n",
        "            epoch_acc += binary_accuracy(output, gt).item()\n",
        "            # print('================================================\\n\\n')\n",
        "    \n",
        "    # print('================INSIDE evaluate()==================\\n\\n')\n",
        "    # print('epoch_loss: ', epoch_loss)\n",
        "    # print('epoch_ascc: ', epoch_acc)\n",
        "    # print('epoch_loss_compute', epoch_loss/len(eval_loader))\n",
        "    # print('epoch_acc_compute', epoch_acc/len(eval_loader))\n",
        "    # print('epoch_loss_type', type(epoch_loss/len(eval_loader)))\n",
        "    # print('epoch_acc_type', type(epoch_acc/len(eval_loader)))\n",
        "    # print('================================================\\n\\n')\n",
        "    return epoch_loss/len(eval_loader), epoch_acc/len(eval_loader)\n",
        "\n",
        "\n",
        "def binary_accuracy(pred, gt):\n",
        "    # pred (B score)\n",
        "    # gt (B binary_value)\n",
        "    pred_class = torch.argmax(pred, dim=1)  # (B, )\n",
        "    gt_class = torch.argmax(gt, dim=1)      # (B, )\n",
        "    result = pred_class==gt_class\n",
        "    \n",
        "    return result.sum()/len(result)\n",
        "\n",
        "def show_me_what_you_got(pred,gt):\n",
        "    \"\"\"\n",
        "    Just to validate the accuracy by my eyes.\n",
        "    \"\"\"\n",
        "    print(\n",
        "        '\\n********************** SHOW ME WHAT YOU GOT, MODEL. **********************'\n",
        "    )\n",
        "    pred_class = torch.argmax(pred, dim=1)  # (B,)\n",
        "    gt_class = torch.argmax(gt, dim=1)\n",
        "    print('pred_class: ',pred_class)\n",
        "    print('gt_class: ', gt_class)\n",
        "    result = pred_class==gt_class\n",
        "    print('Acc: ',result.sum()/len(result))\n",
        "    print(\n",
        "        '********************************* THANKS *********************************\\n'\n",
        "    )\n",
        "    "
      ]
    },
    {
      "cell_type": "code",
      "execution_count": 80,
      "metadata": {
        "id": "Vg5NgS1OSL2r"
      },
      "outputs": [],
      "source": [
        "import os\n",
        "\n",
        "def train(model, train_loader, valid_loader, optimizer, scheduler, device, criterion, ckpt_path):\n",
        "    model.to(device)\n",
        "    criterion = criterion.to(device)   # loss\n",
        "    best_val_loss = 1e5\n",
        "\n",
        "    for epoch in range(1,CFG['EPOCHS']+1):\n",
        "        model.train()\n",
        "        train_loss = []\n",
        "        train_acc = []\n",
        "\n",
        "        for X,Y in tqdm(train_loader, desc='Training ...'):\n",
        "            X = X.to(device)\n",
        "            Y = Y.to(device)\n",
        "            optimizer.zero_grad()\n",
        "            \n",
        "            # Forward\n",
        "            output = model(X)\n",
        "            loss = criterion(output, Y)\n",
        "            acc = binary_accuracy(output, Y)    # acc for each batch -- is this right..?\n",
        "            \n",
        "            # Backward\n",
        "            loss.backward()\n",
        "            optimizer.step()\n",
        "            \n",
        "            train_loss.append(loss.item())\n",
        "            train_acc.append(acc.item())\n",
        "        # scheduler.step()\n",
        "\n",
        "        print(f\"Epoch {epoch}  |  Train Loss : [{np.mean(train_loss):.5f}]  |  Train Acc: [{np.mean(train_acc):5f}] \")\n",
        "        \n",
        "        # Check if metric works well (per epoch)\n",
        "        # show_me_what_you_got(output, Y)\n",
        "        # If Validation \n",
        "        if valid_loader!=None:\n",
        "            \n",
        "            val_loss, val_acc = evaluate(model, valid_loader, criterion)\n",
        "            \n",
        "            print(f\"Epoch {epoch}  |  Valid Loss : [{np.mean(val_loss):.5f}]  |  Valid Acc: [{np.mean(val_acc):5f}] \")\n",
        "            # Best Model\n",
        "            if val_loss < best_val_loss: \n",
        "                best_val_loss = val_loss\n",
        "                torch.save(model.state_dict(), os.path.join(ckpt_path, 'best_model.pth'))\n",
        "                print('============= Best model saved! =============')\n",
        "        \n",
        "        # Model Saving\n",
        "        torch.save(model.state_dict(), os.path.join(ckpt_path, f'model_epoch{epoch}.pth'))\n",
        "        print('================ model saved ================')\n",
        "        \n",
        "        \n",
        "        "
      ]
    },
    {
      "cell_type": "markdown",
      "metadata": {
        "id": "owQkntJUSL2s"
      },
      "source": [
        "# simple trianing for whole training set"
      ]
    },
    {
      "cell_type": "code",
      "execution_count": null,
      "metadata": {
        "id": "gBbSnJEMSL2s",
        "colab": {
          "base_uri": "https://localhost:8080/"
        },
        "outputId": "f41e0eac-9f79-42a2-d9d7-703854bf92a8"
      },
      "outputs": [
        {
          "output_type": "error",
          "ename": "NameError",
          "evalue": "ignored",
          "traceback": [
            "\u001b[0;31m---------------------------------------------------------------------------\u001b[0m",
            "\u001b[0;31mNameError\u001b[0m                                 Traceback (most recent call last)",
            "\u001b[0;32m<ipython-input-29-14f8505e1a13>\u001b[0m in \u001b[0;36m<module>\u001b[0;34m\u001b[0m\n\u001b[1;32m      8\u001b[0m train(\n\u001b[1;32m      9\u001b[0m     \u001b[0mmodel\u001b[0m\u001b[0;34m=\u001b[0m\u001b[0mclassifier_model\u001b[0m\u001b[0;34m,\u001b[0m\u001b[0;34m\u001b[0m\u001b[0;34m\u001b[0m\u001b[0m\n\u001b[0;32m---> 10\u001b[0;31m     \u001b[0mtrain_loader\u001b[0m\u001b[0;34m=\u001b[0m\u001b[0mtrain_loader\u001b[0m\u001b[0;34m,\u001b[0m\u001b[0;34m\u001b[0m\u001b[0;34m\u001b[0m\u001b[0m\n\u001b[0m\u001b[1;32m     11\u001b[0m     \u001b[0mvalid_loader\u001b[0m\u001b[0;34m=\u001b[0m\u001b[0;32mNone\u001b[0m\u001b[0;34m,\u001b[0m\u001b[0;34m\u001b[0m\u001b[0;34m\u001b[0m\u001b[0m\n\u001b[1;32m     12\u001b[0m     \u001b[0moptimizer\u001b[0m\u001b[0;34m=\u001b[0m\u001b[0moptimizer\u001b[0m\u001b[0;34m,\u001b[0m\u001b[0;34m\u001b[0m\u001b[0;34m\u001b[0m\u001b[0m\n",
            "\u001b[0;31mNameError\u001b[0m: name 'train_loader' is not defined"
          ]
        }
      ],
      "source": [
        "classifier_model = TransformerClassifier(n_vocab=32000, pad_idx=tokenizer.vocab['[PAD]'],\n",
        "                                        d_word_vec=512, d_model=512, d_inner=2048,\n",
        "                                        n_layers=6, n_head=8, d_k=64, dropout=0.1, n_position=MAX_LEN)\n",
        "optimizer = torch.optim.Adam(params = classifier_model.parameters(), lr = CFG['LEARNING_RATE'])\n",
        "criterion = nn.CrossEntropyLoss()\n",
        "ckpt_path = os.path.join(MODEL_PATH, 'simple_train')\n",
        "\n",
        "train(\n",
        "    model=classifier_model,\n",
        "    train_loader=train_loader,\n",
        "    valid_loader=None,\n",
        "    optimizer=optimizer,\n",
        "    device=device,\n",
        "    criterion=criterion,\n",
        "    ckpt_path=ckpt_path\n",
        "    )"
      ]
    },
    {
      "cell_type": "markdown",
      "metadata": {
        "id": "l-gFXwRnSL2s"
      },
      "source": [
        "#### FOUND ERROR\n",
        "\n",
        "accuracy 평가방식을 완전 잘못 구현했었다. 그래서 틀린게 많을수록 이상한 acc가 높게 나왔던 것이라 생각된다.<br/>\n",
        "-> 결과에 argmax를 안하고 비교를 해서 엉망진창이었다. 해결!"
      ]
    },
    {
      "cell_type": "markdown",
      "metadata": {
        "id": "Pk9x1Q3oSL2t"
      },
      "source": [
        "## Simaple Train Data - Test Data Inference"
      ]
    },
    {
      "cell_type": "code",
      "execution_count": null,
      "metadata": {
        "id": "Sh4RGWBKSL2t"
      },
      "outputs": [],
      "source": [
        "test_dataset[0]"
      ]
    },
    {
      "cell_type": "code",
      "execution_count": null,
      "metadata": {
        "id": "lg25n4S0SL2t"
      },
      "outputs": [],
      "source": [
        "# Inference\n",
        "import pandas as pd\n",
        "import numpy as np\n",
        "\n",
        "def predict(model, test_loader, device):\n",
        "    model.to(device)\n",
        "    model.eval()\n",
        "    preds=[]\n",
        "    with torch.no_grad():\n",
        "        for X, in tqdm(test_loader, desc='Inferencing ...'):\n",
        "            X = X.to(device)\n",
        "            \n",
        "            pred = model(X)\n",
        "            preds += pred.cpu().tolist()\n",
        "    \n",
        "    # pd.DataFrame(preds).to_csv('test_result.csv')\n",
        "    result2classidx(preds)\n",
        "    print('======= Saved as \\'test_result.csv\\' =======')\n",
        "\n",
        "def result2classidx(preds):\n",
        "    \"\"\"\n",
        "    preds (N class_num=7)\n",
        "    \"\"\"\n",
        "    result = []\n",
        "    for i, data_idx in enumerate(range(45654, 54785)):\n",
        "        topic_index = np.argmax(preds[i])\n",
        "        # interrupt : test결과보고, train에서 truth랑 비교하는부분 내가 argmax 신경 잘썼는지 체크해봐야겠다 생각.\n",
        "t = [1,2,3,4,5]\n",
        "result2classidx(t)"
      ]
    },
    {
      "cell_type": "code",
      "execution_count": null,
      "metadata": {
        "id": "xFoau_LRSL2t"
      },
      "outputs": [],
      "source": [
        "predict(\n",
        "    model = classifier_model,\n",
        "    test_loader=test_loader,\n",
        "    device=device\n",
        ")"
      ]
    },
    {
      "cell_type": "markdown",
      "metadata": {
        "id": "qeeMJ1F1SL2t"
      },
      "source": [
        "# Stratified K-fold Data - training "
      ]
    },
    {
      "cell_type": "code",
      "execution_count": 82,
      "metadata": {
        "id": "FprcJDMSSL2t",
        "colab": {
          "base_uri": "https://localhost:8080/",
          "height": 478
        },
        "outputId": "0dd93de1-c249-4a25-c7c7-32afbc4d12c6"
      },
      "outputs": [
        {
          "output_type": "stream",
          "name": "stdout",
          "text": [
            "Fold 0 Processing ...\n"
          ]
        },
        {
          "output_type": "stream",
          "name": "stderr",
          "text": [
            "Training ...: 100%|██████████| 571/571 [00:37<00:00, 15.28it/s]\n"
          ]
        },
        {
          "output_type": "stream",
          "name": "stdout",
          "text": [
            "Epoch 1  |  Train Loss : [1.62688]  |  Train Acc: [0.376607] \n",
            "Epoch 1  |  Valid Loss : [1.17452]  |  Valid Acc: [0.572143] \n",
            "============= Best model saved! =============\n",
            "================ model saved ================\n"
          ]
        },
        {
          "output_type": "stream",
          "name": "stderr",
          "text": [
            "Training ...:  12%|█▏        | 70/571 [00:04<00:33, 15.15it/s]\n"
          ]
        },
        {
          "output_type": "error",
          "ename": "KeyboardInterrupt",
          "evalue": "ignored",
          "traceback": [
            "\u001b[0;31m---------------------------------------------------------------------------\u001b[0m",
            "\u001b[0;31mKeyboardInterrupt\u001b[0m                         Traceback (most recent call last)",
            "\u001b[0;32m<ipython-input-82-144332b83d53>\u001b[0m in \u001b[0;36m<module>\u001b[0;34m\u001b[0m\n\u001b[1;32m     17\u001b[0m     train(model=classifier_model, train_loader=train_loader,valid_loader=val_loader, \n\u001b[1;32m     18\u001b[0m           \u001b[0moptimizer\u001b[0m\u001b[0;34m=\u001b[0m\u001b[0moptimizer\u001b[0m\u001b[0;34m,\u001b[0m \u001b[0mscheduler\u001b[0m\u001b[0;34m=\u001b[0m\u001b[0mscheduler\u001b[0m\u001b[0;34m,\u001b[0m \u001b[0mdevice\u001b[0m\u001b[0;34m=\u001b[0m\u001b[0mdevice\u001b[0m\u001b[0;34m,\u001b[0m\u001b[0;34m\u001b[0m\u001b[0;34m\u001b[0m\u001b[0m\n\u001b[0;32m---> 19\u001b[0;31m           criterion=criterion, ckpt_path=ckpt_path)\n\u001b[0m",
            "\u001b[0;32m<ipython-input-80-5650ebd74f07>\u001b[0m in \u001b[0;36mtrain\u001b[0;34m(model, train_loader, valid_loader, optimizer, scheduler, device, criterion, ckpt_path)\u001b[0m\n\u001b[1;32m     25\u001b[0m             \u001b[0moptimizer\u001b[0m\u001b[0;34m.\u001b[0m\u001b[0mstep\u001b[0m\u001b[0;34m(\u001b[0m\u001b[0;34m)\u001b[0m\u001b[0;34m\u001b[0m\u001b[0;34m\u001b[0m\u001b[0m\n\u001b[1;32m     26\u001b[0m \u001b[0;34m\u001b[0m\u001b[0m\n\u001b[0;32m---> 27\u001b[0;31m             \u001b[0mtrain_loss\u001b[0m\u001b[0;34m.\u001b[0m\u001b[0mappend\u001b[0m\u001b[0;34m(\u001b[0m\u001b[0mloss\u001b[0m\u001b[0;34m.\u001b[0m\u001b[0mitem\u001b[0m\u001b[0;34m(\u001b[0m\u001b[0;34m)\u001b[0m\u001b[0;34m)\u001b[0m\u001b[0;34m\u001b[0m\u001b[0;34m\u001b[0m\u001b[0m\n\u001b[0m\u001b[1;32m     28\u001b[0m             \u001b[0mtrain_acc\u001b[0m\u001b[0;34m.\u001b[0m\u001b[0mappend\u001b[0m\u001b[0;34m(\u001b[0m\u001b[0macc\u001b[0m\u001b[0;34m.\u001b[0m\u001b[0mitem\u001b[0m\u001b[0;34m(\u001b[0m\u001b[0;34m)\u001b[0m\u001b[0;34m)\u001b[0m\u001b[0;34m\u001b[0m\u001b[0;34m\u001b[0m\u001b[0m\n\u001b[1;32m     29\u001b[0m         \u001b[0;31m# scheduler.step()\u001b[0m\u001b[0;34m\u001b[0m\u001b[0;34m\u001b[0m\u001b[0;34m\u001b[0m\u001b[0m\n",
            "\u001b[0;31mKeyboardInterrupt\u001b[0m: "
          ]
        }
      ],
      "source": [
        "# import torch.optim as optim\n",
        "import os\n",
        "\n",
        "for fold in range(5):\n",
        "    print(f'Fold {fold} Processing ...')\n",
        "    \n",
        "    classifier_model = TransformerClassifier(n_vocab=32000, pad_idx=tokenizer.vocab['[PAD]'],\n",
        "                                        d_word_vec=512, d_model=512, d_inner=2048,\n",
        "                                        n_layers=6, n_head=8, d_k=64, dropout=0.1, n_position=MAX_LEN)\n",
        "    optimizer = torch.optim.Adam(params = classifier_model.parameters(), lr = CFG['LEARNING_RATE'])\n",
        "    # scheduler = optim.lr_scheduler.OneCycleLR(optimizer, max_lr=1e-2, steps_per_epoch=571, epochs=12, anneal_strategy='linear')\n",
        "    criterion = nn.CrossEntropyLoss()\n",
        "    train_loader = DataLoader(train_dataset[fold], batch_size=BATCH_SIZE, shuffle=True)\n",
        "    val_loader = DataLoader(val_dataset[fold], batch_size=BATCH_SIZE, shuffle=False)\n",
        "    ckpt_path = os.path.join(MODEL_PATH, f'fold{fold}')\n",
        "    \n",
        "    train(model=classifier_model, train_loader=train_loader,valid_loader=val_loader, \n",
        "          optimizer=optimizer, scheduler=scheduler, device=device, \n",
        "          criterion=criterion, ckpt_path=ckpt_path)"
      ]
    },
    {
      "cell_type": "markdown",
      "metadata": {
        "id": "BrGWnCcvSL2u"
      },
      "source": [
        "### ERRORS"
      ]
    },
    {
      "cell_type": "markdown",
      "metadata": {
        "id": "rZNAQqt3SL2u"
      },
      "source": [
        "##### ERROR 1 : ValueError: not enough values to unpack (expected 2, got 1)\n",
        "- it was 코드 오타\n"
      ]
    },
    {
      "cell_type": "markdown",
      "metadata": {
        "id": "_njRTZWnSL2u"
      },
      "source": [
        "#### ERROR 1 : Loss[1.94591], Acc[1.105499],[1.105548] for \"fold1,4\"\n",
        "- Train Loss, Valid Loss 값이 똑같게 나온다.\n",
        "- Accuracy 는 다르지만, 거의 비슷한 수준이다.\n",
        "\n",
        "1. 아예 같은 Loss 가 나온다는 것 은, 같은 데이터가 들어갔다는 것 이고,\n",
        "2. 다른 데이터셋인데 Train, Valid Loss가 같다는것은, --> \n",
        "    - weight 들이 .eval() 모드에서 잘 loaded 됐나?\n",
        "3. 한 데이터셋에서 (Valid)Acc가 같다는 것은, --> epoch마다 train data를 통해 학습이 전혀 이뤄지지 않았다는 것 이다."
      ]
    },
    {
      "cell_type": "markdown",
      "metadata": {
        "id": "7myhmBpnSL2u"
      },
      "source": [
        "### ISSUES"
      ]
    },
    {
      "cell_type": "markdown",
      "metadata": {
        "id": "BqaiwwcDSL2u"
      },
      "source": [
        "##### Issues 1\n",
        "1. 왜 epoch10 이후로 성능이 확 감소한거지? train에 overfitting 된것도 아니고, lr 문제인가?\n",
        "    - acc 산식이 완전 틀렸었다.\n",
        "2. 왜 inital training 시, accuracy 가 train, valid 둘 다 50%에 달하는거지?  binary classification도 아니고, \n",
        "    - acc 산식이 완전 틀렸었다."
      ]
    },
    {
      "cell_type": "markdown",
      "metadata": {
        "id": "frtH0ldqSL2u"
      },
      "source": [
        "# Ensemble\n",
        "\n",
        "http://www.dinnopartners.com/__trashed-4/ 참조함.\n",
        "\n",
        "1. 각 모델 load\n",
        "2. 각 모델 predict\n",
        "    - 1,4 모델 reliability check 선행\n",
        "3. 각 모델 Hard Voting -> generalized prediction."
      ]
    },
    {
      "cell_type": "markdown",
      "metadata": {
        "id": "0ini_IGmSL2v"
      },
      "source": [
        "## 1. Load"
      ]
    },
    {
      "cell_type": "code",
      "execution_count": 40,
      "metadata": {
        "id": "Q5mnv7JISL2v",
        "colab": {
          "base_uri": "https://localhost:8080/"
        },
        "outputId": "a237f615-02fb-4ec4-d0c7-2fdccd855df4"
      },
      "outputs": [
        {
          "output_type": "execute_result",
          "data": {
            "text/plain": [
              "TransformerClassifier(\n",
              "  (encoder): Encoder(\n",
              "    (src_word_emb): Embedding(32000, 512, padding_idx=1)\n",
              "    (position_enc): PostiionalEncoding()\n",
              "    (dropout): Dropout(p=0.1, inplace=False)\n",
              "    (layer_stack): ModuleList(\n",
              "      (0): EncoderLayer(\n",
              "        (slf_attn): MultiHeadAttention(\n",
              "          (w_q): Linear(in_features=512, out_features=512, bias=False)\n",
              "          (w_k): Linear(in_features=512, out_features=512, bias=False)\n",
              "          (w_v): Linear(in_features=512, out_features=512, bias=False)\n",
              "          (fc): Linear(in_features=512, out_features=512, bias=False)\n",
              "          (attention): ScaledDotProductAttention(\n",
              "            (dropout): Dropout(p=0.1, inplace=False)\n",
              "          )\n",
              "          (dropout): Dropout(p=0.1, inplace=False)\n",
              "          (layer_norm): LayerNorm((512,), eps=1e-06, elementwise_affine=True)\n",
              "        )\n",
              "        (pos_ffn): PositionwiseFeedForward(\n",
              "          (w_1): Linear(in_features=512, out_features=2048, bias=True)\n",
              "          (w_2): Linear(in_features=2048, out_features=512, bias=True)\n",
              "          (layer_norm): LayerNorm((512,), eps=1e-06, elementwise_affine=True)\n",
              "          (dropout): Dropout(p=0.1, inplace=False)\n",
              "        )\n",
              "      )\n",
              "      (1): EncoderLayer(\n",
              "        (slf_attn): MultiHeadAttention(\n",
              "          (w_q): Linear(in_features=512, out_features=512, bias=False)\n",
              "          (w_k): Linear(in_features=512, out_features=512, bias=False)\n",
              "          (w_v): Linear(in_features=512, out_features=512, bias=False)\n",
              "          (fc): Linear(in_features=512, out_features=512, bias=False)\n",
              "          (attention): ScaledDotProductAttention(\n",
              "            (dropout): Dropout(p=0.1, inplace=False)\n",
              "          )\n",
              "          (dropout): Dropout(p=0.1, inplace=False)\n",
              "          (layer_norm): LayerNorm((512,), eps=1e-06, elementwise_affine=True)\n",
              "        )\n",
              "        (pos_ffn): PositionwiseFeedForward(\n",
              "          (w_1): Linear(in_features=512, out_features=2048, bias=True)\n",
              "          (w_2): Linear(in_features=2048, out_features=512, bias=True)\n",
              "          (layer_norm): LayerNorm((512,), eps=1e-06, elementwise_affine=True)\n",
              "          (dropout): Dropout(p=0.1, inplace=False)\n",
              "        )\n",
              "      )\n",
              "      (2): EncoderLayer(\n",
              "        (slf_attn): MultiHeadAttention(\n",
              "          (w_q): Linear(in_features=512, out_features=512, bias=False)\n",
              "          (w_k): Linear(in_features=512, out_features=512, bias=False)\n",
              "          (w_v): Linear(in_features=512, out_features=512, bias=False)\n",
              "          (fc): Linear(in_features=512, out_features=512, bias=False)\n",
              "          (attention): ScaledDotProductAttention(\n",
              "            (dropout): Dropout(p=0.1, inplace=False)\n",
              "          )\n",
              "          (dropout): Dropout(p=0.1, inplace=False)\n",
              "          (layer_norm): LayerNorm((512,), eps=1e-06, elementwise_affine=True)\n",
              "        )\n",
              "        (pos_ffn): PositionwiseFeedForward(\n",
              "          (w_1): Linear(in_features=512, out_features=2048, bias=True)\n",
              "          (w_2): Linear(in_features=2048, out_features=512, bias=True)\n",
              "          (layer_norm): LayerNorm((512,), eps=1e-06, elementwise_affine=True)\n",
              "          (dropout): Dropout(p=0.1, inplace=False)\n",
              "        )\n",
              "      )\n",
              "      (3): EncoderLayer(\n",
              "        (slf_attn): MultiHeadAttention(\n",
              "          (w_q): Linear(in_features=512, out_features=512, bias=False)\n",
              "          (w_k): Linear(in_features=512, out_features=512, bias=False)\n",
              "          (w_v): Linear(in_features=512, out_features=512, bias=False)\n",
              "          (fc): Linear(in_features=512, out_features=512, bias=False)\n",
              "          (attention): ScaledDotProductAttention(\n",
              "            (dropout): Dropout(p=0.1, inplace=False)\n",
              "          )\n",
              "          (dropout): Dropout(p=0.1, inplace=False)\n",
              "          (layer_norm): LayerNorm((512,), eps=1e-06, elementwise_affine=True)\n",
              "        )\n",
              "        (pos_ffn): PositionwiseFeedForward(\n",
              "          (w_1): Linear(in_features=512, out_features=2048, bias=True)\n",
              "          (w_2): Linear(in_features=2048, out_features=512, bias=True)\n",
              "          (layer_norm): LayerNorm((512,), eps=1e-06, elementwise_affine=True)\n",
              "          (dropout): Dropout(p=0.1, inplace=False)\n",
              "        )\n",
              "      )\n",
              "      (4): EncoderLayer(\n",
              "        (slf_attn): MultiHeadAttention(\n",
              "          (w_q): Linear(in_features=512, out_features=512, bias=False)\n",
              "          (w_k): Linear(in_features=512, out_features=512, bias=False)\n",
              "          (w_v): Linear(in_features=512, out_features=512, bias=False)\n",
              "          (fc): Linear(in_features=512, out_features=512, bias=False)\n",
              "          (attention): ScaledDotProductAttention(\n",
              "            (dropout): Dropout(p=0.1, inplace=False)\n",
              "          )\n",
              "          (dropout): Dropout(p=0.1, inplace=False)\n",
              "          (layer_norm): LayerNorm((512,), eps=1e-06, elementwise_affine=True)\n",
              "        )\n",
              "        (pos_ffn): PositionwiseFeedForward(\n",
              "          (w_1): Linear(in_features=512, out_features=2048, bias=True)\n",
              "          (w_2): Linear(in_features=2048, out_features=512, bias=True)\n",
              "          (layer_norm): LayerNorm((512,), eps=1e-06, elementwise_affine=True)\n",
              "          (dropout): Dropout(p=0.1, inplace=False)\n",
              "        )\n",
              "      )\n",
              "      (5): EncoderLayer(\n",
              "        (slf_attn): MultiHeadAttention(\n",
              "          (w_q): Linear(in_features=512, out_features=512, bias=False)\n",
              "          (w_k): Linear(in_features=512, out_features=512, bias=False)\n",
              "          (w_v): Linear(in_features=512, out_features=512, bias=False)\n",
              "          (fc): Linear(in_features=512, out_features=512, bias=False)\n",
              "          (attention): ScaledDotProductAttention(\n",
              "            (dropout): Dropout(p=0.1, inplace=False)\n",
              "          )\n",
              "          (dropout): Dropout(p=0.1, inplace=False)\n",
              "          (layer_norm): LayerNorm((512,), eps=1e-06, elementwise_affine=True)\n",
              "        )\n",
              "        (pos_ffn): PositionwiseFeedForward(\n",
              "          (w_1): Linear(in_features=512, out_features=2048, bias=True)\n",
              "          (w_2): Linear(in_features=2048, out_features=512, bias=True)\n",
              "          (layer_norm): LayerNorm((512,), eps=1e-06, elementwise_affine=True)\n",
              "          (dropout): Dropout(p=0.1, inplace=False)\n",
              "        )\n",
              "      )\n",
              "    )\n",
              "    (layer_norm): LayerNorm((512,), eps=1e-06, elementwise_affine=True)\n",
              "  )\n",
              "  (linear1): Linear(in_features=15360, out_features=512, bias=True)\n",
              "  (relu): ReLU()\n",
              "  (linear2): Linear(in_features=512, out_features=7, bias=True)\n",
              ")"
            ]
          },
          "metadata": {},
          "execution_count": 40
        }
      ],
      "source": [
        "# 1. 각 모델 loading\n",
        "import os\n",
        "\n",
        "\n",
        "model_0 = TransformerClassifier(n_vocab=32000, pad_idx=tokenizer.vocab['[PAD]'],\n",
        "                                d_word_vec=512, d_model=512, d_inner=2048,\n",
        "                                n_layers=6, n_head=8, d_k=64, dropout=0.1, n_position=MAX_LEN)\n",
        "model_0.load_state_dict(torch.load('./ckpt/fold0/best_model.pth'))\n",
        "model_0.eval()\n",
        "\n",
        "model_1 = TransformerClassifier(n_vocab=32000, pad_idx=tokenizer.vocab['[PAD]'],\n",
        "                                d_word_vec=512, d_model=512, d_inner=2048,\n",
        "                                n_layers=6, n_head=8, d_k=64, dropout=0.1, n_position=MAX_LEN)\n",
        "model_1.load_state_dict(torch.load('./ckpt/fold1/best_model.pth'))\n",
        "model_1.eval()\n",
        "\n",
        "model_2 = TransformerClassifier(n_vocab=32000, pad_idx=tokenizer.vocab['[PAD]'],\n",
        "                                d_word_vec=512, d_model=512, d_inner=2048,\n",
        "                                n_layers=6, n_head=8, d_k=64, dropout=0.1, n_position=MAX_LEN)\n",
        "model_2.load_state_dict(torch.load('./ckpt/fold2/best_model.pth'))\n",
        "model_2.eval()\n",
        "\n",
        "model_3 = TransformerClassifier(n_vocab=32000, pad_idx=tokenizer.vocab['[PAD]'],\n",
        "                                d_word_vec=512, d_model=512, d_inner=2048,\n",
        "                                n_layers=6, n_head=8, d_k=64, dropout=0.1, n_position=MAX_LEN)\n",
        "model_3.load_state_dict(torch.load('./ckpt/fold3/best_model.pth'))\n",
        "model_3.eval()\n",
        "\n",
        "model_4 = TransformerClassifier(n_vocab=32000, pad_idx=tokenizer.vocab['[PAD]'],\n",
        "                                d_word_vec=512, d_model=512, d_inner=2048,\n",
        "                                n_layers=6, n_head=8, d_k=64, dropout=0.1, n_position=MAX_LEN)\n",
        "model_4.load_state_dict(torch.load('./ckpt/fold4/best_model.pth'))\n",
        "model_4.eval()\n",
        "\n"
      ]
    },
    {
      "cell_type": "markdown",
      "metadata": {
        "id": "7Yqt9oSxSL2v"
      },
      "source": [
        "## 2. Predict"
      ]
    },
    {
      "cell_type": "code",
      "execution_count": 41,
      "metadata": {
        "id": "Z9begWgaSL2v"
      },
      "outputs": [],
      "source": [
        "def predict(model, test_loader, device):\n",
        "    model.to(device)\n",
        "    model.eval()\n",
        "    preds=[]\n",
        "    with torch.no_grad():\n",
        "        for X, in tqdm(test_loader, desc='Inferencing ...'):\n",
        "            X = X.to(device)\n",
        "            \n",
        "            pred = model(X)\n",
        "            pred = torch.argmax(pred.cpu(), dim=1)\n",
        "            pred = np.array(pred).tolist()\n",
        "            preds += pred\n",
        "    \n",
        "    return preds"
      ]
    },
    {
      "cell_type": "markdown",
      "metadata": {
        "id": "NrBzNKkESL2v"
      },
      "source": [
        "## Test Data"
      ]
    },
    {
      "cell_type": "code",
      "execution_count": 42,
      "metadata": {
        "id": "E2T6HcsDSL2v"
      },
      "outputs": [],
      "source": [
        "test_dataset = MyDataset(data_df=test_data, tokenizer=tokenizer, max_seq_len=MAX_LEN, pad_idx = 1, mode='test')\n",
        "\n",
        "# make test loader\n",
        "test_loader = DataLoader(test_dataset, batch_size=BATCH_SIZE, shuffle=False)"
      ]
    },
    {
      "cell_type": "markdown",
      "metadata": {
        "id": "QTKW3kGGSL2v"
      },
      "source": [
        "## Model Load"
      ]
    },
    {
      "cell_type": "code",
      "execution_count": 43,
      "metadata": {
        "id": "Nam0gjSkSL2w",
        "colab": {
          "base_uri": "https://localhost:8080/"
        },
        "outputId": "11980022-8153-4e09-d576-77e4b5ce1a65"
      },
      "outputs": [
        {
          "output_type": "stream",
          "name": "stderr",
          "text": [
            "Inferencing ...: 100%|██████████| 143/143 [00:03<00:00, 42.73it/s]\n",
            "Inferencing ...: 100%|██████████| 143/143 [00:03<00:00, 43.40it/s]\n",
            "Inferencing ...: 100%|██████████| 143/143 [00:03<00:00, 43.69it/s]\n",
            "Inferencing ...: 100%|██████████| 143/143 [00:03<00:00, 42.80it/s]\n",
            "Inferencing ...: 100%|██████████| 143/143 [00:03<00:00, 43.39it/s]\n"
          ]
        }
      ],
      "source": [
        "# preds_0 = predict(model_0, test_loader, device)\n",
        "preds_1 = predict(model_1, test_loader, device)\n",
        "preds_2 = predict(model_2, test_loader, device)\n",
        "preds_3 = predict(model_3, test_loader, device)\n",
        "preds_4 = predict(model_4, test_loader, device)\n",
        "\n",
        "indices = np.arange(45654,54784+1).tolist()\n",
        "\n",
        "col_name = ['index', 'topic_idx']"
      ]
    },
    {
      "cell_type": "markdown",
      "metadata": {
        "id": "uQCf5fNNSL2w"
      },
      "source": [
        "Voating"
      ]
    },
    {
      "cell_type": "code",
      "execution_count": 67,
      "metadata": {
        "id": "Lfz4I9R_SL2w",
        "colab": {
          "base_uri": "https://localhost:8080/"
        },
        "outputId": "d5ec9c28-feb4-4338-8b96-92ad03c97115"
      },
      "outputs": [
        {
          "output_type": "execute_result",
          "data": {
            "text/plain": [
              "9131"
            ]
          },
          "metadata": {},
          "execution_count": 67
        }
      ],
      "source": [
        "# Model들의 결과를 hard voting 해줬다.\n",
        "import numpy as np\n",
        "\n",
        "preds = []\n",
        "for i in range(len(preds_1)):\n",
        "    logit = []\n",
        "    # logit += [preds_1[i]]     홀수개수 맞춰준다.\n",
        "    logit += [preds_2[i]]\n",
        "    logit += [preds_3[i]]\n",
        "    logit += [preds_4[i]]\n",
        "    counts = np.array([0,0,0,0,0,0,0])\n",
        "\n",
        "    for i in range(4):\n",
        "        counts[logit[0]] += 1\n",
        "    \n",
        "    preds.append(np.argmax(counts))\n"
      ]
    },
    {
      "cell_type": "code",
      "source": [],
      "metadata": {
        "id": "jr5sOc95nc5Z"
      },
      "execution_count": null,
      "outputs": []
    },
    {
      "cell_type": "code",
      "execution_count": 68,
      "metadata": {
        "id": "5YX3pLOsSL2w"
      },
      "outputs": [],
      "source": [
        "test_inference = pd.DataFrame({\n",
        "    'index':indices,\n",
        "    'topic_idx':preds\n",
        "})\n",
        "\n",
        "test_inference.to_csv('./prediction/pred_ensembled.csv',index=False)"
      ]
    }
  ],
  "metadata": {
    "kernelspec": {
      "display_name": "Python 3.8.12 ('Ethics-Korean')",
      "language": "python",
      "name": "python3"
    },
    "language_info": {
      "codemirror_mode": {
        "name": "ipython",
        "version": 3
      },
      "file_extension": ".py",
      "mimetype": "text/x-python",
      "name": "python",
      "nbconvert_exporter": "python",
      "pygments_lexer": "ipython3",
      "version": "3.8.12"
    },
    "orig_nbformat": 4,
    "vscode": {
      "interpreter": {
        "hash": "d7b8a9d296651b950055feafaab8f47ff1cee70807e6c570958d0b27d2589bac"
      }
    },
    "colab": {
      "name": "main.ipynb",
      "provenance": [],
      "collapsed_sections": [
        "VMKDEO8dSL2l",
        "z5bsvaNoSL2n",
        "N0_AzGdASL2p",
        "HDfOvYSISL2p",
        "GCemnF0-SL2q",
        "eZUN9cduSL2q",
        "qCyan1GgSL2q",
        "bScRDUpGSL2q",
        "owQkntJUSL2s",
        "l-gFXwRnSL2s",
        "Pk9x1Q3oSL2t",
        "BrGWnCcvSL2u",
        "_njRTZWnSL2u",
        "7myhmBpnSL2u"
      ]
    },
    "accelerator": "GPU",
    "gpuClass": "standard",
    "widgets": {
      "application/vnd.jupyter.widget-state+json": {
        "a50b727e2a6642fd81df90ff384e421a": {
          "model_module": "@jupyter-widgets/controls",
          "model_name": "HBoxModel",
          "model_module_version": "1.5.0",
          "state": {
            "_dom_classes": [],
            "_model_module": "@jupyter-widgets/controls",
            "_model_module_version": "1.5.0",
            "_model_name": "HBoxModel",
            "_view_count": null,
            "_view_module": "@jupyter-widgets/controls",
            "_view_module_version": "1.5.0",
            "_view_name": "HBoxView",
            "box_style": "",
            "children": [
              "IPY_MODEL_fc7afb0c4a6c4184be2719b903b9a0e0",
              "IPY_MODEL_b6c4bdb45a544452b5d2340d0c7cbaf5",
              "IPY_MODEL_0ac5b10b49a5479a95a741d4a902aa1c"
            ],
            "layout": "IPY_MODEL_04dc98e0bd8743bdb4e8628dfd3675b1"
          }
        },
        "fc7afb0c4a6c4184be2719b903b9a0e0": {
          "model_module": "@jupyter-widgets/controls",
          "model_name": "HTMLModel",
          "model_module_version": "1.5.0",
          "state": {
            "_dom_classes": [],
            "_model_module": "@jupyter-widgets/controls",
            "_model_module_version": "1.5.0",
            "_model_name": "HTMLModel",
            "_view_count": null,
            "_view_module": "@jupyter-widgets/controls",
            "_view_module_version": "1.5.0",
            "_view_name": "HTMLView",
            "description": "",
            "description_tooltip": null,
            "layout": "IPY_MODEL_dae8f0c9570747cab0e8ae0954edcf03",
            "placeholder": "​",
            "style": "IPY_MODEL_212d73952c80483b96b3a12379bc25a4",
            "value": "Downloading tokenizer_config.json: 100%"
          }
        },
        "b6c4bdb45a544452b5d2340d0c7cbaf5": {
          "model_module": "@jupyter-widgets/controls",
          "model_name": "FloatProgressModel",
          "model_module_version": "1.5.0",
          "state": {
            "_dom_classes": [],
            "_model_module": "@jupyter-widgets/controls",
            "_model_module_version": "1.5.0",
            "_model_name": "FloatProgressModel",
            "_view_count": null,
            "_view_module": "@jupyter-widgets/controls",
            "_view_module_version": "1.5.0",
            "_view_name": "ProgressView",
            "bar_style": "success",
            "description": "",
            "description_tooltip": null,
            "layout": "IPY_MODEL_f0fd69936aa548fa8c7b49932da2512c",
            "max": 375,
            "min": 0,
            "orientation": "horizontal",
            "style": "IPY_MODEL_54a91262ad9a48ccb31d544790623c7d",
            "value": 375
          }
        },
        "0ac5b10b49a5479a95a741d4a902aa1c": {
          "model_module": "@jupyter-widgets/controls",
          "model_name": "HTMLModel",
          "model_module_version": "1.5.0",
          "state": {
            "_dom_classes": [],
            "_model_module": "@jupyter-widgets/controls",
            "_model_module_version": "1.5.0",
            "_model_name": "HTMLModel",
            "_view_count": null,
            "_view_module": "@jupyter-widgets/controls",
            "_view_module_version": "1.5.0",
            "_view_name": "HTMLView",
            "description": "",
            "description_tooltip": null,
            "layout": "IPY_MODEL_4e66a0906408428a8ea1e5d8dfc078e6",
            "placeholder": "​",
            "style": "IPY_MODEL_dc5ff88494624182bbe2e3ba3f95c070",
            "value": " 375/375 [00:00&lt;00:00, 10.2kB/s]"
          }
        },
        "04dc98e0bd8743bdb4e8628dfd3675b1": {
          "model_module": "@jupyter-widgets/base",
          "model_name": "LayoutModel",
          "model_module_version": "1.2.0",
          "state": {
            "_model_module": "@jupyter-widgets/base",
            "_model_module_version": "1.2.0",
            "_model_name": "LayoutModel",
            "_view_count": null,
            "_view_module": "@jupyter-widgets/base",
            "_view_module_version": "1.2.0",
            "_view_name": "LayoutView",
            "align_content": null,
            "align_items": null,
            "align_self": null,
            "border": null,
            "bottom": null,
            "display": null,
            "flex": null,
            "flex_flow": null,
            "grid_area": null,
            "grid_auto_columns": null,
            "grid_auto_flow": null,
            "grid_auto_rows": null,
            "grid_column": null,
            "grid_gap": null,
            "grid_row": null,
            "grid_template_areas": null,
            "grid_template_columns": null,
            "grid_template_rows": null,
            "height": null,
            "justify_content": null,
            "justify_items": null,
            "left": null,
            "margin": null,
            "max_height": null,
            "max_width": null,
            "min_height": null,
            "min_width": null,
            "object_fit": null,
            "object_position": null,
            "order": null,
            "overflow": null,
            "overflow_x": null,
            "overflow_y": null,
            "padding": null,
            "right": null,
            "top": null,
            "visibility": null,
            "width": null
          }
        },
        "dae8f0c9570747cab0e8ae0954edcf03": {
          "model_module": "@jupyter-widgets/base",
          "model_name": "LayoutModel",
          "model_module_version": "1.2.0",
          "state": {
            "_model_module": "@jupyter-widgets/base",
            "_model_module_version": "1.2.0",
            "_model_name": "LayoutModel",
            "_view_count": null,
            "_view_module": "@jupyter-widgets/base",
            "_view_module_version": "1.2.0",
            "_view_name": "LayoutView",
            "align_content": null,
            "align_items": null,
            "align_self": null,
            "border": null,
            "bottom": null,
            "display": null,
            "flex": null,
            "flex_flow": null,
            "grid_area": null,
            "grid_auto_columns": null,
            "grid_auto_flow": null,
            "grid_auto_rows": null,
            "grid_column": null,
            "grid_gap": null,
            "grid_row": null,
            "grid_template_areas": null,
            "grid_template_columns": null,
            "grid_template_rows": null,
            "height": null,
            "justify_content": null,
            "justify_items": null,
            "left": null,
            "margin": null,
            "max_height": null,
            "max_width": null,
            "min_height": null,
            "min_width": null,
            "object_fit": null,
            "object_position": null,
            "order": null,
            "overflow": null,
            "overflow_x": null,
            "overflow_y": null,
            "padding": null,
            "right": null,
            "top": null,
            "visibility": null,
            "width": null
          }
        },
        "212d73952c80483b96b3a12379bc25a4": {
          "model_module": "@jupyter-widgets/controls",
          "model_name": "DescriptionStyleModel",
          "model_module_version": "1.5.0",
          "state": {
            "_model_module": "@jupyter-widgets/controls",
            "_model_module_version": "1.5.0",
            "_model_name": "DescriptionStyleModel",
            "_view_count": null,
            "_view_module": "@jupyter-widgets/base",
            "_view_module_version": "1.2.0",
            "_view_name": "StyleView",
            "description_width": ""
          }
        },
        "f0fd69936aa548fa8c7b49932da2512c": {
          "model_module": "@jupyter-widgets/base",
          "model_name": "LayoutModel",
          "model_module_version": "1.2.0",
          "state": {
            "_model_module": "@jupyter-widgets/base",
            "_model_module_version": "1.2.0",
            "_model_name": "LayoutModel",
            "_view_count": null,
            "_view_module": "@jupyter-widgets/base",
            "_view_module_version": "1.2.0",
            "_view_name": "LayoutView",
            "align_content": null,
            "align_items": null,
            "align_self": null,
            "border": null,
            "bottom": null,
            "display": null,
            "flex": null,
            "flex_flow": null,
            "grid_area": null,
            "grid_auto_columns": null,
            "grid_auto_flow": null,
            "grid_auto_rows": null,
            "grid_column": null,
            "grid_gap": null,
            "grid_row": null,
            "grid_template_areas": null,
            "grid_template_columns": null,
            "grid_template_rows": null,
            "height": null,
            "justify_content": null,
            "justify_items": null,
            "left": null,
            "margin": null,
            "max_height": null,
            "max_width": null,
            "min_height": null,
            "min_width": null,
            "object_fit": null,
            "object_position": null,
            "order": null,
            "overflow": null,
            "overflow_x": null,
            "overflow_y": null,
            "padding": null,
            "right": null,
            "top": null,
            "visibility": null,
            "width": null
          }
        },
        "54a91262ad9a48ccb31d544790623c7d": {
          "model_module": "@jupyter-widgets/controls",
          "model_name": "ProgressStyleModel",
          "model_module_version": "1.5.0",
          "state": {
            "_model_module": "@jupyter-widgets/controls",
            "_model_module_version": "1.5.0",
            "_model_name": "ProgressStyleModel",
            "_view_count": null,
            "_view_module": "@jupyter-widgets/base",
            "_view_module_version": "1.2.0",
            "_view_name": "StyleView",
            "bar_color": null,
            "description_width": ""
          }
        },
        "4e66a0906408428a8ea1e5d8dfc078e6": {
          "model_module": "@jupyter-widgets/base",
          "model_name": "LayoutModel",
          "model_module_version": "1.2.0",
          "state": {
            "_model_module": "@jupyter-widgets/base",
            "_model_module_version": "1.2.0",
            "_model_name": "LayoutModel",
            "_view_count": null,
            "_view_module": "@jupyter-widgets/base",
            "_view_module_version": "1.2.0",
            "_view_name": "LayoutView",
            "align_content": null,
            "align_items": null,
            "align_self": null,
            "border": null,
            "bottom": null,
            "display": null,
            "flex": null,
            "flex_flow": null,
            "grid_area": null,
            "grid_auto_columns": null,
            "grid_auto_flow": null,
            "grid_auto_rows": null,
            "grid_column": null,
            "grid_gap": null,
            "grid_row": null,
            "grid_template_areas": null,
            "grid_template_columns": null,
            "grid_template_rows": null,
            "height": null,
            "justify_content": null,
            "justify_items": null,
            "left": null,
            "margin": null,
            "max_height": null,
            "max_width": null,
            "min_height": null,
            "min_width": null,
            "object_fit": null,
            "object_position": null,
            "order": null,
            "overflow": null,
            "overflow_x": null,
            "overflow_y": null,
            "padding": null,
            "right": null,
            "top": null,
            "visibility": null,
            "width": null
          }
        },
        "dc5ff88494624182bbe2e3ba3f95c070": {
          "model_module": "@jupyter-widgets/controls",
          "model_name": "DescriptionStyleModel",
          "model_module_version": "1.5.0",
          "state": {
            "_model_module": "@jupyter-widgets/controls",
            "_model_module_version": "1.5.0",
            "_model_name": "DescriptionStyleModel",
            "_view_count": null,
            "_view_module": "@jupyter-widgets/base",
            "_view_module_version": "1.2.0",
            "_view_name": "StyleView",
            "description_width": ""
          }
        },
        "e2ce79fc76bb4ddaabb96eb9d012c743": {
          "model_module": "@jupyter-widgets/controls",
          "model_name": "HBoxModel",
          "model_module_version": "1.5.0",
          "state": {
            "_dom_classes": [],
            "_model_module": "@jupyter-widgets/controls",
            "_model_module_version": "1.5.0",
            "_model_name": "HBoxModel",
            "_view_count": null,
            "_view_module": "@jupyter-widgets/controls",
            "_view_module_version": "1.5.0",
            "_view_name": "HBoxView",
            "box_style": "",
            "children": [
              "IPY_MODEL_efc3a4cb022142468e831e387ef71c9e",
              "IPY_MODEL_b1db3b46c37244449439f687a361ca76",
              "IPY_MODEL_9e5998ff829d43b6900d0c382f1eb87f"
            ],
            "layout": "IPY_MODEL_b5011d98e396463d98f9fa3e129ae5d2"
          }
        },
        "efc3a4cb022142468e831e387ef71c9e": {
          "model_module": "@jupyter-widgets/controls",
          "model_name": "HTMLModel",
          "model_module_version": "1.5.0",
          "state": {
            "_dom_classes": [],
            "_model_module": "@jupyter-widgets/controls",
            "_model_module_version": "1.5.0",
            "_model_name": "HTMLModel",
            "_view_count": null,
            "_view_module": "@jupyter-widgets/controls",
            "_view_module_version": "1.5.0",
            "_view_name": "HTMLView",
            "description": "",
            "description_tooltip": null,
            "layout": "IPY_MODEL_786dbc3ec23e43a8ac23bb07d19c8855",
            "placeholder": "​",
            "style": "IPY_MODEL_e8bfac27df8f4397be49c4e319542e3c",
            "value": "Downloading vocab.txt: 100%"
          }
        },
        "b1db3b46c37244449439f687a361ca76": {
          "model_module": "@jupyter-widgets/controls",
          "model_name": "FloatProgressModel",
          "model_module_version": "1.5.0",
          "state": {
            "_dom_classes": [],
            "_model_module": "@jupyter-widgets/controls",
            "_model_module_version": "1.5.0",
            "_model_name": "FloatProgressModel",
            "_view_count": null,
            "_view_module": "@jupyter-widgets/controls",
            "_view_module_version": "1.5.0",
            "_view_name": "ProgressView",
            "bar_style": "success",
            "description": "",
            "description_tooltip": null,
            "layout": "IPY_MODEL_07d611410f9d477fac6700c22e487391",
            "max": 248477,
            "min": 0,
            "orientation": "horizontal",
            "style": "IPY_MODEL_f42af52feefd44c7b05483048a94fb64",
            "value": 248477
          }
        },
        "9e5998ff829d43b6900d0c382f1eb87f": {
          "model_module": "@jupyter-widgets/controls",
          "model_name": "HTMLModel",
          "model_module_version": "1.5.0",
          "state": {
            "_dom_classes": [],
            "_model_module": "@jupyter-widgets/controls",
            "_model_module_version": "1.5.0",
            "_model_name": "HTMLModel",
            "_view_count": null,
            "_view_module": "@jupyter-widgets/controls",
            "_view_module_version": "1.5.0",
            "_view_name": "HTMLView",
            "description": "",
            "description_tooltip": null,
            "layout": "IPY_MODEL_1ef9cde1ea0242a6848545399536c06e",
            "placeholder": "​",
            "style": "IPY_MODEL_942a1d5d5794425796d3f8fe92dbd915",
            "value": " 243k/243k [00:00&lt;00:00, 899kB/s]"
          }
        },
        "b5011d98e396463d98f9fa3e129ae5d2": {
          "model_module": "@jupyter-widgets/base",
          "model_name": "LayoutModel",
          "model_module_version": "1.2.0",
          "state": {
            "_model_module": "@jupyter-widgets/base",
            "_model_module_version": "1.2.0",
            "_model_name": "LayoutModel",
            "_view_count": null,
            "_view_module": "@jupyter-widgets/base",
            "_view_module_version": "1.2.0",
            "_view_name": "LayoutView",
            "align_content": null,
            "align_items": null,
            "align_self": null,
            "border": null,
            "bottom": null,
            "display": null,
            "flex": null,
            "flex_flow": null,
            "grid_area": null,
            "grid_auto_columns": null,
            "grid_auto_flow": null,
            "grid_auto_rows": null,
            "grid_column": null,
            "grid_gap": null,
            "grid_row": null,
            "grid_template_areas": null,
            "grid_template_columns": null,
            "grid_template_rows": null,
            "height": null,
            "justify_content": null,
            "justify_items": null,
            "left": null,
            "margin": null,
            "max_height": null,
            "max_width": null,
            "min_height": null,
            "min_width": null,
            "object_fit": null,
            "object_position": null,
            "order": null,
            "overflow": null,
            "overflow_x": null,
            "overflow_y": null,
            "padding": null,
            "right": null,
            "top": null,
            "visibility": null,
            "width": null
          }
        },
        "786dbc3ec23e43a8ac23bb07d19c8855": {
          "model_module": "@jupyter-widgets/base",
          "model_name": "LayoutModel",
          "model_module_version": "1.2.0",
          "state": {
            "_model_module": "@jupyter-widgets/base",
            "_model_module_version": "1.2.0",
            "_model_name": "LayoutModel",
            "_view_count": null,
            "_view_module": "@jupyter-widgets/base",
            "_view_module_version": "1.2.0",
            "_view_name": "LayoutView",
            "align_content": null,
            "align_items": null,
            "align_self": null,
            "border": null,
            "bottom": null,
            "display": null,
            "flex": null,
            "flex_flow": null,
            "grid_area": null,
            "grid_auto_columns": null,
            "grid_auto_flow": null,
            "grid_auto_rows": null,
            "grid_column": null,
            "grid_gap": null,
            "grid_row": null,
            "grid_template_areas": null,
            "grid_template_columns": null,
            "grid_template_rows": null,
            "height": null,
            "justify_content": null,
            "justify_items": null,
            "left": null,
            "margin": null,
            "max_height": null,
            "max_width": null,
            "min_height": null,
            "min_width": null,
            "object_fit": null,
            "object_position": null,
            "order": null,
            "overflow": null,
            "overflow_x": null,
            "overflow_y": null,
            "padding": null,
            "right": null,
            "top": null,
            "visibility": null,
            "width": null
          }
        },
        "e8bfac27df8f4397be49c4e319542e3c": {
          "model_module": "@jupyter-widgets/controls",
          "model_name": "DescriptionStyleModel",
          "model_module_version": "1.5.0",
          "state": {
            "_model_module": "@jupyter-widgets/controls",
            "_model_module_version": "1.5.0",
            "_model_name": "DescriptionStyleModel",
            "_view_count": null,
            "_view_module": "@jupyter-widgets/base",
            "_view_module_version": "1.2.0",
            "_view_name": "StyleView",
            "description_width": ""
          }
        },
        "07d611410f9d477fac6700c22e487391": {
          "model_module": "@jupyter-widgets/base",
          "model_name": "LayoutModel",
          "model_module_version": "1.2.0",
          "state": {
            "_model_module": "@jupyter-widgets/base",
            "_model_module_version": "1.2.0",
            "_model_name": "LayoutModel",
            "_view_count": null,
            "_view_module": "@jupyter-widgets/base",
            "_view_module_version": "1.2.0",
            "_view_name": "LayoutView",
            "align_content": null,
            "align_items": null,
            "align_self": null,
            "border": null,
            "bottom": null,
            "display": null,
            "flex": null,
            "flex_flow": null,
            "grid_area": null,
            "grid_auto_columns": null,
            "grid_auto_flow": null,
            "grid_auto_rows": null,
            "grid_column": null,
            "grid_gap": null,
            "grid_row": null,
            "grid_template_areas": null,
            "grid_template_columns": null,
            "grid_template_rows": null,
            "height": null,
            "justify_content": null,
            "justify_items": null,
            "left": null,
            "margin": null,
            "max_height": null,
            "max_width": null,
            "min_height": null,
            "min_width": null,
            "object_fit": null,
            "object_position": null,
            "order": null,
            "overflow": null,
            "overflow_x": null,
            "overflow_y": null,
            "padding": null,
            "right": null,
            "top": null,
            "visibility": null,
            "width": null
          }
        },
        "f42af52feefd44c7b05483048a94fb64": {
          "model_module": "@jupyter-widgets/controls",
          "model_name": "ProgressStyleModel",
          "model_module_version": "1.5.0",
          "state": {
            "_model_module": "@jupyter-widgets/controls",
            "_model_module_version": "1.5.0",
            "_model_name": "ProgressStyleModel",
            "_view_count": null,
            "_view_module": "@jupyter-widgets/base",
            "_view_module_version": "1.2.0",
            "_view_name": "StyleView",
            "bar_color": null,
            "description_width": ""
          }
        },
        "1ef9cde1ea0242a6848545399536c06e": {
          "model_module": "@jupyter-widgets/base",
          "model_name": "LayoutModel",
          "model_module_version": "1.2.0",
          "state": {
            "_model_module": "@jupyter-widgets/base",
            "_model_module_version": "1.2.0",
            "_model_name": "LayoutModel",
            "_view_count": null,
            "_view_module": "@jupyter-widgets/base",
            "_view_module_version": "1.2.0",
            "_view_name": "LayoutView",
            "align_content": null,
            "align_items": null,
            "align_self": null,
            "border": null,
            "bottom": null,
            "display": null,
            "flex": null,
            "flex_flow": null,
            "grid_area": null,
            "grid_auto_columns": null,
            "grid_auto_flow": null,
            "grid_auto_rows": null,
            "grid_column": null,
            "grid_gap": null,
            "grid_row": null,
            "grid_template_areas": null,
            "grid_template_columns": null,
            "grid_template_rows": null,
            "height": null,
            "justify_content": null,
            "justify_items": null,
            "left": null,
            "margin": null,
            "max_height": null,
            "max_width": null,
            "min_height": null,
            "min_width": null,
            "object_fit": null,
            "object_position": null,
            "order": null,
            "overflow": null,
            "overflow_x": null,
            "overflow_y": null,
            "padding": null,
            "right": null,
            "top": null,
            "visibility": null,
            "width": null
          }
        },
        "942a1d5d5794425796d3f8fe92dbd915": {
          "model_module": "@jupyter-widgets/controls",
          "model_name": "DescriptionStyleModel",
          "model_module_version": "1.5.0",
          "state": {
            "_model_module": "@jupyter-widgets/controls",
            "_model_module_version": "1.5.0",
            "_model_name": "DescriptionStyleModel",
            "_view_count": null,
            "_view_module": "@jupyter-widgets/base",
            "_view_module_version": "1.2.0",
            "_view_name": "StyleView",
            "description_width": ""
          }
        },
        "1b93e371a4b54d53a14e5e9c28e9f087": {
          "model_module": "@jupyter-widgets/controls",
          "model_name": "HBoxModel",
          "model_module_version": "1.5.0",
          "state": {
            "_dom_classes": [],
            "_model_module": "@jupyter-widgets/controls",
            "_model_module_version": "1.5.0",
            "_model_name": "HBoxModel",
            "_view_count": null,
            "_view_module": "@jupyter-widgets/controls",
            "_view_module_version": "1.5.0",
            "_view_name": "HBoxView",
            "box_style": "",
            "children": [
              "IPY_MODEL_f14d0c2debfc477980de25e963e07715",
              "IPY_MODEL_89f8c07821284e50b817335e73266aaa",
              "IPY_MODEL_0b57d531750b4b2db5d740c2481db320"
            ],
            "layout": "IPY_MODEL_35f386bbbb12404b9605fadb3fb05ff6"
          }
        },
        "f14d0c2debfc477980de25e963e07715": {
          "model_module": "@jupyter-widgets/controls",
          "model_name": "HTMLModel",
          "model_module_version": "1.5.0",
          "state": {
            "_dom_classes": [],
            "_model_module": "@jupyter-widgets/controls",
            "_model_module_version": "1.5.0",
            "_model_name": "HTMLModel",
            "_view_count": null,
            "_view_module": "@jupyter-widgets/controls",
            "_view_module_version": "1.5.0",
            "_view_name": "HTMLView",
            "description": "",
            "description_tooltip": null,
            "layout": "IPY_MODEL_8f96e8a2a0fa4595ab736474c58e0699",
            "placeholder": "​",
            "style": "IPY_MODEL_4e4d16e93ae54cbb846da41da97f25b0",
            "value": "Downloading tokenizer.json: 100%"
          }
        },
        "89f8c07821284e50b817335e73266aaa": {
          "model_module": "@jupyter-widgets/controls",
          "model_name": "FloatProgressModel",
          "model_module_version": "1.5.0",
          "state": {
            "_dom_classes": [],
            "_model_module": "@jupyter-widgets/controls",
            "_model_module_version": "1.5.0",
            "_model_name": "FloatProgressModel",
            "_view_count": null,
            "_view_module": "@jupyter-widgets/controls",
            "_view_module_version": "1.5.0",
            "_view_name": "ProgressView",
            "bar_style": "success",
            "description": "",
            "description_tooltip": null,
            "layout": "IPY_MODEL_bb5bacf08f754026ad11b68e1fe0968a",
            "max": 751504,
            "min": 0,
            "orientation": "horizontal",
            "style": "IPY_MODEL_bc6416c8a258417daee95720e62f5a6e",
            "value": 751504
          }
        },
        "0b57d531750b4b2db5d740c2481db320": {
          "model_module": "@jupyter-widgets/controls",
          "model_name": "HTMLModel",
          "model_module_version": "1.5.0",
          "state": {
            "_dom_classes": [],
            "_model_module": "@jupyter-widgets/controls",
            "_model_module_version": "1.5.0",
            "_model_name": "HTMLModel",
            "_view_count": null,
            "_view_module": "@jupyter-widgets/controls",
            "_view_module_version": "1.5.0",
            "_view_name": "HTMLView",
            "description": "",
            "description_tooltip": null,
            "layout": "IPY_MODEL_e269babc596e4b919d6c24e0c3f819df",
            "placeholder": "​",
            "style": "IPY_MODEL_d2ec131966774861b7b3601f0ae957dc",
            "value": " 734k/734k [00:00&lt;00:00, 897kB/s]"
          }
        },
        "35f386bbbb12404b9605fadb3fb05ff6": {
          "model_module": "@jupyter-widgets/base",
          "model_name": "LayoutModel",
          "model_module_version": "1.2.0",
          "state": {
            "_model_module": "@jupyter-widgets/base",
            "_model_module_version": "1.2.0",
            "_model_name": "LayoutModel",
            "_view_count": null,
            "_view_module": "@jupyter-widgets/base",
            "_view_module_version": "1.2.0",
            "_view_name": "LayoutView",
            "align_content": null,
            "align_items": null,
            "align_self": null,
            "border": null,
            "bottom": null,
            "display": null,
            "flex": null,
            "flex_flow": null,
            "grid_area": null,
            "grid_auto_columns": null,
            "grid_auto_flow": null,
            "grid_auto_rows": null,
            "grid_column": null,
            "grid_gap": null,
            "grid_row": null,
            "grid_template_areas": null,
            "grid_template_columns": null,
            "grid_template_rows": null,
            "height": null,
            "justify_content": null,
            "justify_items": null,
            "left": null,
            "margin": null,
            "max_height": null,
            "max_width": null,
            "min_height": null,
            "min_width": null,
            "object_fit": null,
            "object_position": null,
            "order": null,
            "overflow": null,
            "overflow_x": null,
            "overflow_y": null,
            "padding": null,
            "right": null,
            "top": null,
            "visibility": null,
            "width": null
          }
        },
        "8f96e8a2a0fa4595ab736474c58e0699": {
          "model_module": "@jupyter-widgets/base",
          "model_name": "LayoutModel",
          "model_module_version": "1.2.0",
          "state": {
            "_model_module": "@jupyter-widgets/base",
            "_model_module_version": "1.2.0",
            "_model_name": "LayoutModel",
            "_view_count": null,
            "_view_module": "@jupyter-widgets/base",
            "_view_module_version": "1.2.0",
            "_view_name": "LayoutView",
            "align_content": null,
            "align_items": null,
            "align_self": null,
            "border": null,
            "bottom": null,
            "display": null,
            "flex": null,
            "flex_flow": null,
            "grid_area": null,
            "grid_auto_columns": null,
            "grid_auto_flow": null,
            "grid_auto_rows": null,
            "grid_column": null,
            "grid_gap": null,
            "grid_row": null,
            "grid_template_areas": null,
            "grid_template_columns": null,
            "grid_template_rows": null,
            "height": null,
            "justify_content": null,
            "justify_items": null,
            "left": null,
            "margin": null,
            "max_height": null,
            "max_width": null,
            "min_height": null,
            "min_width": null,
            "object_fit": null,
            "object_position": null,
            "order": null,
            "overflow": null,
            "overflow_x": null,
            "overflow_y": null,
            "padding": null,
            "right": null,
            "top": null,
            "visibility": null,
            "width": null
          }
        },
        "4e4d16e93ae54cbb846da41da97f25b0": {
          "model_module": "@jupyter-widgets/controls",
          "model_name": "DescriptionStyleModel",
          "model_module_version": "1.5.0",
          "state": {
            "_model_module": "@jupyter-widgets/controls",
            "_model_module_version": "1.5.0",
            "_model_name": "DescriptionStyleModel",
            "_view_count": null,
            "_view_module": "@jupyter-widgets/base",
            "_view_module_version": "1.2.0",
            "_view_name": "StyleView",
            "description_width": ""
          }
        },
        "bb5bacf08f754026ad11b68e1fe0968a": {
          "model_module": "@jupyter-widgets/base",
          "model_name": "LayoutModel",
          "model_module_version": "1.2.0",
          "state": {
            "_model_module": "@jupyter-widgets/base",
            "_model_module_version": "1.2.0",
            "_model_name": "LayoutModel",
            "_view_count": null,
            "_view_module": "@jupyter-widgets/base",
            "_view_module_version": "1.2.0",
            "_view_name": "LayoutView",
            "align_content": null,
            "align_items": null,
            "align_self": null,
            "border": null,
            "bottom": null,
            "display": null,
            "flex": null,
            "flex_flow": null,
            "grid_area": null,
            "grid_auto_columns": null,
            "grid_auto_flow": null,
            "grid_auto_rows": null,
            "grid_column": null,
            "grid_gap": null,
            "grid_row": null,
            "grid_template_areas": null,
            "grid_template_columns": null,
            "grid_template_rows": null,
            "height": null,
            "justify_content": null,
            "justify_items": null,
            "left": null,
            "margin": null,
            "max_height": null,
            "max_width": null,
            "min_height": null,
            "min_width": null,
            "object_fit": null,
            "object_position": null,
            "order": null,
            "overflow": null,
            "overflow_x": null,
            "overflow_y": null,
            "padding": null,
            "right": null,
            "top": null,
            "visibility": null,
            "width": null
          }
        },
        "bc6416c8a258417daee95720e62f5a6e": {
          "model_module": "@jupyter-widgets/controls",
          "model_name": "ProgressStyleModel",
          "model_module_version": "1.5.0",
          "state": {
            "_model_module": "@jupyter-widgets/controls",
            "_model_module_version": "1.5.0",
            "_model_name": "ProgressStyleModel",
            "_view_count": null,
            "_view_module": "@jupyter-widgets/base",
            "_view_module_version": "1.2.0",
            "_view_name": "StyleView",
            "bar_color": null,
            "description_width": ""
          }
        },
        "e269babc596e4b919d6c24e0c3f819df": {
          "model_module": "@jupyter-widgets/base",
          "model_name": "LayoutModel",
          "model_module_version": "1.2.0",
          "state": {
            "_model_module": "@jupyter-widgets/base",
            "_model_module_version": "1.2.0",
            "_model_name": "LayoutModel",
            "_view_count": null,
            "_view_module": "@jupyter-widgets/base",
            "_view_module_version": "1.2.0",
            "_view_name": "LayoutView",
            "align_content": null,
            "align_items": null,
            "align_self": null,
            "border": null,
            "bottom": null,
            "display": null,
            "flex": null,
            "flex_flow": null,
            "grid_area": null,
            "grid_auto_columns": null,
            "grid_auto_flow": null,
            "grid_auto_rows": null,
            "grid_column": null,
            "grid_gap": null,
            "grid_row": null,
            "grid_template_areas": null,
            "grid_template_columns": null,
            "grid_template_rows": null,
            "height": null,
            "justify_content": null,
            "justify_items": null,
            "left": null,
            "margin": null,
            "max_height": null,
            "max_width": null,
            "min_height": null,
            "min_width": null,
            "object_fit": null,
            "object_position": null,
            "order": null,
            "overflow": null,
            "overflow_x": null,
            "overflow_y": null,
            "padding": null,
            "right": null,
            "top": null,
            "visibility": null,
            "width": null
          }
        },
        "d2ec131966774861b7b3601f0ae957dc": {
          "model_module": "@jupyter-widgets/controls",
          "model_name": "DescriptionStyleModel",
          "model_module_version": "1.5.0",
          "state": {
            "_model_module": "@jupyter-widgets/controls",
            "_model_module_version": "1.5.0",
            "_model_name": "DescriptionStyleModel",
            "_view_count": null,
            "_view_module": "@jupyter-widgets/base",
            "_view_module_version": "1.2.0",
            "_view_name": "StyleView",
            "description_width": ""
          }
        },
        "53645bbd9be343a49abe31f2f810c580": {
          "model_module": "@jupyter-widgets/controls",
          "model_name": "HBoxModel",
          "model_module_version": "1.5.0",
          "state": {
            "_dom_classes": [],
            "_model_module": "@jupyter-widgets/controls",
            "_model_module_version": "1.5.0",
            "_model_name": "HBoxModel",
            "_view_count": null,
            "_view_module": "@jupyter-widgets/controls",
            "_view_module_version": "1.5.0",
            "_view_name": "HBoxView",
            "box_style": "",
            "children": [
              "IPY_MODEL_4dcc9715c8e74da3b514bae6c0b3290d",
              "IPY_MODEL_a3a39ff6b32441839fcb63d2d0f63539",
              "IPY_MODEL_65e01d4eaac34f13a513548814f96bad"
            ],
            "layout": "IPY_MODEL_92b0fffcb9534351a53b46541b8d6260"
          }
        },
        "4dcc9715c8e74da3b514bae6c0b3290d": {
          "model_module": "@jupyter-widgets/controls",
          "model_name": "HTMLModel",
          "model_module_version": "1.5.0",
          "state": {
            "_dom_classes": [],
            "_model_module": "@jupyter-widgets/controls",
            "_model_module_version": "1.5.0",
            "_model_name": "HTMLModel",
            "_view_count": null,
            "_view_module": "@jupyter-widgets/controls",
            "_view_module_version": "1.5.0",
            "_view_name": "HTMLView",
            "description": "",
            "description_tooltip": null,
            "layout": "IPY_MODEL_ad28c55fa3a24229bafc11f9aa4945da",
            "placeholder": "​",
            "style": "IPY_MODEL_e044b2fa11ca49e0a59c06f260ddb1d7",
            "value": "Downloading special_tokens_map.json: 100%"
          }
        },
        "a3a39ff6b32441839fcb63d2d0f63539": {
          "model_module": "@jupyter-widgets/controls",
          "model_name": "FloatProgressModel",
          "model_module_version": "1.5.0",
          "state": {
            "_dom_classes": [],
            "_model_module": "@jupyter-widgets/controls",
            "_model_module_version": "1.5.0",
            "_model_name": "FloatProgressModel",
            "_view_count": null,
            "_view_module": "@jupyter-widgets/controls",
            "_view_module_version": "1.5.0",
            "_view_name": "ProgressView",
            "bar_style": "success",
            "description": "",
            "description_tooltip": null,
            "layout": "IPY_MODEL_45e34d583f2341cd9bed78c3e9591e0d",
            "max": 173,
            "min": 0,
            "orientation": "horizontal",
            "style": "IPY_MODEL_d002333dd6f44d12abeba003fdcba52d",
            "value": 173
          }
        },
        "65e01d4eaac34f13a513548814f96bad": {
          "model_module": "@jupyter-widgets/controls",
          "model_name": "HTMLModel",
          "model_module_version": "1.5.0",
          "state": {
            "_dom_classes": [],
            "_model_module": "@jupyter-widgets/controls",
            "_model_module_version": "1.5.0",
            "_model_name": "HTMLModel",
            "_view_count": null,
            "_view_module": "@jupyter-widgets/controls",
            "_view_module_version": "1.5.0",
            "_view_name": "HTMLView",
            "description": "",
            "description_tooltip": null,
            "layout": "IPY_MODEL_472ca78764e94967a4710a7a6f1cb274",
            "placeholder": "​",
            "style": "IPY_MODEL_d9a4c2fe918f4054ba9e2001fb849b11",
            "value": " 173/173 [00:00&lt;00:00, 5.86kB/s]"
          }
        },
        "92b0fffcb9534351a53b46541b8d6260": {
          "model_module": "@jupyter-widgets/base",
          "model_name": "LayoutModel",
          "model_module_version": "1.2.0",
          "state": {
            "_model_module": "@jupyter-widgets/base",
            "_model_module_version": "1.2.0",
            "_model_name": "LayoutModel",
            "_view_count": null,
            "_view_module": "@jupyter-widgets/base",
            "_view_module_version": "1.2.0",
            "_view_name": "LayoutView",
            "align_content": null,
            "align_items": null,
            "align_self": null,
            "border": null,
            "bottom": null,
            "display": null,
            "flex": null,
            "flex_flow": null,
            "grid_area": null,
            "grid_auto_columns": null,
            "grid_auto_flow": null,
            "grid_auto_rows": null,
            "grid_column": null,
            "grid_gap": null,
            "grid_row": null,
            "grid_template_areas": null,
            "grid_template_columns": null,
            "grid_template_rows": null,
            "height": null,
            "justify_content": null,
            "justify_items": null,
            "left": null,
            "margin": null,
            "max_height": null,
            "max_width": null,
            "min_height": null,
            "min_width": null,
            "object_fit": null,
            "object_position": null,
            "order": null,
            "overflow": null,
            "overflow_x": null,
            "overflow_y": null,
            "padding": null,
            "right": null,
            "top": null,
            "visibility": null,
            "width": null
          }
        },
        "ad28c55fa3a24229bafc11f9aa4945da": {
          "model_module": "@jupyter-widgets/base",
          "model_name": "LayoutModel",
          "model_module_version": "1.2.0",
          "state": {
            "_model_module": "@jupyter-widgets/base",
            "_model_module_version": "1.2.0",
            "_model_name": "LayoutModel",
            "_view_count": null,
            "_view_module": "@jupyter-widgets/base",
            "_view_module_version": "1.2.0",
            "_view_name": "LayoutView",
            "align_content": null,
            "align_items": null,
            "align_self": null,
            "border": null,
            "bottom": null,
            "display": null,
            "flex": null,
            "flex_flow": null,
            "grid_area": null,
            "grid_auto_columns": null,
            "grid_auto_flow": null,
            "grid_auto_rows": null,
            "grid_column": null,
            "grid_gap": null,
            "grid_row": null,
            "grid_template_areas": null,
            "grid_template_columns": null,
            "grid_template_rows": null,
            "height": null,
            "justify_content": null,
            "justify_items": null,
            "left": null,
            "margin": null,
            "max_height": null,
            "max_width": null,
            "min_height": null,
            "min_width": null,
            "object_fit": null,
            "object_position": null,
            "order": null,
            "overflow": null,
            "overflow_x": null,
            "overflow_y": null,
            "padding": null,
            "right": null,
            "top": null,
            "visibility": null,
            "width": null
          }
        },
        "e044b2fa11ca49e0a59c06f260ddb1d7": {
          "model_module": "@jupyter-widgets/controls",
          "model_name": "DescriptionStyleModel",
          "model_module_version": "1.5.0",
          "state": {
            "_model_module": "@jupyter-widgets/controls",
            "_model_module_version": "1.5.0",
            "_model_name": "DescriptionStyleModel",
            "_view_count": null,
            "_view_module": "@jupyter-widgets/base",
            "_view_module_version": "1.2.0",
            "_view_name": "StyleView",
            "description_width": ""
          }
        },
        "45e34d583f2341cd9bed78c3e9591e0d": {
          "model_module": "@jupyter-widgets/base",
          "model_name": "LayoutModel",
          "model_module_version": "1.2.0",
          "state": {
            "_model_module": "@jupyter-widgets/base",
            "_model_module_version": "1.2.0",
            "_model_name": "LayoutModel",
            "_view_count": null,
            "_view_module": "@jupyter-widgets/base",
            "_view_module_version": "1.2.0",
            "_view_name": "LayoutView",
            "align_content": null,
            "align_items": null,
            "align_self": null,
            "border": null,
            "bottom": null,
            "display": null,
            "flex": null,
            "flex_flow": null,
            "grid_area": null,
            "grid_auto_columns": null,
            "grid_auto_flow": null,
            "grid_auto_rows": null,
            "grid_column": null,
            "grid_gap": null,
            "grid_row": null,
            "grid_template_areas": null,
            "grid_template_columns": null,
            "grid_template_rows": null,
            "height": null,
            "justify_content": null,
            "justify_items": null,
            "left": null,
            "margin": null,
            "max_height": null,
            "max_width": null,
            "min_height": null,
            "min_width": null,
            "object_fit": null,
            "object_position": null,
            "order": null,
            "overflow": null,
            "overflow_x": null,
            "overflow_y": null,
            "padding": null,
            "right": null,
            "top": null,
            "visibility": null,
            "width": null
          }
        },
        "d002333dd6f44d12abeba003fdcba52d": {
          "model_module": "@jupyter-widgets/controls",
          "model_name": "ProgressStyleModel",
          "model_module_version": "1.5.0",
          "state": {
            "_model_module": "@jupyter-widgets/controls",
            "_model_module_version": "1.5.0",
            "_model_name": "ProgressStyleModel",
            "_view_count": null,
            "_view_module": "@jupyter-widgets/base",
            "_view_module_version": "1.2.0",
            "_view_name": "StyleView",
            "bar_color": null,
            "description_width": ""
          }
        },
        "472ca78764e94967a4710a7a6f1cb274": {
          "model_module": "@jupyter-widgets/base",
          "model_name": "LayoutModel",
          "model_module_version": "1.2.0",
          "state": {
            "_model_module": "@jupyter-widgets/base",
            "_model_module_version": "1.2.0",
            "_model_name": "LayoutModel",
            "_view_count": null,
            "_view_module": "@jupyter-widgets/base",
            "_view_module_version": "1.2.0",
            "_view_name": "LayoutView",
            "align_content": null,
            "align_items": null,
            "align_self": null,
            "border": null,
            "bottom": null,
            "display": null,
            "flex": null,
            "flex_flow": null,
            "grid_area": null,
            "grid_auto_columns": null,
            "grid_auto_flow": null,
            "grid_auto_rows": null,
            "grid_column": null,
            "grid_gap": null,
            "grid_row": null,
            "grid_template_areas": null,
            "grid_template_columns": null,
            "grid_template_rows": null,
            "height": null,
            "justify_content": null,
            "justify_items": null,
            "left": null,
            "margin": null,
            "max_height": null,
            "max_width": null,
            "min_height": null,
            "min_width": null,
            "object_fit": null,
            "object_position": null,
            "order": null,
            "overflow": null,
            "overflow_x": null,
            "overflow_y": null,
            "padding": null,
            "right": null,
            "top": null,
            "visibility": null,
            "width": null
          }
        },
        "d9a4c2fe918f4054ba9e2001fb849b11": {
          "model_module": "@jupyter-widgets/controls",
          "model_name": "DescriptionStyleModel",
          "model_module_version": "1.5.0",
          "state": {
            "_model_module": "@jupyter-widgets/controls",
            "_model_module_version": "1.5.0",
            "_model_name": "DescriptionStyleModel",
            "_view_count": null,
            "_view_module": "@jupyter-widgets/base",
            "_view_module_version": "1.2.0",
            "_view_name": "StyleView",
            "description_width": ""
          }
        }
      }
    }
  },
  "nbformat": 4,
  "nbformat_minor": 0
}